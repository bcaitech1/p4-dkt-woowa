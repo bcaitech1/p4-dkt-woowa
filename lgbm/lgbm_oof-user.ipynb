{
 "cells": [
  {
   "cell_type": "markdown",
   "id": "d6e5d299-d0d1-4cfd-8fa4-5ebb2a6d1152",
   "metadata": {},
   "source": [
    "# LightGBM"
   ]
  },
  {
   "cell_type": "code",
   "execution_count": 4,
   "id": "992f2153-5450-45c8-955f-f86478f7262f",
   "metadata": {},
   "outputs": [],
   "source": [
    "import pandas as pd\n",
    "import numpy as np\n",
    "import os\n",
    "import random\n",
    "import gc\n",
    "\n",
    "# Visualization\n",
    "import matplotlib.pyplot as plt\n",
    "import seaborn as sns\n",
    "\n",
    "from sklearn import preprocessing\n",
    "from sklearn.model_selection import KFold\n",
    "import pickle\n",
    "from datetime import datetime\n",
    "from tqdm.notebook import tqdm\n",
    "import time\n",
    "from IPython.display import Audio"
   ]
  },
  {
   "cell_type": "markdown",
   "id": "ed037319-92ed-4101-aaa0-54d5ee3ca809",
   "metadata": {},
   "source": [
    "## 1. Data Load"
   ]
  },
  {
   "cell_type": "code",
   "execution_count": 15,
   "id": "438ac38a-d220-4a4f-bc6a-d931bc778aec",
   "metadata": {
    "tags": []
   },
   "outputs": [],
   "source": [
    "# Load Train Data\n",
    "data_dir = '../input/data/train_dataset'\n",
    "csv_file_path = os.path.join(data_dir, 'train_data.csv')\n",
    "train_df = pd.read_csv(csv_file_path)\n",
    "\n",
    "# Load Test Data\n",
    "test_csv_file_path = os.path.join(data_dir, 'test_data.csv')\n",
    "test_df = pd.read_csv(test_csv_file_path)\n"
   ]
  },
  {
   "cell_type": "markdown",
   "id": "f0abd330-cfd4-49f3-8eaf-c31d1c6c7ba3",
   "metadata": {},
   "source": [
    "## 2. Feature Engineering 함수"
   ]
  },
  {
   "cell_type": "markdown",
   "id": "c42fa25f-024d-41a6-b844-3662e16f3c33",
   "metadata": {},
   "source": [
    "### elapsed_time & lag_time"
   ]
  },
  {
   "cell_type": "code",
   "execution_count": 17,
   "id": "a965e13a-2254-4314-b362-adfd16bbed1a",
   "metadata": {},
   "outputs": [],
   "source": [
    "# make elapsed_time & lag_time\n",
    "def convert_time(s):\n",
    "    timestamp = time.mktime(datetime.strptime(s, '%Y-%m-%d %H:%M:%S').timetuple())\n",
    "    return int(timestamp)\n",
    "\n",
    "def create_elapsed_time(df):\n",
    "    prev_timestamp = df.groupby(['userID', 'testId'])[['time_stamp']].shift()\n",
    "    df['elapsed_time'] = df['time_stamp'] - prev_timestamp['time_stamp']\n",
    "    df['elapsed_time'] = df['elapsed_time'].fillna(0)\n",
    "    return df\n",
    "\n",
    "def create_lag_time(df):\n",
    "    start_end_id_by_user_test = df.groupby(['userID','testId', 'day']).apply(lambda x: (x.index.values[0], x.index.values[-1])).reset_index()\n",
    "    start_end_id_by_user_test = start_end_id_by_user_test.sort_values(by=[0]).reset_index(drop=True)\n",
    "    start_row_id_by_user = start_end_id_by_user_test.groupby('userID').apply(lambda x: x.index.values[0])\n",
    "    \n",
    "    lag_time_list = [0]*len(df)\n",
    "    for start_row, end_row in tqdm(start_end_id_by_user_test [0][1:]):\n",
    "        start_time = df.time_stamp[start_row]\n",
    "        prev_time = df.time_stamp[start_row-1]\n",
    "        lag_time = start_time - prev_time\n",
    "        lag_time_list[start_row:end_row+1] = [lag_time]*(end_row-start_row+1)\n",
    "    \n",
    "    # 사용자가 바뀌는 부분 첫 시험지 lag_time은 0으로 변경\n",
    "    for user_start_idx in tqdm(start_row_id_by_user):\n",
    "        start, end = start_end_id_by_user_test .loc[user_start_idx][0]\n",
    "        lag_time_list[start:end+1] = [0]*(end-start+1)\n",
    "    \n",
    "    df['lag_time'] = lag_time_list\n",
    "    \n",
    "    return df"
   ]
  },
  {
   "cell_type": "markdown",
   "id": "fb8347ac-ffd5-4569-aa1c-85548c3edbf1",
   "metadata": {},
   "source": [
    "### user_recent_acc"
   ]
  },
  {
   "cell_type": "code",
   "execution_count": 18,
   "id": "217fe7af-fb9a-4f4d-b9dc-0ca2ecf28e16",
   "metadata": {},
   "outputs": [],
   "source": [
    "# make user_recent_acc\n",
    "def create_recent_acc(df, n=5):\n",
    "    def custom(pr, cnt, n):\n",
    "        if cnt < n:\n",
    "            return 0\n",
    "        else:\n",
    "            return pr\n",
    "    tmp_df = df.copy()\n",
    "    user_start_idx = df['userID'].diff() > 0\n",
    "    tmp_df['prior_ans_cnt']  = tmp_df.groupby('userID')['answerCode'].cumsum().shift(fill_value=0)\n",
    "    tmp_df['shift_prior_ans_cnt'] = tmp_df.groupby('userID')['answerCode'].cumsum().shift(fill_value=0)\n",
    "    tmp_df.loc[user_start_idx, ['prior_ans_cnt','shift_prior_ans_cnt']] = 0\n",
    "    tmp_df['shift_prior_ans_cnt'] = tmp_df['shift_prior_ans_cnt'].shift(n)\n",
    "    tmp_df['content'] = [1]*len(tmp_df)\n",
    "    tmp_df['prior_quest_cnt'] = tmp_df.groupby('userID')['content'].cumsum().shift(fill_value=0)\n",
    "    tmp_df['prior_quest_cnt'] = tmp_df['prior_quest_cnt'].apply(lambda x: n if x>n else x)\n",
    "    tmp_df.loc[user_start_idx, ['prior_quest_cnt']] = 0\n",
    "    tmp_df['shift_prior_ans_cnt'] = tmp_df.apply(lambda x: custom(x['shift_prior_ans_cnt'], x['prior_quest_cnt'], n), axis=1)\n",
    "    tmp_df['cnt'] = tmp_df['prior_ans_cnt'] - tmp_df['shift_prior_ans_cnt'] \n",
    "    df[f'user_recent_acc_{n}'] = (tmp_df['cnt'] / tmp_df['prior_quest_cnt']).fillna(0)\n",
    "    return df"
   ]
  },
  {
   "cell_type": "markdown",
   "id": "63e4207e-acb8-4ccd-be17-88d19591b0e2",
   "metadata": {},
   "source": [
    "### sum_rel_point"
   ]
  },
  {
   "cell_type": "code",
   "execution_count": 19,
   "id": "c56131c9-c996-45eb-af0a-aac0fdb85f16",
   "metadata": {},
   "outputs": [],
   "source": [
    "# make sum_rel_point, 'item_ans_rate' feature 사용\n",
    "def fill_rel_point(df):\n",
    "    arr = np.zeros(len(df))\n",
    "    start_idx = 0\n",
    "\n",
    "    for i in tqdm(range(len(df))):\n",
    "        row = df.iloc[i, :].copy()\n",
    "        answer = row['answerCode']\n",
    "        item_ans_rate = row['item_ans_rate']\n",
    "\n",
    "        if answer == 1:\n",
    "            arr[i] = 1 - item_ans_rate\n",
    "        elif answer == 0:\n",
    "            arr[i] = - item_ans_rate\n",
    "        elif answer == -1:\n",
    "            \n",
    "            avg_rel_point = np.mean(arr[start_idx : i])\n",
    "            start_idx = i + 1 \n",
    "            arr[i] = avg_rel_point\n",
    "\n",
    "    df['rel_point'] = pd.Series(arr)\n",
    "    return df\n",
    "\n",
    "def sum_point(df):\n",
    "    grouped = df.groupby('userID')['rel_point']\n",
    "    arr = np.zeros(len(df))\n",
    "    start_idx = 0\n",
    "    cnt = 0\n",
    "    for _, group in tqdm(grouped):\n",
    "        cnt += 1\n",
    "        point_sum = group.iloc[:len(group)-1].sum()\n",
    "        arr[start_idx:start_idx+len(group)] = point_sum\n",
    "        start_idx = start_idx + len(group)\n",
    "\n",
    "    df['sum_rel_point'] = pd.Series(arr)\n",
    "    return df"
   ]
  },
  {
   "cell_type": "markdown",
   "id": "44980d7a-ec14-438a-b5b5-63ce551737b5",
   "metadata": {},
   "source": [
    "### knowledgetag_stroke"
   ]
  },
  {
   "cell_type": "code",
   "execution_count": 20,
   "id": "f241d4ba-9a1b-47e6-9d6c-f8ffa7bb656f",
   "metadata": {
    "tags": []
   },
   "outputs": [],
   "source": [
    "# tag 연속으로 나온 횟수\n",
    "def knowledgetag_storke_feat_eng(df):\n",
    "    knowledgetags = df.KnowledgeTag\n",
    "    knowledgetag_stroke = np.zeros(knowledgetags.shape)\n",
    "    \n",
    "    for i, k in enumerate(knowledgetags):\n",
    "        if i == 0:\n",
    "            continue\n",
    "    \n",
    "        if k == knowledgetags[i-1]:\n",
    "            knowledgetag_stroke[i] = knowledgetag_stroke[i-1] + 1\n",
    "            \n",
    "    df['knowledgetag_stroke'] = knowledgetag_stroke\n",
    "    return df"
   ]
  },
  {
   "cell_type": "markdown",
   "id": "c034909c-e845-4cc0-be3e-735944d094b4",
   "metadata": {},
   "source": [
    "### testPre & testPost"
   ]
  },
  {
   "cell_type": "code",
   "execution_count": 21,
   "id": "060844ef-08e7-4203-b919-4995b6ce6dcd",
   "metadata": {},
   "outputs": [],
   "source": [
    "def testId_feat_eng(df):\n",
    "\n",
    "    df['testPre'] = df.testId.map(lambda x: x[1:4])\n",
    "    df['testPost'] = df.testId.map(lambda x: x[-3:])\n",
    "    \n",
    "    \n",
    "    feat_test_preId = df.groupby('testPre')['answerCode'].agg(['mean', 'sum'])\n",
    "    feat_test_preId.columns = [\"test_preId_mean\", 'test_preId_sum']\n",
    "    feat_test_postId = df.groupby('testPost')['answerCode'].agg(['mean', 'sum'])\n",
    "    feat_test_postId.columns = [\"test_postId_mean\", 'test_postId_sum']\n",
    "    \n",
    "    df = pd.merge(df, feat_test_preId, on=['testPre'], how=\"left\")\n",
    "    df = pd.merge(df, feat_test_postId, on=['testPost'], how=\"left\")\n",
    "    \n",
    "    df['testPre'] = df.testPre.map(int)\n",
    "    df['testPost'] = df.testPost.map(int)\n",
    "    \n",
    "    return df"
   ]
  },
  {
   "cell_type": "markdown",
   "id": "f56d11a2-a124-4c6d-ab82-2c9dbb6b0607",
   "metadata": {},
   "source": [
    "### ktag_acc"
   ]
  },
  {
   "cell_type": "code",
   "execution_count": 22,
   "id": "eb412c3b-0928-419d-9021-5f5c9631bab6",
   "metadata": {},
   "outputs": [],
   "source": [
    "# 매우 overfitting, 일단 폐기\n",
    "# # 유저별 ktag별 정답률\n",
    "# def user_ktag_acc(df):\n",
    "#     def rate(values):\n",
    "#         return sum(values) / len(values)\n",
    "#     df['user_ktag_acc'] = df.groupby(['userID', 'KnowledgeTag']).answerCode.transform(rate)\n",
    "#     return df\n",
    "\n",
    "# def user_ktag_mean(df):\n",
    "# # 유저별 ktag별 정답률과 ktag 전체 정답률(tag_mean) 평균\n",
    "#     df['user_ktag_mean'] = (df['tag_mean'] + df['user_ktag_acc']) / 2\n",
    "#     return df"
   ]
  },
  {
   "cell_type": "markdown",
   "id": "bec36de0-597e-4be6-8d79-968e3917c1d6",
   "metadata": {},
   "source": [
    "### tag9_ans_rate"
   ]
  },
  {
   "cell_type": "code",
   "execution_count": 23,
   "id": "d39c2bc4-f301-4262-b036-16be71a6b715",
   "metadata": {},
   "outputs": [],
   "source": [
    "# 유저별 대분류 정답률\n",
    "def tag9_ans_rate(df):\n",
    "    df['tag9'] = df['testId'].apply(lambda x : x[2])\n",
    "    def rate(values):\n",
    "        return sum(values) / len(values)\n",
    "    df['tag9_ans_rate'] = df.groupby(['userID', 'tag9']).answerCode.transform(rate)\n",
    "    return df"
   ]
  },
  {
   "cell_type": "markdown",
   "id": "3d061189-0a38-4821-bef9-05bec0d6f8c8",
   "metadata": {},
   "source": [
    "### user_test_time_acc"
   ]
  },
  {
   "cell_type": "code",
   "execution_count": 24,
   "id": "889be371-9a03-4e80-a739-1bdb5d8ee0a4",
   "metadata": {},
   "outputs": [],
   "source": [
    "def seperate_time(t):\n",
    "    if t.hour < 6:\n",
    "        # 새벽\n",
    "        return 0\n",
    "    elif t.hour < 12:\n",
    "        # 오전\n",
    "        return 1\n",
    "    elif t.hour < 18:\n",
    "        # 오후\n",
    "        return 2\n",
    "    else:\n",
    "        # 밤\n",
    "        return 3\n",
    "\n",
    "def u_test_time_acc(df):\n",
    "    timestamps = pd.to_datetime(df.Timestamp)\n",
    "    timestamps = timestamps.map(seperate_time)\n",
    "    df['test_time'] = timestamps\n",
    "    def rate(values):\n",
    "        return sum(values) / len(values)\n",
    "    df['u_test_time_acc'] = df.groupby(['userID', 'test_time']).answerCode.transform(rate)\n",
    "    return df"
   ]
  },
  {
   "cell_type": "markdown",
   "id": "63651e93-94d9-44c5-a31c-cc72a20f3f0f",
   "metadata": {},
   "source": [
    "### feature_engineering 함수"
   ]
  },
  {
   "cell_type": "code",
   "execution_count": 25,
   "id": "811d7619-19c7-40aa-acc6-8f9f5b1c0637",
   "metadata": {},
   "outputs": [],
   "source": [
    "def feature_engineering(df):\n",
    "    assessmentItemID_mean_dict = df.groupby('assessmentItemID').mean().to_dict()\n",
    "    \n",
    "    #유저별 시퀀스를 고려하기 위해 아래와 같이 정렬\n",
    "    df.sort_values(by=['userID','Timestamp'], inplace=True)\n",
    "    \n",
    "    df['day'] = df.Timestamp.apply(lambda x:x.split()[0])\n",
    "    #유저들의 문제 풀이수, 정답 수, 정답률을 시간순으로 누적해서 계산\n",
    "    df['user_correct_answer'] = df.groupby('userID')['answerCode'].transform(lambda x: x.cumsum().shift(1))\n",
    "    df['user_correct_answer'] = df['user_correct_answer'].fillna(0)\n",
    "    df['user_total_answer'] = df.groupby('userID')['answerCode'].cumcount()\n",
    "    df['user_acc'] = df['user_correct_answer']/df['user_total_answer']\n",
    "    df['user_acc'] = df['user_acc'].fillna(0)\n",
    "\n",
    "    # testId와 KnowledgeTag의 전체 정답률은 한번에 계산\n",
    "    # 아래 데이터는 제출용 데이터셋에 대해서도 재사용\n",
    "    correct_t = df.groupby(['testId'])['answerCode'].agg(['mean', 'sum'])\n",
    "    correct_t.columns = [\"test_mean\", 'test_sum']\n",
    "    correct_k = df.groupby(['KnowledgeTag'])['answerCode'].agg(['mean', 'sum'])\n",
    "    correct_k.columns = [\"tag_mean\", 'tag_sum']\n",
    "\n",
    "    df = pd.merge(df, correct_t, on=['testId'], how=\"left\")\n",
    "    df = pd.merge(df, correct_k, on=['KnowledgeTag'], how=\"left\")\n",
    "    \n",
    "    \n",
    "    # custom features\n",
    "    \n",
    "    \n",
    "    # item_ans_rate: 문항별 정답률\n",
    "    df['item_ans_rate'] = df.assessmentItemID.map(assessmentItemID_mean_dict['answerCode'])\n",
    "    \n",
    "    # elapsed time & lag_time\n",
    "    df['time_stamp'] = df['Timestamp'].apply(convert_time)\n",
    "    df = create_elapsed_time(df)\n",
    "    df = create_lag_time(df)\n",
    "    \n",
    "    # user_recent_acc\n",
    "    for i in tqdm([5, 10, 30, 50, 100]):\n",
    "        df = create_recent_acc(df, n=i)\n",
    "    \n",
    "    # sum_rel_point\n",
    "    df = fill_rel_point(df)\n",
    "    df = sum_point(df)\n",
    "    # normalize sum_rel_point\n",
    "    max_, min_ = max(df['sum_rel_point']), min(df['sum_rel_point'])\n",
    "    df['sum_rel_point'] = (df['sum_rel_point'] - min_) / (max_ - min_)\n",
    "    \n",
    "    # user_ktag_acc 말도 안되게 overfitting됨.\n",
    "#     df = user_ktag_acc(df)\n",
    "    \n",
    "    # tag9_ans_rate\n",
    "    df = tag9_ans_rate(df)\n",
    "    \n",
    "    # knowledgetag_stroke\n",
    "    df = knowledgetag_storke_feat_eng(df)\n",
    "    \n",
    "    # testPre & testPost\n",
    "    df = testId_feat_eng(df)\n",
    "    \n",
    "    # u_test_time_acc(df) 유저별 시간대(test_time) 정답률\n",
    "    df = u_test_time_acc(df)\n",
    "    \n",
    "    return df"
   ]
  },
  {
   "cell_type": "markdown",
   "id": "90fee420-c168-4766-8f46-e7fdd13dfd3d",
   "metadata": {},
   "source": [
    "## 3. Make Train/Valid Dataset"
   ]
  },
  {
   "cell_type": "markdown",
   "id": "a847de97-24bf-4be4-9b5f-cd3c19e969b6",
   "metadata": {},
   "source": [
    "### Data split / FE"
   ]
  },
  {
   "cell_type": "code",
   "execution_count": 26,
   "id": "9d3aa1a7-4ea1-485c-8570-fbcdea360a2a",
   "metadata": {},
   "outputs": [],
   "source": [
    "# make total_train dataset\n",
    "total_train = pd.concat([train_df, test_df[test_df.answerCode!=-1]], ignore_index=True)"
   ]
  },
  {
   "cell_type": "code",
   "execution_count": 27,
   "id": "e5e1da34-2cd6-40ec-9c05-c0b42fe596a8",
   "metadata": {},
   "outputs": [
    {
     "data": {
      "application/vnd.jupyter.widget-view+json": {
       "model_id": "6c094b47272e48ccbac41616b00be9d3",
       "version_major": 2,
       "version_minor": 0
      },
      "text/plain": [
       "  0%|          | 0/417882 [00:00<?, ?it/s]"
      ]
     },
     "metadata": {},
     "output_type": "display_data"
    },
    {
     "data": {
      "application/vnd.jupyter.widget-view+json": {
       "model_id": "a243641ae4e14d0983112702605ee911",
       "version_major": 2,
       "version_minor": 0
      },
      "text/plain": [
       "  0%|          | 0/7442 [00:00<?, ?it/s]"
      ]
     },
     "metadata": {},
     "output_type": "display_data"
    },
    {
     "data": {
      "application/vnd.jupyter.widget-view+json": {
       "model_id": "e12c8d11922c47b793c54ffaad57a876",
       "version_major": 2,
       "version_minor": 0
      },
      "text/plain": [
       "  0%|          | 0/5 [00:00<?, ?it/s]"
      ]
     },
     "metadata": {},
     "output_type": "display_data"
    },
    {
     "data": {
      "application/vnd.jupyter.widget-view+json": {
       "model_id": "2fb68b3b843448d08300a47767faed68",
       "version_major": 2,
       "version_minor": 0
      },
      "text/plain": [
       "  0%|          | 0/2525956 [00:00<?, ?it/s]"
      ]
     },
     "metadata": {},
     "output_type": "display_data"
    },
    {
     "data": {
      "application/vnd.jupyter.widget-view+json": {
       "model_id": "01855e69444c427381e8fac4750284a7",
       "version_major": 2,
       "version_minor": 0
      },
      "text/plain": [
       "  0%|          | 0/7442 [00:00<?, ?it/s]"
      ]
     },
     "metadata": {},
     "output_type": "display_data"
    },
    {
     "name": "stdout",
     "output_type": "stream",
     "text": [
      "CPU times: user 18min 58s, sys: 21.7 s, total: 19min 20s\n",
      "Wall time: 19min 15s\n"
     ]
    }
   ],
   "source": [
    "%%time\n",
    "# FE total_train\n",
    "total_train = feature_engineering(total_train)"
   ]
  },
  {
   "cell_type": "code",
   "execution_count": 159,
   "id": "a80c2874-b268-4138-919d-270c2046a6c4",
   "metadata": {},
   "outputs": [],
   "source": [
    "# total_train.to_csv(\"df/df.csv\", index=False) # df -> csv"
   ]
  },
  {
   "cell_type": "code",
   "execution_count": 34,
   "id": "bb6dc723-87f1-467f-90af-8eb8ac4730e6",
   "metadata": {},
   "outputs": [
    {
     "name": "stdout",
     "output_type": "stream",
     "text": [
      "CPU times: user 20 ms, sys: 0 ns, total: 20 ms\n",
      "Wall time: 19 ms\n"
     ]
    }
   ],
   "source": [
    "%%time\n",
    "# VALID set: LEAVE LAST SECOND INTERACTION (users in test_data.csv)\n",
    "test_tmp = test_df[test_df['answerCode'].isin([0, 1])]\n",
    "valid = test_tmp[test_tmp['userID'] != test_tmp['userID'].shift(-1)]\n",
    "y_valid = valid['answerCode']"
   ]
  },
  {
   "cell_type": "code",
   "execution_count": 37,
   "id": "fe36c2a5-e381-4616-84b2-41bdfe4a44cf",
   "metadata": {
    "tags": []
   },
   "outputs": [
    {
     "data": {
      "application/vnd.jupyter.widget-view+json": {
       "model_id": "4003d4673a2f461eb46b468ab370b322",
       "version_major": 2,
       "version_minor": 0
      },
      "text/plain": [
       "  0%|          | 0/417879 [00:00<?, ?it/s]"
      ]
     },
     "metadata": {},
     "output_type": "display_data"
    },
    {
     "data": {
      "application/vnd.jupyter.widget-view+json": {
       "model_id": "6a0243e5605142e686dfb63b3e5431f0",
       "version_major": 2,
       "version_minor": 0
      },
      "text/plain": [
       "  0%|          | 0/7442 [00:00<?, ?it/s]"
      ]
     },
     "metadata": {},
     "output_type": "display_data"
    },
    {
     "data": {
      "application/vnd.jupyter.widget-view+json": {
       "model_id": "602100ab7b7f4e7cb4397d55b06d7ab2",
       "version_major": 2,
       "version_minor": 0
      },
      "text/plain": [
       "  0%|          | 0/5 [00:00<?, ?it/s]"
      ]
     },
     "metadata": {},
     "output_type": "display_data"
    },
    {
     "data": {
      "application/vnd.jupyter.widget-view+json": {
       "model_id": "e64471a314b24733bc0a9784327a1e32",
       "version_major": 2,
       "version_minor": 0
      },
      "text/plain": [
       "  0%|          | 0/2525212 [00:00<?, ?it/s]"
      ]
     },
     "metadata": {},
     "output_type": "display_data"
    },
    {
     "data": {
      "application/vnd.jupyter.widget-view+json": {
       "model_id": "da3afb1c0b474f7f820b3147c39bc6c4",
       "version_major": 2,
       "version_minor": 0
      },
      "text/plain": [
       "  0%|          | 0/7442 [00:00<?, ?it/s]"
      ]
     },
     "metadata": {},
     "output_type": "display_data"
    },
    {
     "name": "stderr",
     "output_type": "stream",
     "text": [
      "/opt/conda/lib/python3.7/site-packages/ipykernel_launcher.py:5: SettingWithCopyWarning: \n",
      "A value is trying to be set on a copy of a slice from a DataFrame\n",
      "\n",
      "See the caveats in the documentation: https://pandas.pydata.org/pandas-docs/stable/user_guide/indexing.html#returning-a-view-versus-a-copy\n",
      "  \"\"\"\n",
      "/opt/conda/lib/python3.7/site-packages/ipykernel_launcher.py:7: SettingWithCopyWarning: \n",
      "A value is trying to be set on a copy of a slice from a DataFrame.\n",
      "Try using .loc[row_indexer,col_indexer] = value instead\n",
      "\n",
      "See the caveats in the documentation: https://pandas.pydata.org/pandas-docs/stable/user_guide/indexing.html#returning-a-view-versus-a-copy\n",
      "  import sys\n",
      "/opt/conda/lib/python3.7/site-packages/ipykernel_launcher.py:9: SettingWithCopyWarning: \n",
      "A value is trying to be set on a copy of a slice from a DataFrame.\n",
      "Try using .loc[row_indexer,col_indexer] = value instead\n",
      "\n",
      "See the caveats in the documentation: https://pandas.pydata.org/pandas-docs/stable/user_guide/indexing.html#returning-a-view-versus-a-copy\n",
      "  if __name__ == '__main__':\n",
      "/opt/conda/lib/python3.7/site-packages/ipykernel_launcher.py:10: SettingWithCopyWarning: \n",
      "A value is trying to be set on a copy of a slice from a DataFrame.\n",
      "Try using .loc[row_indexer,col_indexer] = value instead\n",
      "\n",
      "See the caveats in the documentation: https://pandas.pydata.org/pandas-docs/stable/user_guide/indexing.html#returning-a-view-versus-a-copy\n",
      "  # Remove the CWD from sys.path while we load stuff.\n",
      "/opt/conda/lib/python3.7/site-packages/ipykernel_launcher.py:11: SettingWithCopyWarning: \n",
      "A value is trying to be set on a copy of a slice from a DataFrame.\n",
      "Try using .loc[row_indexer,col_indexer] = value instead\n",
      "\n",
      "See the caveats in the documentation: https://pandas.pydata.org/pandas-docs/stable/user_guide/indexing.html#returning-a-view-versus-a-copy\n",
      "  # This is added back by InteractiveShellApp.init_path()\n",
      "/opt/conda/lib/python3.7/site-packages/ipykernel_launcher.py:12: SettingWithCopyWarning: \n",
      "A value is trying to be set on a copy of a slice from a DataFrame.\n",
      "Try using .loc[row_indexer,col_indexer] = value instead\n",
      "\n",
      "See the caveats in the documentation: https://pandas.pydata.org/pandas-docs/stable/user_guide/indexing.html#returning-a-view-versus-a-copy\n",
      "  if sys.path[0] == '':\n",
      "/opt/conda/lib/python3.7/site-packages/ipykernel_launcher.py:13: SettingWithCopyWarning: \n",
      "A value is trying to be set on a copy of a slice from a DataFrame.\n",
      "Try using .loc[row_indexer,col_indexer] = value instead\n",
      "\n",
      "See the caveats in the documentation: https://pandas.pydata.org/pandas-docs/stable/user_guide/indexing.html#returning-a-view-versus-a-copy\n",
      "  del sys.path[0]\n"
     ]
    },
    {
     "data": {
      "application/vnd.jupyter.widget-view+json": {
       "model_id": "d73d2c447fbb4de397eae1fbc3b3869f",
       "version_major": 2,
       "version_minor": 0
      },
      "text/plain": [
       "  0%|          | 0/743 [00:00<?, ?it/s]"
      ]
     },
     "metadata": {},
     "output_type": "display_data"
    },
    {
     "data": {
      "application/vnd.jupyter.widget-view+json": {
       "model_id": "8ac2dee13ca045ee9924c308f7ea9a92",
       "version_major": 2,
       "version_minor": 0
      },
      "text/plain": [
       "  0%|          | 0/744 [00:00<?, ?it/s]"
      ]
     },
     "metadata": {},
     "output_type": "display_data"
    },
    {
     "data": {
      "application/vnd.jupyter.widget-view+json": {
       "model_id": "a31c33c2b21249bbba72bf4116e76a1d",
       "version_major": 2,
       "version_minor": 0
      },
      "text/plain": [
       "  0%|          | 0/5 [00:00<?, ?it/s]"
      ]
     },
     "metadata": {},
     "output_type": "display_data"
    },
    {
     "data": {
      "application/vnd.jupyter.widget-view+json": {
       "model_id": "710245c68b054ceaaecb59d886f0c5b2",
       "version_major": 2,
       "version_minor": 0
      },
      "text/plain": [
       "  0%|          | 0/744 [00:00<?, ?it/s]"
      ]
     },
     "metadata": {},
     "output_type": "display_data"
    },
    {
     "data": {
      "application/vnd.jupyter.widget-view+json": {
       "model_id": "30b836c0419040b3953fb15910f4e758",
       "version_major": 2,
       "version_minor": 0
      },
      "text/plain": [
       "  0%|          | 0/744 [00:00<?, ?it/s]"
      ]
     },
     "metadata": {},
     "output_type": "display_data"
    }
   ],
   "source": [
    "# make train dataset\n",
    "test_tr = test_tr.drop(valid.index)\n",
    "train = pd.concat([train_df, test_tr], ignore_index=True)\n",
    "\n",
    "# FE train / valid dataset\n",
    "train = feature_engineering(train)\n",
    "valid = feature_engineering(valid)"
   ]
  },
  {
   "cell_type": "markdown",
   "id": "93cbf1f7-346b-460b-8964-1fbd46322e92",
   "metadata": {},
   "source": [
    "### fold별 유저 그룹화"
   ]
  },
  {
   "cell_type": "code",
   "execution_count": 40,
   "id": "7d8a6f2a-d191-43bb-8ecf-e10dd83a9ab2",
   "metadata": {},
   "outputs": [],
   "source": [
    "from collections import defaultdict\n",
    "FOLD = 10\n",
    "def fold_user_split(df):\n",
    "    users = list(zip(df['userID'].value_counts().index, df['userID'].value_counts()))\n",
    "    users_fold_dict = defaultdict(list)\n",
    "    cnt = 1\n",
    "    for user_id, _ in users:\n",
    "        if cnt > FOLD:\n",
    "            cnt = 1\n",
    "        users_fold_dict[cnt].append(user_id)\n",
    "        cnt += 1\n",
    "    return users_fold_dict\n",
    "    # FOLD=10 -> fold 1(755) 빼고 각 fold별 744개 userID들로 분리됨."
   ]
  },
  {
   "cell_type": "code",
   "execution_count": 41,
   "id": "589bcc54-1845-463a-9c5a-c9becc7f9ea4",
   "metadata": {},
   "outputs": [],
   "source": [
    "# userID FOLD개 list를 dict에 저장 (all users including test file)\n",
    "users_fold_dict = fold_user_split(total_train)"
   ]
  },
  {
   "cell_type": "markdown",
   "id": "4dc2b239-269f-4bf7-acca-dd3a71297738",
   "metadata": {},
   "source": [
    "## 4. 훈련 및 검증"
   ]
  },
  {
   "cell_type": "markdown",
   "id": "6520aac1-a929-4a73-9efb-36dd5596d477",
   "metadata": {},
   "source": [
    "### 평가지표 출력 함수 정의"
   ]
  },
  {
   "cell_type": "code",
   "execution_count": 42,
   "id": "9a18cc3c-49f2-458e-a483-447b534282f0",
   "metadata": {},
   "outputs": [],
   "source": [
    "def print_score(label, pred, prob_thres=0.5):\n",
    "    print('PRINT VALIDATION SCORE')\n",
    "    print('Precision: {:.5f}'.format(precision_score(label, pred>prob_thres)))\n",
    "    print('ROC AUC Score: {:.5f}'.format(roc_auc_score(label, pred)))"
   ]
  },
  {
   "cell_type": "markdown",
   "id": "b210df92-7923-4132-b4b9-d72d16ee1222",
   "metadata": {},
   "source": [
    "### LightGBM cross validation out of fold train/predict 함수 정의"
   ]
  },
  {
   "cell_type": "code",
   "execution_count": 43,
   "id": "1c1133da-1ac5-4098-aef3-bd46751821c6",
   "metadata": {},
   "outputs": [],
   "source": [
    "import lightgbm as lgb\n",
    "from sklearn.metrics import accuracy_score, roc_auc_score, precision_score"
   ]
  },
  {
   "cell_type": "code",
   "execution_count": 44,
   "id": "a39b1f8e-5092-40ee-85b0-a505b6bf7762",
   "metadata": {},
   "outputs": [],
   "source": [
    "# custom\n",
    "def make_lgb_oof_pred(train, test, features, model_params=None):\n",
    "    # train data의 answercode\n",
    "    y = train['answerCode']\n",
    "    \n",
    "    x_test = test[features]\n",
    "    \n",
    "    # 테스트 데이터 예측값을 저장할 변수\n",
    "    test_preds = np.zeros(test.shape[0])\n",
    "    \n",
    "    # Out Of Fold Validation 예측 데이터를 저장할 변수\n",
    "    y_oof = np.zeros(train.shape[0])\n",
    "    \n",
    "    # 폴드별 평균 Validation 스코어를 저장할 변수\n",
    "    score_auc = 0\n",
    "    score_acc = 0\n",
    "    \n",
    "    # 피처 중요도를 저장할 데이터 프레임 선언\n",
    "    fi = pd.DataFrame()\n",
    "    fi['feature'] = features\n",
    "    \n",
    "    # KFold\n",
    "    for fold in range(1, FOLD + 1):\n",
    "        # train / valid 유저별 분리\n",
    "        x_tr = train[train['userID'].isin(users_fold_dict[fold]) == False]\n",
    "        x_val = train[train['userID'].isin(users_fold_dict[fold])]\n",
    "        \n",
    "        tr_idx, val_idx = x_tr.index.values, x_val.index.values\n",
    "        \n",
    "        # X, y 값 분리\n",
    "        y_tr, y_val = x_tr['answerCode'], x_val['answerCode']\n",
    "        x_tr, x_val = x_tr.drop(['answerCode'], axis=1)[FEATS], x_val.drop(['answerCode'], axis=1)[FEATS]\n",
    "        \n",
    "        y_tr, y_val = y[tr_idx], y[val_idx]\n",
    "        \n",
    "        print(f'fold: {fold}, x_train.shape: {x_tr.shape}, x_val.shape: {x_val.shape}')\n",
    "\n",
    "        # LightGBM 데이터셋 선언\n",
    "        dtrain = lgb.Dataset(x_tr, y_tr)\n",
    "        dvalid = lgb.Dataset(x_val,y_val)\n",
    "        \n",
    "        # LightGBM 모델 훈련\n",
    "        clf = lgb.train(\n",
    "            model_params,\n",
    "            dtrain,\n",
    "            valid_sets=[dtrain, dvalid], # Validation 성능을 측정할 수 있도록 설정\n",
    "            verbose_eval=100\n",
    "        )\n",
    "\n",
    "        # Validation 데이터 예측\n",
    "        val_preds = clf.predict(x_val)\n",
    "        \n",
    "        # Validation index에 예측값 저장 \n",
    "        y_oof[val_idx] = val_preds\n",
    "        \n",
    "        # 폴드별 Validation 스코어 측정\n",
    "        print(f\"Fold {fold} | AUC: {roc_auc_score(y_val, val_preds)}\")\n",
    "        print('-'*80)\n",
    "\n",
    "        # score 변수에 폴드별 평균 Validation 스코어 저장\n",
    "        score_auc += roc_auc_score(y_val, val_preds) / FOLD\n",
    "        score_acc += accuracy_score(y_val, np.where(val_preds >= 0.5, 1, 0)) / FOLD\n",
    "        \n",
    "        # 테스트 데이터 예측하고 평균해서 저장\n",
    "        test_preds += clf.predict(x_test) / FOLD\n",
    "        \n",
    "        # 폴드별 피처 중요도 저장\n",
    "        fi[f'fold_{fold}'] = clf.feature_importance()\n",
    "\n",
    "        del x_tr, x_val, y_tr, y_val\n",
    "        gc.collect()\n",
    "        \n",
    "    print(f\"\\nMean AUC = {score_auc}\") # 폴드별 평균 Validation 스코어 출력\n",
    "    print(f\"Mean ACC = {score_acc}\")\n",
    "    print(f\"\\nOOF ACC = {accuracy_score(y, np.where(y_oof >= 0.5, 1, 0))}\")\n",
    "    print(f\"OOF AUC = {roc_auc_score(y, y_oof)}\") # Out Of Fold Validation 스코어 출력\n",
    "        \n",
    "    # 폴드별 피처 중요도 평균값 계산해서 저장 \n",
    "    fi_cols = [col for col in fi.columns if 'fold_' in col]\n",
    "    fi['importance'] = fi[fi_cols].mean(axis=1)\n",
    "    \n",
    "    return y_oof, test_preds, fi"
   ]
  },
  {
   "cell_type": "markdown",
   "id": "8feed108-d933-4ff2-aea4-0684ee2586bb",
   "metadata": {},
   "source": [
    "### 피처 중요도 플롯 함수 정의"
   ]
  },
  {
   "cell_type": "code",
   "execution_count": 45,
   "id": "334b68a1-5efe-45af-a37b-1b7739e1af51",
   "metadata": {},
   "outputs": [],
   "source": [
    "def plot_feature_importances(df, n=20, color='blue', figsize=(12,8)):\n",
    "    # 피처 중요도 순으로 내림차순 정렬\n",
    "    df = df.sort_values('importance', ascending = False).reset_index(drop = True)\n",
    "    \n",
    "    # 피처 중요도 정규화 및 누적 중요도 계산\n",
    "    df['importance_normalized'] = df['importance'] / df['importance'].sum()\n",
    "    df['cumulative_importance'] = np.cumsum(df['importance_normalized'])\n",
    "    \n",
    "    plt.rcParams['font.size'] = 12\n",
    "    plt.style.use('fivethirtyeight')\n",
    "    # 피처 중요도 순으로 n개까지 바플롯으로 그리기\n",
    "    df.loc[:n, :].plot.barh(y='importance_normalized', \n",
    "                            x='feature', color=color, \n",
    "                            edgecolor='k', figsize=figsize,\n",
    "                            legend=False)\n",
    "\n",
    "    plt.xlabel('Normalized Importance', size=18); plt.ylabel(''); \n",
    "    plt.title(f'Top {n} Most Important Features', size=18)\n",
    "    plt.gca().invert_yaxis()\n",
    "    \n",
    "    return df"
   ]
  },
  {
   "cell_type": "code",
   "execution_count": 46,
   "id": "de14bfa8-90d7-4158-bd53-b5c1d0d13164",
   "metadata": {},
   "outputs": [
    {
     "data": {
      "text/plain": [
       "Index(['userID', 'assessmentItemID', 'testId', 'answerCode', 'Timestamp',\n",
       "       'KnowledgeTag', 'day', 'user_correct_answer', 'user_total_answer',\n",
       "       'user_acc', 'test_mean', 'test_sum', 'tag_mean', 'tag_sum',\n",
       "       'item_ans_rate', 'time_stamp', 'elapsed_time', 'lag_time',\n",
       "       'user_recent_acc_5', 'user_recent_acc_10', 'user_recent_acc_30',\n",
       "       'user_recent_acc_50', 'user_recent_acc_100', 'rel_point',\n",
       "       'sum_rel_point', 'tag9', 'tag9_ans_rate', 'knowledgetag_stroke',\n",
       "       'testPre', 'testPost', 'test_preId_mean', 'test_preId_sum',\n",
       "       'test_postId_mean', 'test_postId_sum', 'test_time', 'u_test_time_acc'],\n",
       "      dtype='object')"
      ]
     },
     "execution_count": 46,
     "metadata": {},
     "output_type": "execute_result"
    }
   ],
   "source": [
    "train.columns"
   ]
  },
  {
   "cell_type": "markdown",
   "id": "d96f739d-7610-4e04-98dc-aabf58846611",
   "metadata": {
    "tags": []
   },
   "source": [
    "### 사용할 feature 설정"
   ]
  },
  {
   "cell_type": "code",
   "execution_count": 47,
   "id": "1933d3ad-615d-461f-ae3d-89ce7b3c01f8",
   "metadata": {},
   "outputs": [],
   "source": [
    "# 사용할 Feature 설정\n",
    "FEATS = ['KnowledgeTag', 'tag_sum', 'test_sum', 'testPost', 'test_postId_mean', 'test_preId_mean',\n",
    "         'user_acc', 'test_mean', 'tag_mean',\n",
    "         'elapsed_time', 'lag_time', 'item_ans_rate', #'u_test_time_acc',\n",
    "         'user_recent_acc_5', 'user_recent_acc_10', 'user_recent_acc_30', 'user_recent_acc_50', 'user_recent_acc_100',\n",
    "        'sum_rel_point', 'knowledgetag_stroke', 'testPre', 'test_time']#, 'tag9_ans_rate']"
   ]
  },
  {
   "cell_type": "markdown",
   "id": "01559d33-c031-4516-82c8-061ee2c0eb02",
   "metadata": {},
   "source": [
    "### Hyperparameter 선언"
   ]
  },
  {
   "cell_type": "code",
   "execution_count": 48,
   "id": "249a41fe-66a8-4972-b381-4ae4556325af",
   "metadata": {},
   "outputs": [],
   "source": [
    "SEED = 42\n",
    "params = {'objective': 'binary',\n",
    "          'metric': 'auc',\n",
    "          'boosting_type': 'gbdt',\n",
    "          'seed': 42,\n",
    "          'num_leaves': 45,\n",
    "          'learning_rate': 0.1\n",
    "         }"
   ]
  },
  {
   "cell_type": "markdown",
   "id": "8205fbbd-e73e-4020-88e4-c48bf5e39bca",
   "metadata": {},
   "source": [
    "### Train validation 성능 측정"
   ]
  },
  {
   "cell_type": "code",
   "execution_count": 49,
   "id": "57dd48ba-0b87-41a3-b3ad-f59e1016a5e7",
   "metadata": {
    "tags": []
   },
   "outputs": [
    {
     "name": "stdout",
     "output_type": "stream",
     "text": [
      "fold: 1, x_train.shape: (2271823, 21), x_val.shape: (253389, 21)\n",
      "[LightGBM] [Info] Number of positive: 1489198, number of negative: 782625\n",
      "[LightGBM] [Warning] Auto-choosing row-wise multi-threading, the overhead of testing was 0.058249 seconds.\n",
      "You can set `force_row_wise=true` to remove the overhead.\n",
      "And if memory is not enough, you can set `force_col_wise=true`.\n",
      "[LightGBM] [Info] Total Bins 3723\n",
      "[LightGBM] [Info] Number of data points in the train set: 2271823, number of used features: 21\n",
      "[LightGBM] [Info] [binary:BoostFromScore]: pavg=0.655508 -> initscore=0.643339\n",
      "[LightGBM] [Info] Start training from score 0.643339\n",
      "[100]\ttraining's auc: 0.846148\tvalid_1's auc: 0.842482\n",
      "Fold 1 | AUC: 0.8424817999345044\n",
      "--------------------------------------------------------------------------------\n",
      "fold: 2, x_train.shape: (2271998, 21), x_val.shape: (253214, 21)\n",
      "[LightGBM] [Info] Number of positive: 1489262, number of negative: 782736\n",
      "[LightGBM] [Warning] Auto-choosing row-wise multi-threading, the overhead of testing was 0.058267 seconds.\n",
      "You can set `force_row_wise=true` to remove the overhead.\n",
      "And if memory is not enough, you can set `force_col_wise=true`.\n",
      "[LightGBM] [Info] Total Bins 3723\n",
      "[LightGBM] [Info] Number of data points in the train set: 2271998, number of used features: 21\n",
      "[LightGBM] [Info] [binary:BoostFromScore]: pavg=0.655486 -> initscore=0.643240\n",
      "[LightGBM] [Info] Start training from score 0.643240\n",
      "[100]\ttraining's auc: 0.845588\tvalid_1's auc: 0.848065\n",
      "Fold 2 | AUC: 0.8480652309404788\n",
      "--------------------------------------------------------------------------------\n",
      "fold: 3, x_train.shape: (2272275, 21), x_val.shape: (252937, 21)\n",
      "[LightGBM] [Info] Number of positive: 1487445, number of negative: 784830\n",
      "[LightGBM] [Warning] Auto-choosing row-wise multi-threading, the overhead of testing was 0.060880 seconds.\n",
      "You can set `force_row_wise=true` to remove the overhead.\n",
      "And if memory is not enough, you can set `force_col_wise=true`.\n",
      "[LightGBM] [Info] Total Bins 3721\n",
      "[LightGBM] [Info] Number of data points in the train set: 2272275, number of used features: 21\n",
      "[LightGBM] [Info] [binary:BoostFromScore]: pavg=0.654606 -> initscore=0.639348\n",
      "[LightGBM] [Info] Start training from score 0.639348\n",
      "[100]\ttraining's auc: 0.845816\tvalid_1's auc: 0.846198\n",
      "Fold 3 | AUC: 0.8461978774183685\n",
      "--------------------------------------------------------------------------------\n",
      "fold: 4, x_train.shape: (2272448, 21), x_val.shape: (252764, 21)\n",
      "[LightGBM] [Info] Number of positive: 1487910, number of negative: 784538\n",
      "[LightGBM] [Warning] Auto-choosing row-wise multi-threading, the overhead of testing was 0.059509 seconds.\n",
      "You can set `force_row_wise=true` to remove the overhead.\n",
      "And if memory is not enough, you can set `force_col_wise=true`.\n",
      "[LightGBM] [Info] Total Bins 3717\n",
      "[LightGBM] [Info] Number of data points in the train set: 2272448, number of used features: 21\n",
      "[LightGBM] [Info] [binary:BoostFromScore]: pavg=0.654761 -> initscore=0.640033\n",
      "[LightGBM] [Info] Start training from score 0.640033\n",
      "[100]\ttraining's auc: 0.846164\tvalid_1's auc: 0.843709\n",
      "Fold 4 | AUC: 0.8437086704220265\n",
      "--------------------------------------------------------------------------------\n",
      "fold: 5, x_train.shape: (2272606, 21), x_val.shape: (252606, 21)\n",
      "[LightGBM] [Info] Number of positive: 1486696, number of negative: 785910\n",
      "[LightGBM] [Warning] Auto-choosing row-wise multi-threading, the overhead of testing was 0.052568 seconds.\n",
      "You can set `force_row_wise=true` to remove the overhead.\n",
      "And if memory is not enough, you can set `force_col_wise=true`.\n",
      "[LightGBM] [Info] Total Bins 3722\n",
      "[LightGBM] [Info] Number of data points in the train set: 2272606, number of used features: 21\n",
      "[LightGBM] [Info] [binary:BoostFromScore]: pavg=0.654181 -> initscore=0.637469\n",
      "[LightGBM] [Info] Start training from score 0.637469\n",
      "[100]\ttraining's auc: 0.846479\tvalid_1's auc: 0.84013\n",
      "Fold 5 | AUC: 0.8401296547710975\n",
      "--------------------------------------------------------------------------------\n",
      "fold: 6, x_train.shape: (2272848, 21), x_val.shape: (252364, 21)\n",
      "[LightGBM] [Info] Number of positive: 1490694, number of negative: 782154\n",
      "[LightGBM] [Warning] Auto-choosing row-wise multi-threading, the overhead of testing was 0.058411 seconds.\n",
      "You can set `force_row_wise=true` to remove the overhead.\n",
      "And if memory is not enough, you can set `force_col_wise=true`.\n",
      "[LightGBM] [Info] Total Bins 3724\n",
      "[LightGBM] [Info] Number of data points in the train set: 2272848, number of used features: 21\n",
      "[LightGBM] [Info] [binary:BoostFromScore]: pavg=0.655871 -> initscore=0.644945\n",
      "[LightGBM] [Info] Start training from score 0.644945\n",
      "[100]\ttraining's auc: 0.846045\tvalid_1's auc: 0.843803\n",
      "Fold 6 | AUC: 0.8438031546733885\n",
      "--------------------------------------------------------------------------------\n",
      "fold: 7, x_train.shape: (2273001, 21), x_val.shape: (252211, 21)\n",
      "[LightGBM] [Info] Number of positive: 1485556, number of negative: 787445\n",
      "[LightGBM] [Warning] Auto-choosing row-wise multi-threading, the overhead of testing was 0.057619 seconds.\n",
      "You can set `force_row_wise=true` to remove the overhead.\n",
      "And if memory is not enough, you can set `force_col_wise=true`.\n",
      "[LightGBM] [Info] Total Bins 3724\n",
      "[LightGBM] [Info] Number of data points in the train set: 2273001, number of used features: 21\n",
      "[LightGBM] [Info] [binary:BoostFromScore]: pavg=0.653566 -> initscore=0.634751\n",
      "[LightGBM] [Info] Start training from score 0.634751\n",
      "[100]\ttraining's auc: 0.8461\tvalid_1's auc: 0.844254\n",
      "Fold 7 | AUC: 0.8442536219377826\n",
      "--------------------------------------------------------------------------------\n",
      "fold: 8, x_train.shape: (2273148, 21), x_val.shape: (252064, 21)\n",
      "[LightGBM] [Info] Number of positive: 1485834, number of negative: 787314\n",
      "[LightGBM] [Warning] Auto-choosing row-wise multi-threading, the overhead of testing was 0.052217 seconds.\n",
      "You can set `force_row_wise=true` to remove the overhead.\n",
      "And if memory is not enough, you can set `force_col_wise=true`.\n",
      "[LightGBM] [Info] Total Bins 3728\n",
      "[LightGBM] [Info] Number of data points in the train set: 2273148, number of used features: 21\n",
      "[LightGBM] [Info] [binary:BoostFromScore]: pavg=0.653646 -> initscore=0.635104\n",
      "[LightGBM] [Info] Start training from score 0.635104\n",
      "[100]\ttraining's auc: 0.846049\tvalid_1's auc: 0.844015\n",
      "Fold 8 | AUC: 0.8440151518402315\n",
      "--------------------------------------------------------------------------------\n",
      "fold: 9, x_train.shape: (2273298, 21), x_val.shape: (251914, 21)\n",
      "[LightGBM] [Info] Number of positive: 1486977, number of negative: 786321\n",
      "[LightGBM] [Warning] Auto-choosing row-wise multi-threading, the overhead of testing was 0.054267 seconds.\n",
      "You can set `force_row_wise=true` to remove the overhead.\n",
      "And if memory is not enough, you can set `force_col_wise=true`.\n",
      "[LightGBM] [Info] Total Bins 3720\n",
      "[LightGBM] [Info] Number of data points in the train set: 2273298, number of used features: 21\n",
      "[LightGBM] [Info] [binary:BoostFromScore]: pavg=0.654106 -> initscore=0.637135\n",
      "[LightGBM] [Info] Start training from score 0.637135\n",
      "[100]\ttraining's auc: 0.845937\tvalid_1's auc: 0.845168\n",
      "Fold 9 | AUC: 0.845168225362473\n",
      "--------------------------------------------------------------------------------\n",
      "fold: 10, x_train.shape: (2273463, 21), x_val.shape: (251749, 21)\n",
      "[LightGBM] [Info] Number of positive: 1489003, number of negative: 784460\n",
      "[LightGBM] [Warning] Auto-choosing row-wise multi-threading, the overhead of testing was 0.059762 seconds.\n",
      "You can set `force_row_wise=true` to remove the overhead.\n",
      "And if memory is not enough, you can set `force_col_wise=true`.\n",
      "[LightGBM] [Info] Total Bins 3722\n",
      "[LightGBM] [Info] Number of data points in the train set: 2273463, number of used features: 21\n",
      "[LightGBM] [Info] [binary:BoostFromScore]: pavg=0.654949 -> initscore=0.640866\n",
      "[LightGBM] [Info] Start training from score 0.640866\n",
      "[100]\ttraining's auc: 0.845918\tvalid_1's auc: 0.845667\n",
      "Fold 10 | AUC: 0.8456669210763585\n",
      "--------------------------------------------------------------------------------\n",
      "\n",
      "Mean AUC = 0.844349030837671\n",
      "Mean ACC = 0.7916944622280534\n",
      "\n",
      "OOF ACC = 0.7916915490659794\n",
      "OOF AUC = 0.8444170602481752\n",
      "PRINT VALIDATION SCORE\n",
      "Precision: 1.00000\n",
      "ROC AUC Score: 0.95443\n",
      "CPU times: user 17min 1s, sys: 16 s, total: 17min 17s\n",
      "Wall time: 5min 40s\n"
     ]
    },
    {
     "data": {
      "text/html": [
       "\n",
       "                <audio  controls=\"controls\" autoplay=\"autoplay\">\n",
       "                    <source src=\"data:audio/ogg;base64,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\" type=\"audio/ogg\" />\n",
       "                    Your browser does not support the audio element.\n",
       "                </audio>\n",
       "              "
      ],
      "text/plain": [
       "<IPython.lib.display.Audio object>"
      ]
     },
     "execution_count": 49,
     "metadata": {},
     "output_type": "execute_result"
    }
   ],
   "source": [
    "%%time\n",
    "y_oof, val_preds, fi_val = make_lgb_oof_pred(train, valid, FEATS, params)\n",
    "print_score(y_valid, val_preds)\n",
    "Audio(\"https://upload.wikimedia.org/wikipedia/commons/0/05/Beep-09.ogg\", autoplay=True)"
   ]
  },
  {
   "cell_type": "markdown",
   "id": "2a03ae1f-b061-4811-afc5-f6e8b049e77f",
   "metadata": {},
   "source": [
    "### Feature importance plot"
   ]
  },
  {
   "cell_type": "code",
   "execution_count": 50,
   "id": "d22674ee-7cfc-4fbe-b97a-94408dd72452",
   "metadata": {},
   "outputs": [
    {
     "data": {
      "image/png": "[encoded data removed]",
      "text/plain": [
       "<Figure size 864x576 with 1 Axes>"
      ]
     },
     "metadata": {},
     "output_type": "display_data"
    }
   ],
   "source": [
    "fi_lgb = plot_feature_importances(fi_val)"
   ]
  },
  {
   "cell_type": "code",
   "execution_count": 152,
   "id": "fd5eeff1-b692-4bee-82f6-015b5a043f38",
   "metadata": {
    "collapsed": true,
    "jupyter": {
     "outputs_hidden": true
    },
    "tags": []
   },
   "outputs": [
    {
     "data": {
      "image/png": "[encoded data removed]",
      "text/plain": [
       "<Figure size 864x576 with 1 Axes>"
      ]
     },
     "metadata": {},
     "output_type": "display_data"
    }
   ],
   "source": [
    "# sns.distplot(test_preds)\n",
    "# plt.show()\n",
    "# 기존 플롯\n",
    "#fi_lgb = plot_feature_importances(fi)"
   ]
  },
  {
   "cell_type": "markdown",
   "id": "78a4525d-8447-45b2-b28d-0d320ef8ada3",
   "metadata": {},
   "source": [
    "## 5. Inference"
   ]
  },
  {
   "cell_type": "code",
   "execution_count": 52,
   "id": "1d0a6557-3a7c-45a7-8b3c-20dd4299060b",
   "metadata": {
    "tags": []
   },
   "outputs": [
    {
     "data": {
      "application/vnd.jupyter.widget-view+json": {
       "model_id": "1c1a898c723f4310b360f9e40917eb57",
       "version_major": 2,
       "version_minor": 0
      },
      "text/plain": [
       "  0%|          | 0/42962 [00:00<?, ?it/s]"
      ]
     },
     "metadata": {},
     "output_type": "display_data"
    },
    {
     "data": {
      "application/vnd.jupyter.widget-view+json": {
       "model_id": "837e5764ae5b4d0e9d95f7a76c8ba71c",
       "version_major": 2,
       "version_minor": 0
      },
      "text/plain": [
       "  0%|          | 0/744 [00:00<?, ?it/s]"
      ]
     },
     "metadata": {},
     "output_type": "display_data"
    },
    {
     "data": {
      "application/vnd.jupyter.widget-view+json": {
       "model_id": "52a762caf6054588957938096eb18bd5",
       "version_major": 2,
       "version_minor": 0
      },
      "text/plain": [
       "  0%|          | 0/5 [00:00<?, ?it/s]"
      ]
     },
     "metadata": {},
     "output_type": "display_data"
    },
    {
     "data": {
      "application/vnd.jupyter.widget-view+json": {
       "model_id": "5b314cc6875741d6bf1f1b6581461a2d",
       "version_major": 2,
       "version_minor": 0
      },
      "text/plain": [
       "  0%|          | 0/260114 [00:00<?, ?it/s]"
      ]
     },
     "metadata": {},
     "output_type": "display_data"
    },
    {
     "data": {
      "application/vnd.jupyter.widget-view+json": {
       "model_id": "2450b8e4090647bdbae3611be6a4667f",
       "version_major": 2,
       "version_minor": 0
      },
      "text/plain": [
       "  0%|          | 0/744 [00:00<?, ?it/s]"
      ]
     },
     "metadata": {},
     "output_type": "display_data"
    }
   ],
   "source": [
    "# FEATURE ENGINEERING\n",
    "test_df = feature_engineering(test_df)\n",
    "# TEST set: LEAVE LAST INTERACTION ONLY (users in test_data.csv)\n",
    "test = test_df[test_df['answerCode'].isin([-1])]\n",
    "# DROP ANSWERCODE\n",
    "test = test.drop(['answerCode'], axis=1)"
   ]
  },
  {
   "cell_type": "code",
   "execution_count": 53,
   "id": "7030f58b-35cb-4b19-8ae9-c75d86d78edd",
   "metadata": {},
   "outputs": [
    {
     "name": "stdout",
     "output_type": "stream",
     "text": [
      "fold: 1, x_train.shape: (2272505, 21), x_val.shape: (253451, 21)\n",
      "[LightGBM] [Info] Number of positive: 1489579, number of negative: 782926\n",
      "[LightGBM] [Warning] Auto-choosing row-wise multi-threading, the overhead of testing was 0.060848 seconds.\n",
      "You can set `force_row_wise=true` to remove the overhead.\n",
      "And if memory is not enough, you can set `force_col_wise=true`.\n",
      "[LightGBM] [Info] Total Bins 3718\n",
      "[LightGBM] [Info] Number of data points in the train set: 2272505, number of used features: 21\n",
      "[LightGBM] [Info] [binary:BoostFromScore]: pavg=0.655479 -> initscore=0.643211\n",
      "[LightGBM] [Info] Start training from score 0.643211\n",
      "[100]\ttraining's auc: 0.846215\tvalid_1's auc: 0.842475\n",
      "Fold 1 | AUC: 0.84247465252991\n",
      "--------------------------------------------------------------------------------\n",
      "fold: 2, x_train.shape: (2272660, 21), x_val.shape: (253296, 21)\n",
      "[LightGBM] [Info] Number of positive: 1489630, number of negative: 783030\n",
      "[LightGBM] [Warning] Auto-choosing row-wise multi-threading, the overhead of testing was 0.057011 seconds.\n",
      "You can set `force_row_wise=true` to remove the overhead.\n",
      "And if memory is not enough, you can set `force_col_wise=true`.\n",
      "[LightGBM] [Info] Total Bins 3726\n",
      "[LightGBM] [Info] Number of data points in the train set: 2272660, number of used features: 21\n",
      "[LightGBM] [Info] [binary:BoostFromScore]: pavg=0.655457 -> initscore=0.643112\n",
      "[LightGBM] [Info] Start training from score 0.643112\n",
      "[100]\ttraining's auc: 0.845603\tvalid_1's auc: 0.848125\n",
      "Fold 2 | AUC: 0.8481254862020875\n",
      "--------------------------------------------------------------------------------\n",
      "fold: 3, x_train.shape: (2272934, 21), x_val.shape: (253022, 21)\n",
      "[LightGBM] [Info] Number of positive: 1487813, number of negative: 785121\n",
      "[LightGBM] [Warning] Auto-choosing row-wise multi-threading, the overhead of testing was 0.064081 seconds.\n",
      "You can set `force_row_wise=true` to remove the overhead.\n",
      "And if memory is not enough, you can set `force_col_wise=true`.\n",
      "[LightGBM] [Info] Total Bins 3723\n",
      "[LightGBM] [Info] Number of data points in the train set: 2272934, number of used features: 21\n",
      "[LightGBM] [Info] [binary:BoostFromScore]: pavg=0.654578 -> initscore=0.639225\n",
      "[LightGBM] [Info] Start training from score 0.639225\n",
      "[100]\ttraining's auc: 0.845739\tvalid_1's auc: 0.84627\n",
      "Fold 3 | AUC: 0.8462695630109631\n",
      "--------------------------------------------------------------------------------\n",
      "fold: 4, x_train.shape: (2273125, 21), x_val.shape: (252831, 21)\n",
      "[LightGBM] [Info] Number of positive: 1488283, number of negative: 784842\n",
      "[LightGBM] [Warning] Auto-choosing row-wise multi-threading, the overhead of testing was 0.053942 seconds.\n",
      "You can set `force_row_wise=true` to remove the overhead.\n",
      "And if memory is not enough, you can set `force_col_wise=true`.\n",
      "[LightGBM] [Info] Total Bins 3717\n",
      "[LightGBM] [Info] Number of data points in the train set: 2273125, number of used features: 21\n",
      "[LightGBM] [Info] [binary:BoostFromScore]: pavg=0.654730 -> initscore=0.639896\n",
      "[LightGBM] [Info] Start training from score 0.639896\n",
      "[100]\ttraining's auc: 0.846206\tvalid_1's auc: 0.84374\n",
      "Fold 4 | AUC: 0.8437404930572613\n",
      "--------------------------------------------------------------------------------\n",
      "fold: 5, x_train.shape: (2273288, 21), x_val.shape: (252668, 21)\n",
      "[LightGBM] [Info] Number of positive: 1487072, number of negative: 786216\n",
      "[LightGBM] [Warning] Auto-choosing row-wise multi-threading, the overhead of testing was 0.057232 seconds.\n",
      "You can set `force_row_wise=true` to remove the overhead.\n",
      "And if memory is not enough, you can set `force_col_wise=true`.\n",
      "[LightGBM] [Info] Total Bins 3722\n",
      "[LightGBM] [Info] Number of data points in the train set: 2273288, number of used features: 21\n",
      "[LightGBM] [Info] [binary:BoostFromScore]: pavg=0.654150 -> initscore=0.637333\n",
      "[LightGBM] [Info] Start training from score 0.637333\n",
      "[100]\ttraining's auc: 0.84644\tvalid_1's auc: 0.839997\n",
      "Fold 5 | AUC: 0.839996592015291\n",
      "--------------------------------------------------------------------------------\n",
      "fold: 6, x_train.shape: (2273506, 21), x_val.shape: (252450, 21)\n",
      "[LightGBM] [Info] Number of positive: 1491066, number of negative: 782440\n",
      "[LightGBM] [Warning] Auto-choosing row-wise multi-threading, the overhead of testing was 0.060327 seconds.\n",
      "You can set `force_row_wise=true` to remove the overhead.\n",
      "And if memory is not enough, you can set `force_col_wise=true`.\n",
      "[LightGBM] [Info] Total Bins 3720\n",
      "[LightGBM] [Info] Number of data points in the train set: 2273506, number of used features: 21\n",
      "[LightGBM] [Info] [binary:BoostFromScore]: pavg=0.655844 -> initscore=0.644829\n",
      "[LightGBM] [Info] Start training from score 0.644829\n",
      "[100]\ttraining's auc: 0.846054\tvalid_1's auc: 0.843889\n",
      "Fold 6 | AUC: 0.8438894022708298\n",
      "--------------------------------------------------------------------------------\n",
      "fold: 7, x_train.shape: (2273661, 21), x_val.shape: (252295, 21)\n",
      "[LightGBM] [Info] Number of positive: 1485916, number of negative: 787745\n",
      "[LightGBM] [Warning] Auto-choosing row-wise multi-threading, the overhead of testing was 0.054025 seconds.\n",
      "You can set `force_row_wise=true` to remove the overhead.\n",
      "And if memory is not enough, you can set `force_col_wise=true`.\n",
      "[LightGBM] [Info] Total Bins 3722\n",
      "[LightGBM] [Info] Number of data points in the train set: 2273661, number of used features: 21\n",
      "[LightGBM] [Info] [binary:BoostFromScore]: pavg=0.653535 -> initscore=0.634612\n",
      "[LightGBM] [Info] Start training from score 0.634612\n",
      "[100]\ttraining's auc: 0.846039\tvalid_1's auc: 0.844096\n",
      "Fold 7 | AUC: 0.8440956225714407\n",
      "--------------------------------------------------------------------------------\n",
      "fold: 8, x_train.shape: (2273816, 21), x_val.shape: (252140, 21)\n",
      "[LightGBM] [Info] Number of positive: 1486199, number of negative: 787617\n",
      "[LightGBM] [Warning] Auto-choosing row-wise multi-threading, the overhead of testing was 0.057732 seconds.\n",
      "You can set `force_row_wise=true` to remove the overhead.\n",
      "And if memory is not enough, you can set `force_col_wise=true`.\n",
      "[LightGBM] [Info] Total Bins 3729\n",
      "[LightGBM] [Info] Number of data points in the train set: 2273816, number of used features: 21\n",
      "[LightGBM] [Info] [binary:BoostFromScore]: pavg=0.653614 -> initscore=0.634965\n",
      "[LightGBM] [Info] Start training from score 0.634965\n",
      "[100]\ttraining's auc: 0.846095\tvalid_1's auc: 0.844009\n",
      "Fold 8 | AUC: 0.8440085078885717\n",
      "--------------------------------------------------------------------------------\n",
      "fold: 9, x_train.shape: (2273967, 21), x_val.shape: (251989, 21)\n",
      "[LightGBM] [Info] Number of positive: 1487350, number of negative: 786617\n",
      "[LightGBM] [Warning] Auto-choosing row-wise multi-threading, the overhead of testing was 0.054280 seconds.\n",
      "You can set `force_row_wise=true` to remove the overhead.\n",
      "And if memory is not enough, you can set `force_col_wise=true`.\n",
      "[LightGBM] [Info] Total Bins 3720\n",
      "[LightGBM] [Info] Number of data points in the train set: 2273967, number of used features: 21\n",
      "[LightGBM] [Info] [binary:BoostFromScore]: pavg=0.654077 -> initscore=0.637010\n",
      "[LightGBM] [Info] Start training from score 0.637010\n",
      "[100]\ttraining's auc: 0.845969\tvalid_1's auc: 0.845178\n",
      "Fold 9 | AUC: 0.8451776003589272\n",
      "--------------------------------------------------------------------------------\n",
      "fold: 10, x_train.shape: (2274142, 21), x_val.shape: (251814, 21)\n",
      "[LightGBM] [Info] Number of positive: 1489384, number of negative: 784758\n",
      "[LightGBM] [Warning] Auto-choosing row-wise multi-threading, the overhead of testing was 0.058570 seconds.\n",
      "You can set `force_row_wise=true` to remove the overhead.\n",
      "And if memory is not enough, you can set `force_col_wise=true`.\n",
      "[LightGBM] [Info] Total Bins 3717\n",
      "[LightGBM] [Info] Number of data points in the train set: 2274142, number of used features: 21\n",
      "[LightGBM] [Info] [binary:BoostFromScore]: pavg=0.654921 -> initscore=0.640743\n",
      "[LightGBM] [Info] Start training from score 0.640743\n",
      "[100]\ttraining's auc: 0.845894\tvalid_1's auc: 0.845754\n",
      "Fold 10 | AUC: 0.845754241953387\n",
      "--------------------------------------------------------------------------------\n",
      "\n",
      "Mean AUC = 0.8443532161858669\n",
      "Mean ACC = 0.7917441249098685\n",
      "\n",
      "OOF ACC = 0.791741423841112\n",
      "OOF AUC = 0.8444207579299722\n",
      "CPU times: user 17min 22s, sys: 13.9 s, total: 17min 36s\n",
      "Wall time: 5min 48s\n"
     ]
    }
   ],
   "source": [
    "%%time\n",
    "# MAKE PREDICTION\n",
    "y_oof, test_preds, fi_test = make_lgb_oof_pred(total_train, test, FEATS, params)"
   ]
  },
  {
   "cell_type": "code",
   "execution_count": 133,
   "id": "65293195-28af-4b0e-bc82-db6e8f08672d",
   "metadata": {},
   "outputs": [
    {
     "data": {
      "image/png": "[encoded data removed]",
      "text/plain": [
       "<Figure size 864x576 with 1 Axes>"
      ]
     },
     "metadata": {},
     "output_type": "display_data"
    }
   ],
   "source": [
    "fi_test_plt = plot_feature_importances(fi_test)"
   ]
  },
  {
   "cell_type": "markdown",
   "id": "98a9dfe0-2b68-4ea9-8cb0-1a620bda4fef",
   "metadata": {},
   "source": [
    "### Submit"
   ]
  },
  {
   "cell_type": "code",
   "execution_count": 54,
   "id": "b98a8ef9-98e4-4b7d-b503-8283287b06a6",
   "metadata": {},
   "outputs": [
    {
     "name": "stdout",
     "output_type": "stream",
     "text": [
      "writing prediction : output/0614_usercv1.csv\n"
     ]
    }
   ],
   "source": [
    "# SAVE OUTPUT\n",
    "output_dir = 'output/'\n",
    "write_path = os.path.join(output_dir, \"0614_usercv1.csv\")\n",
    "if not os.path.exists(output_dir):\n",
    "    os.makedirs(output_dir)    \n",
    "with open(write_path, 'w', encoding='utf8') as w:\n",
    "    print(\"writing prediction : {}\".format(write_path))\n",
    "    w.write(\"id,prediction\\n\")\n",
    "    for id, p in enumerate(test_preds):\n",
    "        w.write('{},{}\\n'.format(id,p))"
   ]
  },
  {
   "cell_type": "code",
   "execution_count": null,
   "id": "f720cc31-2234-4a8c-94e1-b293bfef403c",
   "metadata": {},
   "outputs": [],
   "source": [
    "# same1 = pd.read_csv(\"output/0609_same.csv\")\n",
    "# same2 = pd.read_csv(\"output/0609_same2.csv\")"
   ]
  },
  {
   "cell_type": "markdown",
   "id": "d4ae935f-b474-4d08-b15b-6df38e795702",
   "metadata": {},
   "source": [
    "## 6. Optuna objective func"
   ]
  },
  {
   "cell_type": "markdown",
   "id": "d58905c6-1caa-4929-aef8-374e0853d682",
   "metadata": {},
   "source": [
    "### objective lgb 함수 정의"
   ]
  },
  {
   "cell_type": "code",
   "execution_count": 139,
   "id": "68bc7e4f-852a-4234-bf7e-773ccd9f3c8c",
   "metadata": {},
   "outputs": [],
   "source": [
    "import optuna\n",
    "def objective_lgb(trial, label=y_valid):\n",
    "    lgb_params = {\n",
    "        'objective': 'binary', # 이진 분류\n",
    "        'boosting_type': 'gbdt',\n",
    "        'num_leaves': trial.suggest_int('num_leaves', 2, 256), # num_leaves 값을 2-256까지 정수값 중에 사용\n",
    "        'max_bin': trial.suggest_int('max_bin', 128, 256), # max_bin 값을 128-256까지 정수값 중에 사용\n",
    "        # min_data_in_leaf 값을 10-40까지 정수값 중에 사용\n",
    "        'min_data_in_leaf': trial.suggest_int('min_data_in_leaf', 10, 40),\n",
    "        # 피처 샘플링 비율을 0.4-1.0까지 중에 uniform 분포로 사용\n",
    "        'feature_fraction': trial.suggest_uniform('feature_fraction', 0.4, 1.0),\n",
    "        # 데이터 샘플링 비율을 0.4-1.0까지 중에 uniform 분포로 사용\n",
    "        'bagging_fraction': trial.suggest_uniform('bagging_fraction', 0.4, 1.0),\n",
    "        # 데이터 샘플링 횟수를 1-7까지 정수값 중에 사용\n",
    "        'bagging_freq': trial.suggest_int('bagging_freq', 1, 7),\n",
    "        'n_estimators': 10000, # 트리 개수\n",
    "        'early_stopping_rounds': 100,\n",
    "        # L1 값을 1e-8-10.0까지 로그 uniform 분포로 사용\n",
    "        'lambda_l1': trial.suggest_loguniform('lambda_l1', 1e-8, 10.0),\n",
    "        # L2 값을 1e-8-10.0까지 로그 uniform 분포로 사용\n",
    "        'lambda_l2': trial.suggest_loguniform('lambda_l2', 1e-8, 10.0),\n",
    "        'seed': SEED,\n",
    "        'verbose': -1,\n",
    "        'n_jobs': -1,    \n",
    "    }\n",
    "    \n",
    "    # oof prediction 함수 호출해서 out of fold validation 예측값을 얻어옴\n",
    "    y_oof, val_preds, fi_val = make_lgb_oof_pred(train, valid, FEATS, params)\n",
    "    # Validation 스코어 계산\n",
    "    val_auc_lgb = roc_auc_score(label, y_oof)\n",
    "    return val_auc_lgb"
   ]
  },
  {
   "cell_type": "markdown",
   "id": "640e8f2b-c400-4fc3-8d7e-7295e3efb546",
   "metadata": {},
   "source": [
    "### Optuna study 생성, auc이기 때문에 최대화 하는 방향으로 하이퍼 파라미터 탐색"
   ]
  },
  {
   "cell_type": "code",
   "execution_count": 141,
   "id": "772640e1-ee5c-4805-a37b-0e0494d56d48",
   "metadata": {},
   "outputs": [],
   "source": [
    "%%time\n",
    "study_lgb = optuna.create_study(direction='maximize')\n",
    "study_lgb.optimize(objective_lgb, n_trials=10) # 10회 동안 하이퍼 파라미터 탐색"
   ]
  },
  {
   "cell_type": "markdown",
   "id": "2679f231-760d-4972-bc61-63b99e11de5c",
   "metadata": {},
   "source": [
    "### Validation 스코어가 가장 잘 나온 하이퍼 파라미터 출력"
   ]
  },
  {
   "cell_type": "code",
   "execution_count": null,
   "id": "b46fd8cd-7e18-4252-a5a8-7e5405c2c2b9",
   "metadata": {},
   "outputs": [],
   "source": [
    "study_lgb.best_params"
   ]
  },
  {
   "cell_type": "markdown",
   "id": "04c2914c-959a-4cdf-bf31-a9f1a6060638",
   "metadata": {},
   "source": [
    "### 가장 성능이 잘 나온 Validation 스코어 출력"
   ]
  },
  {
   "cell_type": "code",
   "execution_count": 245,
   "id": "e1d97229-3a38-4211-ba2c-7f0e5f4269d2",
   "metadata": {},
   "outputs": [],
   "source": [
    "study_lgb.best_value"
   ]
  }
 ],
 "metadata": {
  "kernelspec": {
   "display_name": "Python 3",
   "language": "python",
   "name": "python3"
  },
  "language_info": {
   "codemirror_mode": {
    "name": "ipython",
    "version": 3
   },
   "file_extension": ".py",
   "mimetype": "text/x-python",
   "name": "python",
   "nbconvert_exporter": "python",
   "pygments_lexer": "ipython3",
   "version": "3.7.7"
  }
 },
 "nbformat": 4,
 "nbformat_minor": 5
}

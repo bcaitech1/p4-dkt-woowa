{
 "cells": [
  {
   "cell_type": "markdown",
   "id": "d6e5d299-d0d1-4cfd-8fa4-5ebb2a6d1152",
   "metadata": {},
   "source": [
    "# Make Input_csv"
   ]
  },
  {
   "cell_type": "code",
   "execution_count": 150,
   "id": "992f2153-5450-45c8-955f-f86478f7262f",
   "metadata": {},
   "outputs": [],
   "source": [
    "import pandas as pd\n",
    "import numpy as np\n",
    "import os\n",
    "import random\n",
    "import gc\n",
    "\n",
    "# Visualization\n",
    "import matplotlib.pyplot as plt\n",
    "import seaborn as sns\n",
    "\n",
    "from sklearn.model_selection import KFold\n",
    "import pickle\n",
    "from datetime import datetime\n",
    "from tqdm.notebook import tqdm\n",
    "import time\n",
    "from IPython.display import Audio"
   ]
  },
  {
   "cell_type": "markdown",
   "id": "ed037319-92ed-4101-aaa0-54d5ee3ca809",
   "metadata": {},
   "source": [
    "## 1. Data Load"
   ]
  },
  {
   "cell_type": "code",
   "execution_count": 2,
   "id": "438ac38a-d220-4a4f-bc6a-d931bc778aec",
   "metadata": {},
   "outputs": [],
   "source": [
    "# Load Train Data\n",
    "data_dir = '../input/data/train_dataset'\n",
    "csv_file_path = os.path.join(data_dir, 'train_data.csv')\n",
    "df = pd.read_csv(csv_file_path)"
   ]
  },
  {
   "cell_type": "code",
   "execution_count": 3,
   "id": "dfe912b2-8930-45d6-ae85-8130591998f4",
   "metadata": {},
   "outputs": [],
   "source": [
    "# Load Test Data\n",
    "test_csv_file_path = os.path.join(data_dir, 'test_data.csv')\n",
    "test_df = pd.read_csv(test_csv_file_path)"
   ]
  },
  {
   "cell_type": "code",
   "execution_count": 4,
   "id": "8f729506-35ff-4333-85cd-1e67be04a61e",
   "metadata": {},
   "outputs": [],
   "source": [
    "# Concat Train, Test Data\n",
    "total_df = pd.concat([df, test_df[test_df.answerCode!=-1]], ignore_index=True)\n",
    "assessmentItemID_mean_dict = total_df.groupby('assessmentItemID').mean().to_dict()"
   ]
  },
  {
   "cell_type": "code",
   "execution_count": 5,
   "id": "707f79c0-0f2b-4902-86c6-4d40c6ec8a26",
   "metadata": {},
   "outputs": [],
   "source": [
    "df = total_df"
   ]
  },
  {
   "cell_type": "markdown",
   "id": "f0abd330-cfd4-49f3-8eaf-c31d1c6c7ba3",
   "metadata": {},
   "source": [
    "## 2. Feature Engineering Func"
   ]
  },
  {
   "cell_type": "markdown",
   "id": "c42fa25f-024d-41a6-b844-3662e16f3c33",
   "metadata": {},
   "source": [
    "### elapsed_time & lag_time"
   ]
  },
  {
   "cell_type": "code",
   "execution_count": 6,
   "id": "a965e13a-2254-4314-b362-adfd16bbed1a",
   "metadata": {},
   "outputs": [],
   "source": [
    "# make elapsed_time & lag_time\n",
    "def convert_time(s):\n",
    "    timestamp = time.mktime(datetime.strptime(s, '%Y-%m-%d %H:%M:%S').timetuple())\n",
    "    return int(timestamp)\n",
    "\n",
    "def create_elapsed_time(df):\n",
    "    prev_timestamp = df.groupby(['userID', 'testId'])[['time_stamp']].shift()\n",
    "    df['elapsed_time'] = df['time_stamp'] - prev_timestamp['time_stamp']\n",
    "    df['elapsed_time'] = df['elapsed_time'].fillna(0)\n",
    "    return df\n",
    "\n",
    "def create_lag_time(df):\n",
    "    start_end_id_by_user_test = df.groupby(['userID','testId']).apply(lambda x: (x.index.values[0], x.index.values[-1])).reset_index()\n",
    "    start_end_id_by_user_test = start_end_id_by_user_test.sort_values(by=[0]).reset_index(drop=True)\n",
    "    start_row_id_by_user = start_end_id_by_user_test.groupby('userID').apply(lambda x: x.index.values[0])\n",
    "    \n",
    "    lag_time_list = [0]*len(df)\n",
    "    for start_row, end_row in tqdm(start_end_id_by_user_test [0][1:]):\n",
    "        start_time = df.time_stamp[start_row]\n",
    "        prev_time = df.time_stamp[start_row-1]\n",
    "        lag_time = start_time - prev_time\n",
    "        lag_time_list[start_row:end_row+1] = [lag_time]*(end_row-start_row+1)\n",
    "    \n",
    "    # 사용자가 바뀌는 부분 첫 시험지 lag_time은 0으로 변경\n",
    "    for user_start_idx in tqdm(start_row_id_by_user):\n",
    "        start, end = start_end_id_by_user_test .loc[user_start_idx][0]\n",
    "        lag_time_list[start:end+1] = [0]*(end-start+1)\n",
    "        \n",
    "    df['lag_time'] = lag_time_list\n",
    "    \n",
    "    return df\n",
    "\n",
    "# lag_time old\n",
    "def create_lag_time_old(df):\n",
    "    lag_time_list = []\n",
    "    for user_id in df.userID.unique():\n",
    "        lag_time = 0\n",
    "        end_time = 0\n",
    "        user_df = df[df.userID == user_id]\n",
    "        test_ids_df = user_df.groupby('testId')\n",
    "        for testid in user_df.testId.unique():\n",
    "            time_stamps = test_ids_df.get_group(testid).time_stamp.values\n",
    "            if end_time:\n",
    "                lag_time = time_stamps[0] - end_time\n",
    "            for i in range(len(time_stamps)):\n",
    "                lag_time_list.append(lag_time)\n",
    "                if i != 0:\n",
    "                    end_time = time_stamps[i]\n",
    "    df['lag_time_old'] = lag_time_list\n",
    "    return df"
   ]
  },
  {
   "cell_type": "markdown",
   "id": "fb8347ac-ffd5-4569-aa1c-85548c3edbf1",
   "metadata": {},
   "source": [
    "### user_recent_acc"
   ]
  },
  {
   "cell_type": "code",
   "execution_count": 7,
   "id": "217fe7af-fb9a-4f4d-b9dc-0ca2ecf28e16",
   "metadata": {},
   "outputs": [],
   "source": [
    "# make user_recent_acc\n",
    "def create_recent_acc(df, n=5):\n",
    "    def custom(pr, cnt, n):\n",
    "        if cnt < n:\n",
    "            return 0\n",
    "        else:\n",
    "            return pr\n",
    "    tmp_df = df.copy()\n",
    "    user_start_idx = df['userID'].diff() > 0\n",
    "    tmp_df['prior_ans_cnt']  = tmp_df.groupby('userID')['answerCode'].cumsum().shift(fill_value=0)\n",
    "    tmp_df['shift_prior_ans_cnt'] = tmp_df.groupby('userID')['answerCode'].cumsum().shift(fill_value=0)\n",
    "    tmp_df.loc[user_start_idx, ['prior_ans_cnt','shift_prior_ans_cnt']] = 0\n",
    "    tmp_df['shift_prior_ans_cnt'] = tmp_df['shift_prior_ans_cnt'].shift(n)\n",
    "    tmp_df['content'] = [1]*len(tmp_df)\n",
    "    tmp_df['prior_quest_cnt'] = tmp_df.groupby('userID')['content'].cumsum().shift(fill_value=0)\n",
    "    tmp_df['prior_quest_cnt'] = tmp_df['prior_quest_cnt'].apply(lambda x: n if x>n else x)\n",
    "    tmp_df.loc[user_start_idx, ['prior_quest_cnt']] = 0\n",
    "    tmp_df['shift_prior_ans_cnt'] = tmp_df.apply(lambda x: custom(x['shift_prior_ans_cnt'], x['prior_quest_cnt'], n), axis=1)\n",
    "    tmp_df['cnt'] = tmp_df['prior_ans_cnt'] - tmp_df['shift_prior_ans_cnt'] \n",
    "    df[f'user_recent_acc_{n}'] = (tmp_df['cnt'] / tmp_df['prior_quest_cnt']).fillna(0)\n",
    "    return df"
   ]
  },
  {
   "cell_type": "markdown",
   "id": "63e4207e-acb8-4ccd-be17-88d19591b0e2",
   "metadata": {},
   "source": [
    "### sum_rel_point"
   ]
  },
  {
   "cell_type": "code",
   "execution_count": 8,
   "id": "c56131c9-c996-45eb-af0a-aac0fdb85f16",
   "metadata": {},
   "outputs": [],
   "source": [
    "# make sum_rel_point\n",
    "from tqdm.notebook import tqdm\n",
    "\n",
    "def fill_rel_point(df):\n",
    "    arr = np.zeros(len(df))\n",
    "    start_idx = 0\n",
    "\n",
    "    for i in tqdm(range(len(df))):\n",
    "        row = df.iloc[i, :].copy()\n",
    "        answer = row['answerCode']\n",
    "        item_ans_rate = row['item_ans_rate']\n",
    "\n",
    "        if answer == 1:\n",
    "            arr[i] = 1 - item_ans_rate\n",
    "        elif answer == 0:\n",
    "            arr[i] = - item_ans_rate\n",
    "        elif answer == -1:\n",
    "            \n",
    "            avg_rel_point = np.mean(arr[start_idx : i])\n",
    "            start_idx = i + 1 \n",
    "            arr[i] = avg_rel_point\n",
    "\n",
    "    df['rel_point'] = pd.Series(arr)\n",
    "    return df\n",
    "\n",
    "def sum_point(df):\n",
    "    grouped = df.groupby('userID')['rel_point']\n",
    "    arr = np.zeros(len(df))\n",
    "    start_idx = 0\n",
    "    cnt = 0\n",
    "    for _, group in tqdm(grouped):\n",
    "        cnt += 1\n",
    "        point_sum = group.iloc[:len(group)-1].sum()\n",
    "        arr[start_idx:start_idx+len(group)] = point_sum\n",
    "        start_idx = start_idx + len(group)\n",
    "\n",
    "    df['sum_rel_point'] = pd.Series(arr)\n",
    "    return df"
   ]
  },
  {
   "cell_type": "markdown",
   "id": "44980d7a-ec14-438a-b5b5-63ce551737b5",
   "metadata": {},
   "source": [
    "### knowledgetag_stroke"
   ]
  },
  {
   "cell_type": "code",
   "execution_count": 9,
   "id": "f241d4ba-9a1b-47e6-9d6c-f8ffa7bb656f",
   "metadata": {
    "tags": []
   },
   "outputs": [],
   "source": [
    "# tag 연속으로 나온 횟수\n",
    "def knowledgetag_storke_feat_eng(df):\n",
    "    knowledgetags = df.KnowledgeTag\n",
    "    knowledgetag_stroke = np.zeros(knowledgetags.shape)\n",
    "    \n",
    "    for i, k in enumerate(knowledgetags):\n",
    "        if i == 0:\n",
    "            continue\n",
    "    \n",
    "        if k == knowledgetags[i-1]:\n",
    "            knowledgetag_stroke[i] = knowledgetag_stroke[i-1] + 1\n",
    "            \n",
    "    df['knowledgetag_stroke'] = knowledgetag_stroke\n",
    "    return df"
   ]
  },
  {
   "cell_type": "markdown",
   "id": "c034909c-e845-4cc0-be3e-735944d094b4",
   "metadata": {},
   "source": [
    "### testPre & testPost"
   ]
  },
  {
   "cell_type": "code",
   "execution_count": 10,
   "id": "d0446af2-4110-4fd1-93dd-f2ba164e3aad",
   "metadata": {},
   "outputs": [],
   "source": [
    "def testId_feat_eng(df, total_df):\n",
    "    \n",
    "    total_df['testPre'] = total_df.testId.map(lambda x: x[1:4])\n",
    "    total_df['testPost'] = total_df.testId.map(lambda x: x[-3:])\n",
    "    \n",
    "    df['testPre'] = df.testId.map(lambda x: x[1:4])\n",
    "    df['testPost'] = df.testId.map(lambda x: x[-3:])\n",
    "    \n",
    "    \n",
    "    feat_test_preId = total_df.groupby('testPre')['answerCode'].agg(['mean', 'sum'])\n",
    "    feat_test_preId.columns = [\"test_preId_mean\", 'test_preId_sum']\n",
    "    feat_test_postId = total_df.groupby('testPost')['answerCode'].agg(['mean', 'sum'])\n",
    "    feat_test_postId.columns = [\"test_postId_mean\", 'test_postId_sum']\n",
    "    \n",
    "    df = pd.merge(df, feat_test_preId, on=['testPre'], how=\"left\")\n",
    "    df = pd.merge(df, feat_test_postId, on=['testPost'], how=\"left\")\n",
    "    \n",
    "    df['testPre'] = df.testPre.map(int)\n",
    "    df['testPost'] = df.testPost.map(int)\n",
    "    \n",
    "    return df"
   ]
  },
  {
   "cell_type": "markdown",
   "id": "c9fa697c-4042-4c94-bab6-dbea0b53b81b",
   "metadata": {},
   "source": [
    "### test_time"
   ]
  },
  {
   "cell_type": "code",
   "execution_count": 170,
   "id": "03c52c19-88a8-4e3a-8e01-adfa54a55279",
   "metadata": {},
   "outputs": [],
   "source": [
    "def seperate_time(t):\n",
    "    if t.hour < 6:\n",
    "        # 새벽\n",
    "        return 0\n",
    "    elif t.hour < 12:\n",
    "        # 오전\n",
    "        return 1\n",
    "    elif t.hour < 18:\n",
    "        # 오후\n",
    "        return 2\n",
    "    else:\n",
    "        # 밤\n",
    "        return 3\n",
    "\n",
    "def time_feat_eng(df, total_df):\n",
    "    timestamps = pd.to_datetime(total_df.Timestamp)\n",
    "    timestamps = timestamps.map(seperate_time)\n",
    "    total_df['test_time'] = timestamps\n",
    "    timestamps = pd.to_datetime(df.Timestamp)\n",
    "    timestamps = timestamps.map(seperate_time)\n",
    "    df['test_time'] = timestamps\n",
    "    feat_test_time = total_df.groupby('test_time')['answerCode'].agg(['mean', 'sum'])\n",
    "    feat_test_time.columns = [\"test_time_mean\", 'test_time_sum']\n",
    "    df = pd.merge(df, feat_test_time, on=['test_time'], how=\"left\")\n",
    "    # Target Encoding + Smoothing\n",
    "    df['test_time'] = df['test_time'].map(lambda x: (feat_test_time.iloc[x]['test_time_mean'] + feat_test_time['test_time_mean'].mean())/2)\n",
    "    return df"
   ]
  },
  {
   "cell_type": "markdown",
   "id": "f56d11a2-a124-4c6d-ab82-2c9dbb6b0607",
   "metadata": {},
   "source": [
    "### ktag_acc"
   ]
  },
  {
   "cell_type": "code",
   "execution_count": 91,
   "id": "eb412c3b-0928-419d-9021-5f5c9631bab6",
   "metadata": {},
   "outputs": [],
   "source": [
    "# 유저별 ktag별 정답률\n",
    "def user_ktag_acc(df):\n",
    "    def rate(values):\n",
    "        return sum(values) / len(values)\n",
    "    df['user_ktag_acc'] = df.groupby(['userID', 'KnowledgeTag']).answerCode.transform(rate)\n",
    "    return df\n",
    "\n",
    "def user_ktag_mean(df):\n",
    "# 유저별 ktag별 정답률과 ktag 전체 정답률(tag_mean) 평균\n",
    "    df['user_ktag_mean'] = (df['tag_mean'] + df['user_ktag_acc']) / 2\n",
    "    return df"
   ]
  },
  {
   "cell_type": "markdown",
   "id": "63651e93-94d9-44c5-a31c-cc72a20f3f0f",
   "metadata": {},
   "source": [
    "### feature_engineering 함수"
   ]
  },
  {
   "cell_type": "code",
   "execution_count": 104,
   "id": "811d7619-19c7-40aa-acc6-8f9f5b1c0637",
   "metadata": {},
   "outputs": [],
   "source": [
    "def feature_engineering(df):\n",
    "    \n",
    "    #유저별 시퀀스를 고려하기 위해 아래와 같이 정렬\n",
    "    df.sort_values(by=['userID','Timestamp'], inplace=True)\n",
    "    \n",
    "    #유저들의 문제 풀이수, 정답 수, 정답률을 시간순으로 누적해서 계산\n",
    "    df['user_correct_answer'] = df.groupby('userID')['answerCode'].transform(lambda x: x.cumsum().shift(1))\n",
    "    df['user_correct_answer'] = df['user_correct_answer'].fillna(0)\n",
    "    df['user_total_answer'] = df.groupby('userID')['answerCode'].cumcount()\n",
    "    df['user_acc'] = df['user_correct_answer']/df['user_total_answer']\n",
    "    df['user_acc'] = df['user_acc'].fillna(0)\n",
    "\n",
    "    # testId와 KnowledgeTag의 전체 정답률은 한번에 계산\n",
    "    # 아래 데이터는 제출용 데이터셋에 대해서도 재사용\n",
    "    correct_t = df.groupby(['testId'])['answerCode'].agg(['mean', 'sum', 'std'])\n",
    "    correct_t.columns = [\"test_mean\", 'test_sum', 'test_std']\n",
    "    correct_k = df.groupby(['KnowledgeTag'])['answerCode'].agg(['mean', 'sum', 'std'])\n",
    "    correct_k.columns = [\"tag_mean\", 'tag_sum', 'tag_std']\n",
    "\n",
    "    df = pd.merge(df, correct_t, on=['testId'], how=\"left\")\n",
    "    df = pd.merge(df, correct_k, on=['KnowledgeTag'], how=\"left\")\n",
    "    \n",
    "    \n",
    "    # custom features\n",
    "    \n",
    "    \n",
    "    # item_ans_rate: 문항별 정답률\n",
    "    df['item_ans_rate'] = df.assessmentItemID.map(assessmentItemID_mean_dict['answerCode'])\n",
    "    \n",
    "    # elapsed time & lag_time\n",
    "    df['time_stamp'] = df['Timestamp'].apply(convert_time)\n",
    "    df = create_elapsed_time(df)\n",
    "    df = create_lag_time(df)\n",
    "    \n",
    "    # user_recent_acc\n",
    "    for i in tqdm([5, 10, 30, 50, 100]):\n",
    "        df = create_recent_acc(df, n=i)\n",
    "    \n",
    "    # sum_rel_point\n",
    "    df = fill_rel_point(df)\n",
    "    df = sum_point(df)\n",
    "    # normalize sum_rel_point\n",
    "    max_, min_ = max(df['sum_rel_point']), min(df['sum_rel_point'])\n",
    "    df['sum_rel_point'] = (df['sum_rel_point'] - min_) / (max_ - min_)\n",
    "    \n",
    "    # user_ktag_acc\n",
    "    df = user_ktag_acc(df)\n",
    "    \n",
    "    # knowledgetag_stroke\n",
    "    df = knowledgetag_storke_feat_eng(df)\n",
    "    \n",
    "    # testPre & testPost\n",
    "    total_df = df.copy()\n",
    "    df = testId_feat_eng(df, total_df)\n",
    "    \n",
    "    # test_time_mean & test_time_sum\n",
    "    total_df = df.copy()\n",
    "    df = time_feat_eng(df, total_df)\n",
    "    \n",
    "    return df"
   ]
  },
  {
   "cell_type": "markdown",
   "id": "90fee420-c168-4766-8f46-e7fdd13dfd3d",
   "metadata": {},
   "source": [
    "## 3. Train/Test FE"
   ]
  },
  {
   "cell_type": "code",
   "execution_count": null,
   "id": "f8bf2317-0049-4f8e-8342-bc5a23d3decf",
   "metadata": {},
   "outputs": [],
   "source": [
    "%%time\n",
    "df = feature_engineering(df)\n",
    "# df = create_lag_time_old(df) # lag_time 예전 함수\n",
    "# df.to_csv(\"df/df.csv\", index=False) # df -> csv파일"
   ]
  },
  {
   "cell_type": "code",
   "execution_count": null,
   "id": "00c028d0-16fe-400f-b720-ae576d007780",
   "metadata": {},
   "outputs": [],
   "source": [
    "test_df = feature_engineering(test_df)\n",
    "# LEAVE LAST INTERACTION ONLY\n",
    "test_df = test_df[test_df['userID'] != test_df['userID'].shift(-1)]\n",
    "# DROP ANSWERCODE\n",
    "test_df = test_df.drop(['answerCode'], axis=1)"
   ]
  },
  {
   "cell_type": "code",
   "execution_count": 167,
   "id": "cd77324c-51cd-4c83-a0f4-bd7380366afe",
   "metadata": {},
   "outputs": [],
   "source": [
    "# 사용할 Feature 설정\n",
    "FEATS = ['KnowledgeTag', 'user_acc', 'test_mean', 'test_sum', 'tag_sum', 'tag_mean',\n",
    "         'elapsed_time', 'lag_time_old', 'item_ans_rate', 'test_time',\n",
    "         'user_recent_acc_5', 'user_recent_acc_10', 'user_recent_acc_30', 'user_recent_acc_50', 'user_recent_acc_100',\n",
    "        'sum_rel_point', 'knowledgetag_stroke',# 'user_ktag_mean',\n",
    "         'testPre', 'testPost', 'test_postId_mean', 'test_preId_mean',\n",
    "         'test_postId_sum']#'test_preId_sum']\n",
    "\n",
    "# X, y 값 분리\n",
    "y_train = df['answerCode']\n",
    "train = df.drop(['answerCode'], axis=1)"
   ]
  },
  {
   "cell_type": "markdown",
   "id": "4dc2b239-269f-4bf7-acca-dd3a71297738",
   "metadata": {},
   "source": [
    "## 4. 훈련 및 검증"
   ]
  },
  {
   "cell_type": "markdown",
   "id": "b210df92-7923-4132-b4b9-d72d16ee1222",
   "metadata": {},
   "source": [
    "### LightGBM cross validation out of fold train/predict 함수 정의"
   ]
  },
  {
   "cell_type": "code",
   "execution_count": 97,
   "id": "1c1133da-1ac5-4098-aef3-bd46751821c6",
   "metadata": {},
   "outputs": [],
   "source": [
    "import lightgbm as lgb\n",
    "from sklearn.metrics import roc_auc_score\n",
    "from sklearn.metrics import accuracy_score"
   ]
  },
  {
   "cell_type": "code",
   "execution_count": 164,
   "id": "427a8eb8-4335-486f-bb0f-6b356a6a6565",
   "metadata": {},
   "outputs": [],
   "source": [
    "def make_lgb_oof_prediction(train, y, test, features, model_params=None, folds=10):\n",
    "    x_train = train[features]\n",
    "#     print('x_train.shpae', x_train.shape)\n",
    "    x_test = test[features]\n",
    "    \n",
    "    # 테스트 데이터 예측값을 저장할 변수\n",
    "    test_preds = np.zeros(x_test.shape[0])\n",
    "    \n",
    "    # Out Of Fold Validation 예측 데이터를 저장할 변수\n",
    "    y_oof = np.zeros(x_train.shape[0])\n",
    "    \n",
    "    # 폴드별 평균 Validation 스코어를 저장할 변수\n",
    "    score_auc = 0\n",
    "    score_acc = 0\n",
    "    \n",
    "    # 피처 중요도를 저장할 데이터 프레임 선언\n",
    "    fi = pd.DataFrame()\n",
    "    fi['feature'] = features\n",
    "    \n",
    "    # Stratified K Fold 선언\n",
    "    kf = KFold(n_splits=folds, shuffle=True, random_state=SEED)\n",
    "\n",
    "    for fold, (tr_idx, val_idx) in enumerate(kf.split(x_train, y)):\n",
    "        # train index, validation index로 train 데이터를 나눔\n",
    "        x_tr, x_val = x_train.loc[tr_idx, features], x_train.loc[val_idx, features]\n",
    "        y_tr, y_val = y[tr_idx], y[val_idx]\n",
    "        \n",
    "        print(f'fold: {fold+1}, x_train.shape: {x_tr.shape}, x_val.shape: {x_val.shape}')\n",
    "\n",
    "        # LightGBM 데이터셋 선언\n",
    "        dtrain = lgb.Dataset(x_tr, label=y_tr)\n",
    "        dvalid = lgb.Dataset(x_val, label=y_val)\n",
    "        \n",
    "        # LightGBM 모델 훈련\n",
    "        clf = lgb.train(\n",
    "            model_params,\n",
    "            dtrain,\n",
    "            valid_sets=[dtrain, dvalid], # Validation 성능을 측정할 수 있도록 설정\n",
    "            verbose_eval=100\n",
    "        )\n",
    "\n",
    "        # Validation 데이터 예측\n",
    "        val_preds = clf.predict(x_val)\n",
    "        \n",
    "        # Validation index에 예측값 저장 \n",
    "        y_oof[val_idx] = val_preds\n",
    "        \n",
    "        # 폴드별 Validation 스코어 측정\n",
    "        print(f\"Fold {fold + 1} | AUC: {roc_auc_score(y_val, val_preds)}\")\n",
    "        print('-'*80)\n",
    "\n",
    "        # score 변수에 폴드별 평균 Validation 스코어 저장\n",
    "        score_auc += roc_auc_score(y_val, val_preds) / folds\n",
    "        score_acc += accuracy_score(y_val, np.where(val_preds >= 0.5, 1, 0)) / folds\n",
    "        \n",
    "        # 테스트 데이터 예측하고 평균해서 저장\n",
    "        test_preds += clf.predict(x_test) / folds\n",
    "        \n",
    "        # 폴드별 피처 중요도 저장\n",
    "        fi[f'fold_{fold+1}'] = clf.feature_importance()\n",
    "\n",
    "        del x_tr, x_val, y_tr, y_val\n",
    "        gc.collect()\n",
    "        \n",
    "    print(f\"\\nMean AUC = {score_auc}\") # 폴드별 Validation 스코어 출력\n",
    "    print(f\"Mean ACC = {score_acc}\")\n",
    "    print(f\"\\nOOF ACC = {accuracy_score(y, np.where(y_oof >= 0.5, 1, 0))}\")\n",
    "    print(f\"OOF AUC = {roc_auc_score(y, y_oof)}\") # Out Of Fold Validation 스코어 출력\n",
    "        \n",
    "    # 폴드별 피처 중요도 평균값 계산해서 저장 \n",
    "    fi_cols = [col for col in fi.columns if 'fold_' in col]\n",
    "    fi['importance'] = fi[fi_cols].mean(axis=1)\n",
    "    \n",
    "    return y_oof, test_preds, fi"
   ]
  },
  {
   "cell_type": "markdown",
   "id": "8feed108-d933-4ff2-aea4-0684ee2586bb",
   "metadata": {},
   "source": [
    "### 피처 중요도 플롯 함수 정의"
   ]
  },
  {
   "cell_type": "code",
   "execution_count": 148,
   "id": "334b68a1-5efe-45af-a37b-1b7739e1af51",
   "metadata": {},
   "outputs": [],
   "source": [
    "def plot_feature_importances(df, n=20, color='blue', figsize=(12,8)):\n",
    "    # 피처 중요도 순으로 내림차순 정렬\n",
    "    df = df.sort_values('importance', ascending = False).reset_index(drop = True)\n",
    "    \n",
    "    # 피처 중요도 정규화 및 누적 중요도 계산\n",
    "    df['importance_normalized'] = df['importance'] / df['importance'].sum()\n",
    "    df['cumulative_importance'] = np.cumsum(df['importance_normalized'])\n",
    "    \n",
    "    plt.rcParams['font.size'] = 12\n",
    "    plt.style.use('fivethirtyeight')\n",
    "    # 피처 중요도 순으로 n개까지 바플롯으로 그리기\n",
    "    df.loc[:n, :].plot.barh(y='importance_normalized', \n",
    "                            x='feature', color=color, \n",
    "                            edgecolor='k', figsize=figsize,\n",
    "                            legend=False)\n",
    "\n",
    "    plt.xlabel('Normalized Importance', size=18); plt.ylabel(''); \n",
    "    plt.title(f'Top {n} Most Important Features', size=18)\n",
    "    plt.gca().invert_yaxis()\n",
    "    \n",
    "    return df"
   ]
  },
  {
   "cell_type": "markdown",
   "id": "01559d33-c031-4516-82c8-061ee2c0eb02",
   "metadata": {},
   "source": [
    "### Hyperparameter 선언"
   ]
  },
  {
   "cell_type": "code",
   "execution_count": 171,
   "id": "249a41fe-66a8-4972-b381-4ae4556325af",
   "metadata": {},
   "outputs": [],
   "source": [
    "SEED = 42\n",
    "params = {'objective': 'binary',\n",
    "          'metric': 'auc',\n",
    "          'boosting_type': 'gbdt',\n",
    "          'seed': 42,\n",
    "          'num_leaves': 45,\n",
    "          'learning_rate': 0.1\n",
    "         }"
   ]
  },
  {
   "cell_type": "code",
   "execution_count": 169,
   "id": "57dd48ba-0b87-41a3-b3ad-f59e1016a5e7",
   "metadata": {
    "tags": []
   },
   "outputs": [
    {
     "name": "stdout",
     "output_type": "stream",
     "text": [
      "fold: 1, x_train.shape: (2273360, 22), x_val.shape: (252596, 22)\n",
      "[LightGBM] [Info] Number of positive: 1488388, number of negative: 784972\n",
      "[LightGBM] [Warning] Auto-choosing row-wise multi-threading, the overhead of testing was 0.060973 seconds.\n",
      "You can set `force_row_wise=true` to remove the overhead.\n",
      "And if memory is not enough, you can set `force_col_wise=true`.\n",
      "[LightGBM] [Info] Total Bins 3915\n",
      "[LightGBM] [Info] Number of data points in the train set: 2273360, number of used features: 22\n",
      "[LightGBM] [Info] [binary:BoostFromScore]: pavg=0.654708 -> initscore=0.639801\n",
      "[LightGBM] [Info] Start training from score 0.639801\n",
      "[100]\ttraining's auc: 0.845867\tvalid_1's auc: 0.845255\n",
      "Fold 1 | AUC: 0.8452549633326895\n",
      "--------------------------------------------------------------------------------\n",
      "fold: 2, x_train.shape: (2273360, 22), x_val.shape: (252596, 22)\n",
      "[LightGBM] [Info] Number of positive: 1488232, number of negative: 785128\n",
      "[LightGBM] [Warning] Auto-choosing row-wise multi-threading, the overhead of testing was 0.062803 seconds.\n",
      "You can set `force_row_wise=true` to remove the overhead.\n",
      "And if memory is not enough, you can set `force_col_wise=true`.\n",
      "[LightGBM] [Info] Total Bins 3924\n",
      "[LightGBM] [Info] Number of data points in the train set: 2273360, number of used features: 22\n",
      "[LightGBM] [Info] [binary:BoostFromScore]: pavg=0.654640 -> initscore=0.639497\n",
      "[LightGBM] [Info] Start training from score 0.639497\n",
      "[100]\ttraining's auc: 0.846083\tvalid_1's auc: 0.843595\n",
      "Fold 2 | AUC: 0.8435945396329888\n",
      "--------------------------------------------------------------------------------\n",
      "fold: 3, x_train.shape: (2273360, 22), x_val.shape: (252596, 22)\n",
      "[LightGBM] [Info] Number of positive: 1488261, number of negative: 785099\n",
      "[LightGBM] [Warning] Auto-choosing row-wise multi-threading, the overhead of testing was 0.063205 seconds.\n",
      "You can set `force_row_wise=true` to remove the overhead.\n",
      "And if memory is not enough, you can set `force_col_wise=true`.\n",
      "[LightGBM] [Info] Total Bins 3916\n",
      "[LightGBM] [Info] Number of data points in the train set: 2273360, number of used features: 22\n",
      "[LightGBM] [Info] [binary:BoostFromScore]: pavg=0.654653 -> initscore=0.639554\n",
      "[LightGBM] [Info] Start training from score 0.639554\n",
      "[100]\ttraining's auc: 0.84592\tvalid_1's auc: 0.844751\n",
      "Fold 3 | AUC: 0.8447506054063622\n",
      "--------------------------------------------------------------------------------\n",
      "fold: 4, x_train.shape: (2273360, 22), x_val.shape: (252596, 22)\n",
      "[LightGBM] [Info] Number of positive: 1487847, number of negative: 785513\n",
      "[LightGBM] [Warning] Auto-choosing row-wise multi-threading, the overhead of testing was 0.062700 seconds.\n",
      "You can set `force_row_wise=true` to remove the overhead.\n",
      "And if memory is not enough, you can set `force_col_wise=true`.\n",
      "[LightGBM] [Info] Total Bins 3918\n",
      "[LightGBM] [Info] Number of data points in the train set: 2273360, number of used features: 22\n",
      "[LightGBM] [Info] [binary:BoostFromScore]: pavg=0.654470 -> initscore=0.638748\n",
      "[LightGBM] [Info] Start training from score 0.638748\n",
      "[100]\ttraining's auc: 0.845877\tvalid_1's auc: 0.844771\n",
      "Fold 4 | AUC: 0.8447714437544466\n",
      "--------------------------------------------------------------------------------\n",
      "fold: 5, x_train.shape: (2273360, 22), x_val.shape: (252596, 22)\n",
      "[LightGBM] [Info] Number of positive: 1488537, number of negative: 784823\n",
      "[LightGBM] [Warning] Auto-choosing row-wise multi-threading, the overhead of testing was 0.064332 seconds.\n",
      "You can set `force_row_wise=true` to remove the overhead.\n",
      "And if memory is not enough, you can set `force_col_wise=true`.\n",
      "[LightGBM] [Info] Total Bins 3920\n",
      "[LightGBM] [Info] Number of data points in the train set: 2273360, number of used features: 22\n",
      "[LightGBM] [Info] [binary:BoostFromScore]: pavg=0.654774 -> initscore=0.640091\n",
      "[LightGBM] [Info] Start training from score 0.640091\n",
      "[100]\ttraining's auc: 0.845811\tvalid_1's auc: 0.845385\n",
      "Fold 5 | AUC: 0.8453852091890363\n",
      "--------------------------------------------------------------------------------\n",
      "fold: 6, x_train.shape: (2273360, 22), x_val.shape: (252596, 22)\n",
      "[LightGBM] [Info] Number of positive: 1488056, number of negative: 785304\n",
      "[LightGBM] [Warning] Auto-choosing row-wise multi-threading, the overhead of testing was 0.063250 seconds.\n",
      "You can set `force_row_wise=true` to remove the overhead.\n",
      "And if memory is not enough, you can set `force_col_wise=true`.\n",
      "[LightGBM] [Info] Total Bins 3921\n",
      "[LightGBM] [Info] Number of data points in the train set: 2273360, number of used features: 22\n",
      "[LightGBM] [Info] [binary:BoostFromScore]: pavg=0.654562 -> initscore=0.639155\n",
      "[LightGBM] [Info] Start training from score 0.639155\n",
      "[100]\ttraining's auc: 0.845941\tvalid_1's auc: 0.844244\n",
      "Fold 6 | AUC: 0.8442439436398428\n",
      "--------------------------------------------------------------------------------\n",
      "fold: 7, x_train.shape: (2273361, 22), x_val.shape: (252595, 22)\n",
      "[LightGBM] [Info] Number of positive: 1488346, number of negative: 785015\n",
      "[LightGBM] [Warning] Auto-choosing row-wise multi-threading, the overhead of testing was 0.060295 seconds.\n",
      "You can set `force_row_wise=true` to remove the overhead.\n",
      "And if memory is not enough, you can set `force_col_wise=true`.\n",
      "[LightGBM] [Info] Total Bins 3920\n",
      "[LightGBM] [Info] Number of data points in the train set: 2273361, number of used features: 22\n",
      "[LightGBM] [Info] [binary:BoostFromScore]: pavg=0.654690 -> initscore=0.639718\n",
      "[LightGBM] [Info] Start training from score 0.639718\n",
      "[100]\ttraining's auc: 0.845866\tvalid_1's auc: 0.844532\n",
      "Fold 7 | AUC: 0.8445322889933679\n",
      "--------------------------------------------------------------------------------\n",
      "fold: 8, x_train.shape: (2273361, 22), x_val.shape: (252595, 22)\n",
      "[LightGBM] [Info] Number of positive: 1488267, number of negative: 785094\n",
      "[LightGBM] [Warning] Auto-choosing row-wise multi-threading, the overhead of testing was 0.059711 seconds.\n",
      "You can set `force_row_wise=true` to remove the overhead.\n",
      "And if memory is not enough, you can set `force_col_wise=true`.\n",
      "[LightGBM] [Info] Total Bins 3919\n",
      "[LightGBM] [Info] Number of data points in the train set: 2273361, number of used features: 22\n",
      "[LightGBM] [Info] [binary:BoostFromScore]: pavg=0.654655 -> initscore=0.639564\n",
      "[LightGBM] [Info] Start training from score 0.639564\n",
      "[100]\ttraining's auc: 0.845863\tvalid_1's auc: 0.844804\n",
      "Fold 8 | AUC: 0.8448039823929128\n",
      "--------------------------------------------------------------------------------\n",
      "fold: 9, x_train.shape: (2273361, 22), x_val.shape: (252595, 22)\n",
      "[LightGBM] [Info] Number of positive: 1487985, number of negative: 785376\n",
      "[LightGBM] [Warning] Auto-choosing row-wise multi-threading, the overhead of testing was 0.059761 seconds.\n",
      "You can set `force_row_wise=true` to remove the overhead.\n",
      "And if memory is not enough, you can set `force_col_wise=true`.\n",
      "[LightGBM] [Info] Total Bins 3914\n",
      "[LightGBM] [Info] Number of data points in the train set: 2273361, number of used features: 22\n",
      "[LightGBM] [Info] [binary:BoostFromScore]: pavg=0.654531 -> initscore=0.639016\n",
      "[LightGBM] [Info] Start training from score 0.639016\n",
      "[100]\ttraining's auc: 0.845881\tvalid_1's auc: 0.844661\n",
      "Fold 9 | AUC: 0.8446605966610156\n",
      "--------------------------------------------------------------------------------\n",
      "fold: 10, x_train.shape: (2273361, 22), x_val.shape: (252595, 22)\n",
      "[LightGBM] [Info] Number of positive: 1488373, number of negative: 784988\n",
      "[LightGBM] [Warning] Auto-choosing row-wise multi-threading, the overhead of testing was 0.098844 seconds.\n",
      "You can set `force_row_wise=true` to remove the overhead.\n",
      "And if memory is not enough, you can set `force_col_wise=true`.\n",
      "[LightGBM] [Info] Total Bins 3924\n",
      "[LightGBM] [Info] Number of data points in the train set: 2273361, number of used features: 22\n",
      "[LightGBM] [Info] [binary:BoostFromScore]: pavg=0.654702 -> initscore=0.639770\n",
      "[LightGBM] [Info] Start training from score 0.639770\n",
      "[100]\ttraining's auc: 0.845828\tvalid_1's auc: 0.84518\n",
      "Fold 10 | AUC: 0.8451796518470106\n",
      "--------------------------------------------------------------------------------\n",
      "\n",
      "Mean AUC = 0.8447177224849673\n",
      "Mean ACC = 0.791869296311564\n",
      "\n",
      "OOF ACC = 0.7918692962189365\n",
      "OOF AUC = 0.8447171956674431\n",
      "CPU times: user 21min 51s, sys: 39.3 s, total: 22min 30s\n",
      "Wall time: 5min 52s\n"
     ]
    }
   ],
   "source": [
    "%%time\n",
    "y_oof, test_preds, fi = make_lgb_oof_prediction(train, y_train, test_df, FEATS, params)"
   ]
  },
  {
   "cell_type": "markdown",
   "id": "2a03ae1f-b061-4811-afc5-f6e8b049e77f",
   "metadata": {},
   "source": [
    "### Feature importance plot"
   ]
  },
  {
   "cell_type": "code",
   "execution_count": 152,
   "id": "fd5eeff1-b692-4bee-82f6-015b5a043f38",
   "metadata": {},
   "outputs": [
    {
     "data": {
      "image/png": "[encoded data removed]",
      "text/plain": [
       "<Figure size 864x576 with 1 Axes>"
      ]
     },
     "metadata": {},
     "output_type": "display_data"
    }
   ],
   "source": [
    "# sns.distplot(test_preds)\n",
    "# plt.show()\n",
    "fi_lgb = plot_feature_importances(fi)"
   ]
  },
  {
   "cell_type": "markdown",
   "id": "083a6754-35ba-4de5-a608-868e89fab128",
   "metadata": {},
   "source": [
    "## 5. Submit"
   ]
  },
  {
   "cell_type": "code",
   "execution_count": 141,
   "id": "7f9b97d0-e66a-47cf-94b1-a9768b4c632a",
   "metadata": {},
   "outputs": [
    {
     "name": "stdout",
     "output_type": "stream",
     "text": [
      "writing prediction : output/0608_kfold.csv\n"
     ]
    }
   ],
   "source": [
    "# SAVE OUTPUT\n",
    "output_dir = 'output/'\n",
    "write_path = os.path.join(output_dir, \"0608_kfold.csv\")\n",
    "if not os.path.exists(output_dir):\n",
    "    os.makedirs(output_dir)    \n",
    "with open(write_path, 'w', encoding='utf8') as w:\n",
    "    print(\"writing prediction : {}\".format(write_path))\n",
    "    w.write(\"id,prediction\\n\")\n",
    "    for id, p in enumerate(test_preds):\n",
    "        w.write('{},{}\\n'.format(id,p))"
   ]
  },
  {
   "cell_type": "code",
   "execution_count": null,
   "id": "8b34ebb0-cbae-41bb-9904-1a53f33d25f2",
   "metadata": {
    "tags": []
   },
   "outputs": [],
   "source": []
  }
 ],
 "metadata": {
  "kernelspec": {
   "display_name": "Python 3",
   "language": "python",
   "name": "python3"
  },
  "language_info": {
   "codemirror_mode": {
    "name": "ipython",
    "version": 3
   },
   "file_extension": ".py",
   "mimetype": "text/x-python",
   "name": "python",
   "nbconvert_exporter": "python",
   "pygments_lexer": "ipython3",
   "version": "3.7.7"
  }
 },
 "nbformat": 4,
 "nbformat_minor": 5
}
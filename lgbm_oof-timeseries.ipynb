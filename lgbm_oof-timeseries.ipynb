{
 "cells": [
  {
   "cell_type": "markdown",
   "id": "d6e5d299-d0d1-4cfd-8fa4-5ebb2a6d1152",
   "metadata": {},
   "source": [
    "# LightGBM"
   ]
  },
  {
   "cell_type": "code",
   "execution_count": 4,
   "id": "992f2153-5450-45c8-955f-f86478f7262f",
   "metadata": {},
   "outputs": [],
   "source": [
    "import pandas as pd\n",
    "import numpy as np\n",
    "import os\n",
    "import random\n",
    "import gc\n",
    "\n",
    "# Visualization\n",
    "import matplotlib.pyplot as plt\n",
    "import seaborn as sns\n",
    "\n",
    "from sklearn import preprocessing\n",
    "from sklearn.model_selection import KFold\n",
    "import pickle\n",
    "from datetime import datetime\n",
    "from tqdm.notebook import tqdm\n",
    "import time\n",
    "from IPython.display import Audio"
   ]
  },
  {
   "cell_type": "markdown",
   "id": "ed037319-92ed-4101-aaa0-54d5ee3ca809",
   "metadata": {},
   "source": [
    "## 1. Data Load"
   ]
  },
  {
   "cell_type": "code",
   "execution_count": 15,
   "id": "438ac38a-d220-4a4f-bc6a-d931bc778aec",
   "metadata": {
    "tags": []
   },
   "outputs": [],
   "source": [
    "# Load Train Data\n",
    "data_dir = '../input/data/train_dataset'\n",
    "csv_file_path = os.path.join(data_dir, 'train_data.csv')\n",
    "train_df = pd.read_csv(csv_file_path)\n",
    "\n",
    "# Load Test Data\n",
    "test_csv_file_path = os.path.join(data_dir, 'test_data.csv')\n",
    "test_df = pd.read_csv(test_csv_file_path)\n"
   ]
  },
  {
   "cell_type": "markdown",
   "id": "f0abd330-cfd4-49f3-8eaf-c31d1c6c7ba3",
   "metadata": {},
   "source": [
    "## 2. Feature Engineering 함수"
   ]
  },
  {
   "cell_type": "markdown",
   "id": "c42fa25f-024d-41a6-b844-3662e16f3c33",
   "metadata": {},
   "source": [
    "### elapsed_time & lag_time"
   ]
  },
  {
   "cell_type": "code",
   "execution_count": 17,
   "id": "a965e13a-2254-4314-b362-adfd16bbed1a",
   "metadata": {},
   "outputs": [],
   "source": [
    "# make elapsed_time & lag_time\n",
    "def convert_time(s):\n",
    "    timestamp = time.mktime(datetime.strptime(s, '%Y-%m-%d %H:%M:%S').timetuple())\n",
    "    return int(timestamp)\n",
    "\n",
    "def create_elapsed_time(df):\n",
    "    prev_timestamp = df.groupby(['userID', 'testId'])[['time_stamp']].shift()\n",
    "    df['elapsed_time'] = df['time_stamp'] - prev_timestamp['time_stamp']\n",
    "    df['elapsed_time'] = df['elapsed_time'].fillna(0)\n",
    "    return df\n",
    "\n",
    "def create_lag_time(df):\n",
    "    start_end_id_by_user_test = df.groupby(['userID','testId', 'day']).apply(lambda x: (x.index.values[0], x.index.values[-1])).reset_index()\n",
    "    start_end_id_by_user_test = start_end_id_by_user_test.sort_values(by=[0]).reset_index(drop=True)\n",
    "    start_row_id_by_user = start_end_id_by_user_test.groupby('userID').apply(lambda x: x.index.values[0])\n",
    "    \n",
    "    lag_time_list = [0]*len(df)\n",
    "    for start_row, end_row in tqdm(start_end_id_by_user_test [0][1:]):\n",
    "        start_time = df.time_stamp[start_row]\n",
    "        prev_time = df.time_stamp[start_row-1]\n",
    "        lag_time = start_time - prev_time\n",
    "        lag_time_list[start_row:end_row+1] = [lag_time]*(end_row-start_row+1)\n",
    "    \n",
    "    # 사용자가 바뀌는 부분 첫 시험지 lag_time은 0으로 변경\n",
    "    for user_start_idx in tqdm(start_row_id_by_user):\n",
    "        start, end = start_end_id_by_user_test .loc[user_start_idx][0]\n",
    "        lag_time_list[start:end+1] = [0]*(end-start+1)\n",
    "    \n",
    "    df['lag_time'] = lag_time_list\n",
    "    \n",
    "    return df"
   ]
  },
  {
   "cell_type": "markdown",
   "id": "fb8347ac-ffd5-4569-aa1c-85548c3edbf1",
   "metadata": {},
   "source": [
    "### user_recent_acc"
   ]
  },
  {
   "cell_type": "code",
   "execution_count": 18,
   "id": "217fe7af-fb9a-4f4d-b9dc-0ca2ecf28e16",
   "metadata": {},
   "outputs": [],
   "source": [
    "# make user_recent_acc\n",
    "def create_recent_acc(df, n=5):\n",
    "    def custom(pr, cnt, n):\n",
    "        if cnt < n:\n",
    "            return 0\n",
    "        else:\n",
    "            return pr\n",
    "    tmp_df = df.copy()\n",
    "    user_start_idx = df['userID'].diff() > 0\n",
    "    tmp_df['prior_ans_cnt']  = tmp_df.groupby('userID')['answerCode'].cumsum().shift(fill_value=0)\n",
    "    tmp_df['shift_prior_ans_cnt'] = tmp_df.groupby('userID')['answerCode'].cumsum().shift(fill_value=0)\n",
    "    tmp_df.loc[user_start_idx, ['prior_ans_cnt','shift_prior_ans_cnt']] = 0\n",
    "    tmp_df['shift_prior_ans_cnt'] = tmp_df['shift_prior_ans_cnt'].shift(n)\n",
    "    tmp_df['content'] = [1]*len(tmp_df)\n",
    "    tmp_df['prior_quest_cnt'] = tmp_df.groupby('userID')['content'].cumsum().shift(fill_value=0)\n",
    "    tmp_df['prior_quest_cnt'] = tmp_df['prior_quest_cnt'].apply(lambda x: n if x>n else x)\n",
    "    tmp_df.loc[user_start_idx, ['prior_quest_cnt']] = 0\n",
    "    tmp_df['shift_prior_ans_cnt'] = tmp_df.apply(lambda x: custom(x['shift_prior_ans_cnt'], x['prior_quest_cnt'], n), axis=1)\n",
    "    tmp_df['cnt'] = tmp_df['prior_ans_cnt'] - tmp_df['shift_prior_ans_cnt'] \n",
    "    df[f'user_recent_acc_{n}'] = (tmp_df['cnt'] / tmp_df['prior_quest_cnt']).fillna(0)\n",
    "    return df"
   ]
  },
  {
   "cell_type": "markdown",
   "id": "63e4207e-acb8-4ccd-be17-88d19591b0e2",
   "metadata": {},
   "source": [
    "### sum_rel_point"
   ]
  },
  {
   "cell_type": "code",
   "execution_count": 19,
   "id": "c56131c9-c996-45eb-af0a-aac0fdb85f16",
   "metadata": {},
   "outputs": [],
   "source": [
    "# make sum_rel_point, 'item_ans_rate' feature 사용\n",
    "def fill_rel_point(df):\n",
    "    arr = np.zeros(len(df))\n",
    "    start_idx = 0\n",
    "\n",
    "    for i in tqdm(range(len(df))):\n",
    "        row = df.iloc[i, :].copy()\n",
    "        answer = row['answerCode']\n",
    "        item_ans_rate = row['item_ans_rate']\n",
    "\n",
    "        if answer == 1:\n",
    "            arr[i] = 1 - item_ans_rate\n",
    "        elif answer == 0:\n",
    "            arr[i] = - item_ans_rate\n",
    "        elif answer == -1:\n",
    "            \n",
    "            avg_rel_point = np.mean(arr[start_idx : i])\n",
    "            start_idx = i + 1 \n",
    "            arr[i] = avg_rel_point\n",
    "\n",
    "    df['rel_point'] = pd.Series(arr)\n",
    "    return df\n",
    "\n",
    "def sum_point(df):\n",
    "    grouped = df.groupby('userID')['rel_point']\n",
    "    arr = np.zeros(len(df))\n",
    "    start_idx = 0\n",
    "    cnt = 0\n",
    "    for _, group in tqdm(grouped):\n",
    "        cnt += 1\n",
    "        point_sum = group.iloc[:len(group)-1].sum()\n",
    "        arr[start_idx:start_idx+len(group)] = point_sum\n",
    "        start_idx = start_idx + len(group)\n",
    "\n",
    "    df['sum_rel_point'] = pd.Series(arr)\n",
    "    return df"
   ]
  },
  {
   "cell_type": "markdown",
   "id": "44980d7a-ec14-438a-b5b5-63ce551737b5",
   "metadata": {},
   "source": [
    "### knowledgetag_stroke"
   ]
  },
  {
   "cell_type": "code",
   "execution_count": 20,
   "id": "f241d4ba-9a1b-47e6-9d6c-f8ffa7bb656f",
   "metadata": {
    "tags": []
   },
   "outputs": [],
   "source": [
    "# tag 연속으로 나온 횟수\n",
    "def knowledgetag_storke_feat_eng(df):\n",
    "    knowledgetags = df.KnowledgeTag\n",
    "    knowledgetag_stroke = np.zeros(knowledgetags.shape)\n",
    "    \n",
    "    for i, k in enumerate(knowledgetags):\n",
    "        if i == 0:\n",
    "            continue\n",
    "    \n",
    "        if k == knowledgetags[i-1]:\n",
    "            knowledgetag_stroke[i] = knowledgetag_stroke[i-1] + 1\n",
    "            \n",
    "    df['knowledgetag_stroke'] = knowledgetag_stroke\n",
    "    return df"
   ]
  },
  {
   "cell_type": "markdown",
   "id": "c034909c-e845-4cc0-be3e-735944d094b4",
   "metadata": {},
   "source": [
    "### testPre & testPost"
   ]
  },
  {
   "cell_type": "code",
   "execution_count": 21,
   "id": "060844ef-08e7-4203-b919-4995b6ce6dcd",
   "metadata": {},
   "outputs": [],
   "source": [
    "def testId_feat_eng(df):\n",
    "\n",
    "    df['testPre'] = df.testId.map(lambda x: x[1:4])\n",
    "    df['testPost'] = df.testId.map(lambda x: x[-3:])\n",
    "    \n",
    "    \n",
    "    feat_test_preId = df.groupby('testPre')['answerCode'].agg(['mean', 'sum'])\n",
    "    feat_test_preId.columns = [\"test_preId_mean\", 'test_preId_sum']\n",
    "    feat_test_postId = df.groupby('testPost')['answerCode'].agg(['mean', 'sum'])\n",
    "    feat_test_postId.columns = [\"test_postId_mean\", 'test_postId_sum']\n",
    "    \n",
    "    df = pd.merge(df, feat_test_preId, on=['testPre'], how=\"left\")\n",
    "    df = pd.merge(df, feat_test_postId, on=['testPost'], how=\"left\")\n",
    "    \n",
    "    df['testPre'] = df.testPre.map(int)\n",
    "    df['testPost'] = df.testPost.map(int)\n",
    "    \n",
    "    return df"
   ]
  },
  {
   "cell_type": "markdown",
   "id": "f56d11a2-a124-4c6d-ab82-2c9dbb6b0607",
   "metadata": {},
   "source": [
    "### ktag_acc"
   ]
  },
  {
   "cell_type": "code",
   "execution_count": 22,
   "id": "eb412c3b-0928-419d-9021-5f5c9631bab6",
   "metadata": {},
   "outputs": [],
   "source": [
    "# 매우 overfitting, 일단 폐기\n",
    "# # 유저별 ktag별 정답률\n",
    "# def user_ktag_acc(df):\n",
    "#     def rate(values):\n",
    "#         return sum(values) / len(values)\n",
    "#     df['user_ktag_acc'] = df.groupby(['userID', 'KnowledgeTag']).answerCode.transform(rate)\n",
    "#     return df\n",
    "\n",
    "# def user_ktag_mean(df):\n",
    "# # 유저별 ktag별 정답률과 ktag 전체 정답률(tag_mean) 평균\n",
    "#     df['user_ktag_mean'] = (df['tag_mean'] + df['user_ktag_acc']) / 2\n",
    "#     return df"
   ]
  },
  {
   "cell_type": "markdown",
   "id": "bec36de0-597e-4be6-8d79-968e3917c1d6",
   "metadata": {},
   "source": [
    "### tag9_ans_rate"
   ]
  },
  {
   "cell_type": "code",
   "execution_count": 23,
   "id": "d39c2bc4-f301-4262-b036-16be71a6b715",
   "metadata": {},
   "outputs": [],
   "source": [
    "# 유저별 대분류 정답률\n",
    "def tag9_ans_rate(df):\n",
    "    df['tag9'] = df['testId'].apply(lambda x : x[2])\n",
    "    def rate(values):\n",
    "        return sum(values) / len(values)\n",
    "    df['tag9_ans_rate'] = df.groupby(['userID', 'tag9']).answerCode.transform(rate)\n",
    "    return df"
   ]
  },
  {
   "cell_type": "markdown",
   "id": "3d061189-0a38-4821-bef9-05bec0d6f8c8",
   "metadata": {},
   "source": [
    "### user_test_time_acc"
   ]
  },
  {
   "cell_type": "code",
   "execution_count": 24,
   "id": "889be371-9a03-4e80-a739-1bdb5d8ee0a4",
   "metadata": {},
   "outputs": [],
   "source": [
    "def seperate_time(t):\n",
    "    if t.hour < 6:\n",
    "        # 새벽\n",
    "        return 0\n",
    "    elif t.hour < 12:\n",
    "        # 오전\n",
    "        return 1\n",
    "    elif t.hour < 18:\n",
    "        # 오후\n",
    "        return 2\n",
    "    else:\n",
    "        # 밤\n",
    "        return 3\n",
    "\n",
    "def u_test_time_acc(df):\n",
    "    timestamps = pd.to_datetime(df.Timestamp)\n",
    "    timestamps = timestamps.map(seperate_time)\n",
    "    df['test_time'] = timestamps\n",
    "    def rate(values):\n",
    "        return sum(values) / len(values)\n",
    "    df['u_test_time_acc'] = df.groupby(['userID', 'test_time']).answerCode.transform(rate)\n",
    "    return df"
   ]
  },
  {
   "cell_type": "markdown",
   "id": "63651e93-94d9-44c5-a31c-cc72a20f3f0f",
   "metadata": {},
   "source": [
    "### feature_engineering 함수"
   ]
  },
  {
   "cell_type": "code",
   "execution_count": 25,
   "id": "811d7619-19c7-40aa-acc6-8f9f5b1c0637",
   "metadata": {},
   "outputs": [],
   "source": [
    "def feature_engineering(df):\n",
    "    assessmentItemID_mean_dict = df.groupby('assessmentItemID').mean().to_dict()\n",
    "    \n",
    "    #유저별 시퀀스를 고려하기 위해 아래와 같이 정렬\n",
    "    df.sort_values(by=['userID','Timestamp'], inplace=True)\n",
    "    \n",
    "    df['day'] = df.Timestamp.apply(lambda x:x.split()[0])\n",
    "    #유저들의 문제 풀이수, 정답 수, 정답률을 시간순으로 누적해서 계산\n",
    "    df['user_correct_answer'] = df.groupby('userID')['answerCode'].transform(lambda x: x.cumsum().shift(1))\n",
    "    df['user_correct_answer'] = df['user_correct_answer'].fillna(0)\n",
    "    df['user_total_answer'] = df.groupby('userID')['answerCode'].cumcount()\n",
    "    df['user_acc'] = df['user_correct_answer']/df['user_total_answer']\n",
    "    df['user_acc'] = df['user_acc'].fillna(0)\n",
    "\n",
    "    # testId와 KnowledgeTag의 전체 정답률은 한번에 계산\n",
    "    # 아래 데이터는 제출용 데이터셋에 대해서도 재사용\n",
    "    correct_t = df.groupby(['testId'])['answerCode'].agg(['mean', 'sum'])\n",
    "    correct_t.columns = [\"test_mean\", 'test_sum']\n",
    "    correct_k = df.groupby(['KnowledgeTag'])['answerCode'].agg(['mean', 'sum'])\n",
    "    correct_k.columns = [\"tag_mean\", 'tag_sum']\n",
    "\n",
    "    df = pd.merge(df, correct_t, on=['testId'], how=\"left\")\n",
    "    df = pd.merge(df, correct_k, on=['KnowledgeTag'], how=\"left\")\n",
    "    \n",
    "    \n",
    "    # custom features\n",
    "    \n",
    "    \n",
    "    # item_ans_rate: 문항별 정답률\n",
    "    df['item_ans_rate'] = df.assessmentItemID.map(assessmentItemID_mean_dict['answerCode'])\n",
    "    \n",
    "    # elapsed time & lag_time\n",
    "    df['time_stamp'] = df['Timestamp'].apply(convert_time)\n",
    "    df = create_elapsed_time(df)\n",
    "    df = create_lag_time(df)\n",
    "    \n",
    "    # user_recent_acc\n",
    "    for i in tqdm([5, 10, 30, 50, 100]):\n",
    "        df = create_recent_acc(df, n=i)\n",
    "    \n",
    "    # sum_rel_point\n",
    "    df = fill_rel_point(df)\n",
    "    df = sum_point(df)\n",
    "    # normalize sum_rel_point\n",
    "    max_, min_ = max(df['sum_rel_point']), min(df['sum_rel_point'])\n",
    "    df['sum_rel_point'] = (df['sum_rel_point'] - min_) / (max_ - min_)\n",
    "    \n",
    "    # user_ktag_acc 말도 안되게 overfitting됨.\n",
    "#     df = user_ktag_acc(df)\n",
    "    \n",
    "    # tag9_ans_rate\n",
    "    df = tag9_ans_rate(df)\n",
    "    \n",
    "    # knowledgetag_stroke\n",
    "    df = knowledgetag_storke_feat_eng(df)\n",
    "    \n",
    "    # testPre & testPost\n",
    "    df = testId_feat_eng(df)\n",
    "    \n",
    "    # u_test_time_acc(df) 유저별 시간대(test_time) 정답률\n",
    "    df = u_test_time_acc(df)\n",
    "    \n",
    "    return df"
   ]
  },
  {
   "cell_type": "markdown",
   "id": "90fee420-c168-4766-8f46-e7fdd13dfd3d",
   "metadata": {},
   "source": [
    "## 3. Make Train/Valid Dataset"
   ]
  },
  {
   "cell_type": "markdown",
   "id": "a847de97-24bf-4be4-9b5f-cd3c19e969b6",
   "metadata": {},
   "source": [
    "### Data split / FE"
   ]
  },
  {
   "cell_type": "code",
   "execution_count": 26,
   "id": "9d3aa1a7-4ea1-485c-8570-fbcdea360a2a",
   "metadata": {},
   "outputs": [],
   "source": [
    "# make total_train dataset\n",
    "total_train = pd.concat([train_df, test_df[test_df.answerCode!=-1]], ignore_index=True)"
   ]
  },
  {
   "cell_type": "code",
   "execution_count": 27,
   "id": "e5e1da34-2cd6-40ec-9c05-c0b42fe596a8",
   "metadata": {},
   "outputs": [
    {
     "data": {
      "application/vnd.jupyter.widget-view+json": {
       "model_id": "6c094b47272e48ccbac41616b00be9d3",
       "version_major": 2,
       "version_minor": 0
      },
      "text/plain": [
       "  0%|          | 0/417882 [00:00<?, ?it/s]"
      ]
     },
     "metadata": {},
     "output_type": "display_data"
    },
    {
     "data": {
      "application/vnd.jupyter.widget-view+json": {
       "model_id": "a243641ae4e14d0983112702605ee911",
       "version_major": 2,
       "version_minor": 0
      },
      "text/plain": [
       "  0%|          | 0/7442 [00:00<?, ?it/s]"
      ]
     },
     "metadata": {},
     "output_type": "display_data"
    },
    {
     "data": {
      "application/vnd.jupyter.widget-view+json": {
       "model_id": "e12c8d11922c47b793c54ffaad57a876",
       "version_major": 2,
       "version_minor": 0
      },
      "text/plain": [
       "  0%|          | 0/5 [00:00<?, ?it/s]"
      ]
     },
     "metadata": {},
     "output_type": "display_data"
    },
    {
     "data": {
      "application/vnd.jupyter.widget-view+json": {
       "model_id": "2fb68b3b843448d08300a47767faed68",
       "version_major": 2,
       "version_minor": 0
      },
      "text/plain": [
       "  0%|          | 0/2525956 [00:00<?, ?it/s]"
      ]
     },
     "metadata": {},
     "output_type": "display_data"
    },
    {
     "data": {
      "application/vnd.jupyter.widget-view+json": {
       "model_id": "01855e69444c427381e8fac4750284a7",
       "version_major": 2,
       "version_minor": 0
      },
      "text/plain": [
       "  0%|          | 0/7442 [00:00<?, ?it/s]"
      ]
     },
     "metadata": {},
     "output_type": "display_data"
    },
    {
     "name": "stdout",
     "output_type": "stream",
     "text": [
      "CPU times: user 18min 58s, sys: 21.7 s, total: 19min 20s\n",
      "Wall time: 19min 15s\n"
     ]
    }
   ],
   "source": [
    "%%time\n",
    "# FE total_train\n",
    "total_train = feature_engineering(total_train)"
   ]
  },
  {
   "cell_type": "code",
   "execution_count": 159,
   "id": "a80c2874-b268-4138-919d-270c2046a6c4",
   "metadata": {},
   "outputs": [],
   "source": [
    "# total_train.to_csv(\"df/df.csv\", index=False) # df -> csv"
   ]
  },
  {
   "cell_type": "code",
   "execution_count": 69,
   "id": "bb6dc723-87f1-467f-90af-8eb8ac4730e6",
   "metadata": {},
   "outputs": [
    {
     "name": "stdout",
     "output_type": "stream",
     "text": [
      "CPU times: user 44 ms, sys: 4 ms, total: 48 ms\n",
      "Wall time: 47.2 ms\n"
     ]
    }
   ],
   "source": [
    "%%time\n",
    "# VALID set: LEAVE LAST SECOND INTERACTION (users in test_data.csv)\n",
    "test_tmp = test_df[test_df['answerCode'].isin([0, 1])]\n",
    "valid = test_tmp[test_tmp['userID'] != test_tmp['userID'].shift(-1)]\n",
    "y_valid = valid['answerCode']"
   ]
  },
  {
   "cell_type": "code",
   "execution_count": 37,
   "id": "fe36c2a5-e381-4616-84b2-41bdfe4a44cf",
   "metadata": {
    "tags": []
   },
   "outputs": [
    {
     "data": {
      "application/vnd.jupyter.widget-view+json": {
       "model_id": "4003d4673a2f461eb46b468ab370b322",
       "version_major": 2,
       "version_minor": 0
      },
      "text/plain": [
       "  0%|          | 0/417879 [00:00<?, ?it/s]"
      ]
     },
     "metadata": {},
     "output_type": "display_data"
    },
    {
     "data": {
      "application/vnd.jupyter.widget-view+json": {
       "model_id": "6a0243e5605142e686dfb63b3e5431f0",
       "version_major": 2,
       "version_minor": 0
      },
      "text/plain": [
       "  0%|          | 0/7442 [00:00<?, ?it/s]"
      ]
     },
     "metadata": {},
     "output_type": "display_data"
    },
    {
     "data": {
      "application/vnd.jupyter.widget-view+json": {
       "model_id": "602100ab7b7f4e7cb4397d55b06d7ab2",
       "version_major": 2,
       "version_minor": 0
      },
      "text/plain": [
       "  0%|          | 0/5 [00:00<?, ?it/s]"
      ]
     },
     "metadata": {},
     "output_type": "display_data"
    },
    {
     "data": {
      "application/vnd.jupyter.widget-view+json": {
       "model_id": "e64471a314b24733bc0a9784327a1e32",
       "version_major": 2,
       "version_minor": 0
      },
      "text/plain": [
       "  0%|          | 0/2525212 [00:00<?, ?it/s]"
      ]
     },
     "metadata": {},
     "output_type": "display_data"
    },
    {
     "data": {
      "application/vnd.jupyter.widget-view+json": {
       "model_id": "da3afb1c0b474f7f820b3147c39bc6c4",
       "version_major": 2,
       "version_minor": 0
      },
      "text/plain": [
       "  0%|          | 0/7442 [00:00<?, ?it/s]"
      ]
     },
     "metadata": {},
     "output_type": "display_data"
    },
    {
     "name": "stderr",
     "output_type": "stream",
     "text": [
      "/opt/conda/lib/python3.7/site-packages/ipykernel_launcher.py:5: SettingWithCopyWarning: \n",
      "A value is trying to be set on a copy of a slice from a DataFrame\n",
      "\n",
      "See the caveats in the documentation: https://pandas.pydata.org/pandas-docs/stable/user_guide/indexing.html#returning-a-view-versus-a-copy\n",
      "  \"\"\"\n",
      "/opt/conda/lib/python3.7/site-packages/ipykernel_launcher.py:7: SettingWithCopyWarning: \n",
      "A value is trying to be set on a copy of a slice from a DataFrame.\n",
      "Try using .loc[row_indexer,col_indexer] = value instead\n",
      "\n",
      "See the caveats in the documentation: https://pandas.pydata.org/pandas-docs/stable/user_guide/indexing.html#returning-a-view-versus-a-copy\n",
      "  import sys\n",
      "/opt/conda/lib/python3.7/site-packages/ipykernel_launcher.py:9: SettingWithCopyWarning: \n",
      "A value is trying to be set on a copy of a slice from a DataFrame.\n",
      "Try using .loc[row_indexer,col_indexer] = value instead\n",
      "\n",
      "See the caveats in the documentation: https://pandas.pydata.org/pandas-docs/stable/user_guide/indexing.html#returning-a-view-versus-a-copy\n",
      "  if __name__ == '__main__':\n",
      "/opt/conda/lib/python3.7/site-packages/ipykernel_launcher.py:10: SettingWithCopyWarning: \n",
      "A value is trying to be set on a copy of a slice from a DataFrame.\n",
      "Try using .loc[row_indexer,col_indexer] = value instead\n",
      "\n",
      "See the caveats in the documentation: https://pandas.pydata.org/pandas-docs/stable/user_guide/indexing.html#returning-a-view-versus-a-copy\n",
      "  # Remove the CWD from sys.path while we load stuff.\n",
      "/opt/conda/lib/python3.7/site-packages/ipykernel_launcher.py:11: SettingWithCopyWarning: \n",
      "A value is trying to be set on a copy of a slice from a DataFrame.\n",
      "Try using .loc[row_indexer,col_indexer] = value instead\n",
      "\n",
      "See the caveats in the documentation: https://pandas.pydata.org/pandas-docs/stable/user_guide/indexing.html#returning-a-view-versus-a-copy\n",
      "  # This is added back by InteractiveShellApp.init_path()\n",
      "/opt/conda/lib/python3.7/site-packages/ipykernel_launcher.py:12: SettingWithCopyWarning: \n",
      "A value is trying to be set on a copy of a slice from a DataFrame.\n",
      "Try using .loc[row_indexer,col_indexer] = value instead\n",
      "\n",
      "See the caveats in the documentation: https://pandas.pydata.org/pandas-docs/stable/user_guide/indexing.html#returning-a-view-versus-a-copy\n",
      "  if sys.path[0] == '':\n",
      "/opt/conda/lib/python3.7/site-packages/ipykernel_launcher.py:13: SettingWithCopyWarning: \n",
      "A value is trying to be set on a copy of a slice from a DataFrame.\n",
      "Try using .loc[row_indexer,col_indexer] = value instead\n",
      "\n",
      "See the caveats in the documentation: https://pandas.pydata.org/pandas-docs/stable/user_guide/indexing.html#returning-a-view-versus-a-copy\n",
      "  del sys.path[0]\n"
     ]
    },
    {
     "data": {
      "application/vnd.jupyter.widget-view+json": {
       "model_id": "d73d2c447fbb4de397eae1fbc3b3869f",
       "version_major": 2,
       "version_minor": 0
      },
      "text/plain": [
       "  0%|          | 0/743 [00:00<?, ?it/s]"
      ]
     },
     "metadata": {},
     "output_type": "display_data"
    },
    {
     "data": {
      "application/vnd.jupyter.widget-view+json": {
       "model_id": "8ac2dee13ca045ee9924c308f7ea9a92",
       "version_major": 2,
       "version_minor": 0
      },
      "text/plain": [
       "  0%|          | 0/744 [00:00<?, ?it/s]"
      ]
     },
     "metadata": {},
     "output_type": "display_data"
    },
    {
     "data": {
      "application/vnd.jupyter.widget-view+json": {
       "model_id": "a31c33c2b21249bbba72bf4116e76a1d",
       "version_major": 2,
       "version_minor": 0
      },
      "text/plain": [
       "  0%|          | 0/5 [00:00<?, ?it/s]"
      ]
     },
     "metadata": {},
     "output_type": "display_data"
    },
    {
     "data": {
      "application/vnd.jupyter.widget-view+json": {
       "model_id": "710245c68b054ceaaecb59d886f0c5b2",
       "version_major": 2,
       "version_minor": 0
      },
      "text/plain": [
       "  0%|          | 0/744 [00:00<?, ?it/s]"
      ]
     },
     "metadata": {},
     "output_type": "display_data"
    },
    {
     "data": {
      "application/vnd.jupyter.widget-view+json": {
       "model_id": "30b836c0419040b3953fb15910f4e758",
       "version_major": 2,
       "version_minor": 0
      },
      "text/plain": [
       "  0%|          | 0/744 [00:00<?, ?it/s]"
      ]
     },
     "metadata": {},
     "output_type": "display_data"
    }
   ],
   "source": [
    "# make train dataset\n",
    "test_tr = test_tr.drop(valid.index)\n",
    "train = pd.concat([train_df, test_tr], ignore_index=True)\n",
    "\n",
    "# FE train / valid dataset\n",
    "train = feature_engineering(train)\n",
    "valid = feature_engineering(valid)"
   ]
  },
  {
   "cell_type": "markdown",
   "id": "4dc2b239-269f-4bf7-acca-dd3a71297738",
   "metadata": {},
   "source": [
    "## 4. 훈련 및 검증"
   ]
  },
  {
   "cell_type": "markdown",
   "id": "6520aac1-a929-4a73-9efb-36dd5596d477",
   "metadata": {},
   "source": [
    "### 평가지표 출력 함수 정의"
   ]
  },
  {
   "cell_type": "code",
   "execution_count": 42,
   "id": "9a18cc3c-49f2-458e-a483-447b534282f0",
   "metadata": {},
   "outputs": [],
   "source": [
    "def print_score(label, pred, prob_thres=0.5):\n",
    "    print('PRINT VALIDATION SCORE')\n",
    "    print('Precision: {:.5f}'.format(precision_score(label, pred>prob_thres)))\n",
    "    print('ROC AUC Score: {:.5f}'.format(roc_auc_score(label, pred)))"
   ]
  },
  {
   "cell_type": "markdown",
   "id": "b210df92-7923-4132-b4b9-d72d16ee1222",
   "metadata": {},
   "source": [
    "### LightGBM Time-series cross validation out of fold train/predict 함수 정의"
   ]
  },
  {
   "cell_type": "code",
   "execution_count": 56,
   "id": "1c1133da-1ac5-4098-aef3-bd46751821c6",
   "metadata": {},
   "outputs": [],
   "source": [
    "import lightgbm as lgb\n",
    "from sklearn.model_selection import TimeSeriesSplit\n",
    "from sklearn.metrics import accuracy_score, roc_auc_score, precision_score"
   ]
  },
  {
   "cell_type": "code",
   "execution_count": 74,
   "id": "a39b1f8e-5092-40ee-85b0-a505b6bf7762",
   "metadata": {},
   "outputs": [],
   "source": [
    "FOLD = 10\n",
    "def make_lgb_oof_pred(train, test, features, model_params=None):\n",
    "    # train data의 answercode\n",
    "    y = train['answerCode']\n",
    "    \n",
    "    x_test = test[features]\n",
    "    \n",
    "    # 테스트 데이터 예측값을 저장할 변수\n",
    "    test_preds = np.zeros(test.shape[0])\n",
    "    \n",
    "    # Out Of Fold Validation 예측 데이터를 저장할 변수\n",
    "    y_oof = np.zeros(train.shape[0])\n",
    "    \n",
    "    # 폴드별 평균 Validation 스코어를 저장할 변수\n",
    "    score_auc = 0\n",
    "    score_acc = 0\n",
    "    \n",
    "    # 피처 중요도를 저장할 데이터 프레임 선언\n",
    "    fi = pd.DataFrame()\n",
    "    fi['feature'] = features\n",
    "    \n",
    "    # Time-series split\n",
    "    # Timestamp 기준으로 정렬\n",
    "    train.sort_values(by='Timestamp', inplace=True)\n",
    "    tscv = TimeSeriesSplit(n_splits=10)\n",
    "    \n",
    "    for fold, (tr_idx, val_idx) in enumerate(tscv.split(train, y)):\n",
    "        # train index, validation index로 train 데이터를 나눔\n",
    "        x_tr, x_val = train.loc[tr_idx, features], train.loc[val_idx, features]\n",
    "        y_tr, y_val = y[tr_idx], y[val_idx]\n",
    "        \n",
    "        print(f'fold: {fold}, x_train.shape: {x_tr.shape}, x_val.shape: {x_val.shape}')\n",
    "\n",
    "        # LightGBM 데이터셋 선언\n",
    "        dtrain = lgb.Dataset(x_tr, y_tr)\n",
    "        dvalid = lgb.Dataset(x_val,y_val)\n",
    "        \n",
    "        # LightGBM 모델 훈련\n",
    "        clf = lgb.train(\n",
    "            model_params,\n",
    "            dtrain,\n",
    "            valid_sets=[dtrain, dvalid], # Validation 성능을 측정할 수 있도록 설정\n",
    "            verbose_eval=100\n",
    "        )\n",
    "\n",
    "        # Validation 데이터 예측\n",
    "        val_preds = clf.predict(x_val)\n",
    "        \n",
    "        # Validation index에 예측값 저장 \n",
    "        y_oof[val_idx] = val_preds\n",
    "        \n",
    "        # 폴드별 Validation 스코어 측정\n",
    "        print(f\"Fold {fold} | AUC: {roc_auc_score(y_val, val_preds)}\")\n",
    "        print('-'*80)\n",
    "\n",
    "        # score 변수에 폴드별 평균 Validation 스코어 저장\n",
    "        score_auc += roc_auc_score(y_val, val_preds) / FOLD\n",
    "        score_acc += accuracy_score(y_val, np.where(val_preds >= 0.5, 1, 0)) / FOLD\n",
    "        \n",
    "        # 테스트 데이터 예측하고 평균해서 저장\n",
    "        test_preds += clf.predict(x_test) / FOLD\n",
    "        \n",
    "        # 폴드별 피처 중요도 저장\n",
    "        fi[f'fold_{fold}'] = clf.feature_importance()\n",
    "\n",
    "        del x_tr, x_val, y_tr, y_val\n",
    "        gc.collect()\n",
    "        \n",
    "    print(f\"\\nMean AUC = {score_auc}\") # 폴드별 평균 Validation 스코어 출력\n",
    "    print(f\"Mean ACC = {score_acc}\")\n",
    "    print(f\"\\nOOF ACC = {accuracy_score(y, np.where(y_oof >= 0.5, 1, 0))}\")\n",
    "    print(f\"OOF AUC = {roc_auc_score(y, y_oof)}\") # Out Of Fold Validation 스코어 출력\n",
    "        \n",
    "    # 폴드별 피처 중요도 평균값 계산해서 저장 \n",
    "    fi_cols = [col for col in fi.columns if 'fold_' in col]\n",
    "    fi['importance'] = fi[fi_cols].mean(axis=1)\n",
    "    \n",
    "    return y_oof, test_preds, fi"
   ]
  },
  {
   "cell_type": "markdown",
   "id": "8feed108-d933-4ff2-aea4-0684ee2586bb",
   "metadata": {},
   "source": [
    "### 피처 중요도 플롯 함수 정의"
   ]
  },
  {
   "cell_type": "code",
   "execution_count": 45,
   "id": "334b68a1-5efe-45af-a37b-1b7739e1af51",
   "metadata": {},
   "outputs": [],
   "source": [
    "def plot_feature_importances(df, n=20, color='blue', figsize=(12,8)):\n",
    "    # 피처 중요도 순으로 내림차순 정렬\n",
    "    df = df.sort_values('importance', ascending = False).reset_index(drop = True)\n",
    "    \n",
    "    # 피처 중요도 정규화 및 누적 중요도 계산\n",
    "    df['importance_normalized'] = df['importance'] / df['importance'].sum()\n",
    "    df['cumulative_importance'] = np.cumsum(df['importance_normalized'])\n",
    "    \n",
    "    plt.rcParams['font.size'] = 12\n",
    "    plt.style.use('fivethirtyeight')\n",
    "    # 피처 중요도 순으로 n개까지 바플롯으로 그리기\n",
    "    df.loc[:n, :].plot.barh(y='importance_normalized', \n",
    "                            x='feature', color=color, \n",
    "                            edgecolor='k', figsize=figsize,\n",
    "                            legend=False)\n",
    "\n",
    "    plt.xlabel('Normalized Importance', size=18); plt.ylabel(''); \n",
    "    plt.title(f'Top {n} Most Important Features', size=18)\n",
    "    plt.gca().invert_yaxis()\n",
    "    \n",
    "    return df"
   ]
  },
  {
   "cell_type": "code",
   "execution_count": 46,
   "id": "de14bfa8-90d7-4158-bd53-b5c1d0d13164",
   "metadata": {},
   "outputs": [
    {
     "data": {
      "text/plain": [
       "Index(['userID', 'assessmentItemID', 'testId', 'answerCode', 'Timestamp',\n",
       "       'KnowledgeTag', 'day', 'user_correct_answer', 'user_total_answer',\n",
       "       'user_acc', 'test_mean', 'test_sum', 'tag_mean', 'tag_sum',\n",
       "       'item_ans_rate', 'time_stamp', 'elapsed_time', 'lag_time',\n",
       "       'user_recent_acc_5', 'user_recent_acc_10', 'user_recent_acc_30',\n",
       "       'user_recent_acc_50', 'user_recent_acc_100', 'rel_point',\n",
       "       'sum_rel_point', 'tag9', 'tag9_ans_rate', 'knowledgetag_stroke',\n",
       "       'testPre', 'testPost', 'test_preId_mean', 'test_preId_sum',\n",
       "       'test_postId_mean', 'test_postId_sum', 'test_time', 'u_test_time_acc'],\n",
       "      dtype='object')"
      ]
     },
     "execution_count": 46,
     "metadata": {},
     "output_type": "execute_result"
    }
   ],
   "source": [
    "train.columns"
   ]
  },
  {
   "cell_type": "markdown",
   "id": "d96f739d-7610-4e04-98dc-aabf58846611",
   "metadata": {
    "tags": []
   },
   "source": [
    "### 사용할 feature 설정"
   ]
  },
  {
   "cell_type": "code",
   "execution_count": 47,
   "id": "1933d3ad-615d-461f-ae3d-89ce7b3c01f8",
   "metadata": {},
   "outputs": [],
   "source": [
    "# 사용할 Feature 설정\n",
    "FEATS = ['KnowledgeTag', 'tag_sum', 'test_sum', 'testPost', 'test_postId_mean', 'test_preId_mean',\n",
    "         'user_acc', 'test_mean', 'tag_mean',\n",
    "         'elapsed_time', 'lag_time', 'item_ans_rate', #'u_test_time_acc',\n",
    "         'user_recent_acc_5', 'user_recent_acc_10', 'user_recent_acc_30', 'user_recent_acc_50', 'user_recent_acc_100',\n",
    "        'sum_rel_point', 'knowledgetag_stroke', 'testPre', 'test_time']#, 'tag9_ans_rate']"
   ]
  },
  {
   "cell_type": "markdown",
   "id": "01559d33-c031-4516-82c8-061ee2c0eb02",
   "metadata": {},
   "source": [
    "### Hyperparameter 선언"
   ]
  },
  {
   "cell_type": "code",
   "execution_count": 48,
   "id": "249a41fe-66a8-4972-b381-4ae4556325af",
   "metadata": {},
   "outputs": [],
   "source": [
    "SEED = 42\n",
    "params = {'objective': 'binary',\n",
    "          'metric': 'auc',\n",
    "          'boosting_type': 'gbdt',\n",
    "          'seed': 42,\n",
    "          'num_leaves': 45,\n",
    "          'learning_rate': 0.1\n",
    "         }"
   ]
  },
  {
   "cell_type": "markdown",
   "id": "8205fbbd-e73e-4020-88e4-c48bf5e39bca",
   "metadata": {},
   "source": [
    "### Train validation 성능 측정"
   ]
  },
  {
   "cell_type": "code",
   "execution_count": 70,
   "id": "57dd48ba-0b87-41a3-b3ad-f59e1016a5e7",
   "metadata": {
    "tags": []
   },
   "outputs": [
    {
     "name": "stdout",
     "output_type": "stream",
     "text": [
      "fold: 0, x_train.shape: (229572, 21), x_val.shape: (229564, 21)\n",
      "[LightGBM] [Info] Number of positive: 154333, number of negative: 75239\n",
      "[LightGBM] [Warning] Auto-choosing row-wise multi-threading, the overhead of testing was 0.005822 seconds.\n",
      "You can set `force_row_wise=true` to remove the overhead.\n",
      "And if memory is not enough, you can set `force_col_wise=true`.\n",
      "[LightGBM] [Info] Total Bins 3663\n",
      "[LightGBM] [Info] Number of data points in the train set: 229572, number of used features: 21\n",
      "[LightGBM] [Info] [binary:BoostFromScore]: pavg=0.672264 -> initscore=0.718443\n",
      "[LightGBM] [Info] Start training from score 0.718443\n",
      "[100]\ttraining's auc: 0.853761\tvalid_1's auc: 0.841494\n",
      "Fold 0 | AUC: 0.8414940951185669\n",
      "--------------------------------------------------------------------------------\n",
      "fold: 1, x_train.shape: (459136, 21), x_val.shape: (229564, 21)\n",
      "[LightGBM] [Info] Number of positive: 307366, number of negative: 151770\n",
      "[LightGBM] [Warning] Auto-choosing row-wise multi-threading, the overhead of testing was 0.011806 seconds.\n",
      "You can set `force_row_wise=true` to remove the overhead.\n",
      "And if memory is not enough, you can set `force_col_wise=true`.\n",
      "[LightGBM] [Info] Total Bins 3674\n",
      "[LightGBM] [Info] Number of data points in the train set: 459136, number of used features: 21\n",
      "[LightGBM] [Info] [binary:BoostFromScore]: pavg=0.669444 -> initscore=0.705673\n",
      "[LightGBM] [Info] Start training from score 0.705673\n",
      "[100]\ttraining's auc: 0.849584\tvalid_1's auc: 0.84279\n",
      "Fold 1 | AUC: 0.842790465058838\n",
      "--------------------------------------------------------------------------------\n",
      "fold: 2, x_train.shape: (688700, 21), x_val.shape: (229564, 21)\n",
      "[LightGBM] [Info] Number of positive: 459974, number of negative: 228726\n",
      "[LightGBM] [Warning] Auto-choosing row-wise multi-threading, the overhead of testing was 0.018308 seconds.\n",
      "You can set `force_row_wise=true` to remove the overhead.\n",
      "And if memory is not enough, you can set `force_col_wise=true`.\n",
      "[LightGBM] [Info] Total Bins 3692\n",
      "[LightGBM] [Info] Number of data points in the train set: 688700, number of used features: 21\n",
      "[LightGBM] [Info] [binary:BoostFromScore]: pavg=0.667887 -> initscore=0.698645\n",
      "[LightGBM] [Info] Start training from score 0.698645\n",
      "[100]\ttraining's auc: 0.848125\tvalid_1's auc: 0.843987\n",
      "Fold 2 | AUC: 0.8439866929879685\n",
      "--------------------------------------------------------------------------------\n",
      "fold: 3, x_train.shape: (918264, 21), x_val.shape: (229564, 21)\n",
      "[LightGBM] [Info] Number of positive: 616624, number of negative: 301640\n",
      "[LightGBM] [Warning] Auto-choosing row-wise multi-threading, the overhead of testing was 0.023327 seconds.\n",
      "You can set `force_row_wise=true` to remove the overhead.\n",
      "And if memory is not enough, you can set `force_col_wise=true`.\n",
      "[LightGBM] [Info] Total Bins 3693\n",
      "[LightGBM] [Info] Number of data points in the train set: 918264, number of used features: 21\n",
      "[LightGBM] [Info] [binary:BoostFromScore]: pavg=0.671511 -> initscore=0.715025\n",
      "[LightGBM] [Info] Start training from score 0.715025\n",
      "[100]\ttraining's auc: 0.847308\tvalid_1's auc: 0.842097\n",
      "Fold 3 | AUC: 0.8420974963657529\n",
      "--------------------------------------------------------------------------------\n",
      "fold: 4, x_train.shape: (1147828, 21), x_val.shape: (229564, 21)\n",
      "[LightGBM] [Info] Number of positive: 767138, number of negative: 380690\n",
      "[LightGBM] [Warning] Auto-choosing row-wise multi-threading, the overhead of testing was 0.028482 seconds.\n",
      "You can set `force_row_wise=true` to remove the overhead.\n",
      "And if memory is not enough, you can set `force_col_wise=true`.\n",
      "[LightGBM] [Info] Total Bins 3687\n",
      "[LightGBM] [Info] Number of data points in the train set: 1147828, number of used features: 21\n",
      "[LightGBM] [Info] [binary:BoostFromScore]: pavg=0.668339 -> initscore=0.700681\n",
      "[LightGBM] [Info] Start training from score 0.700681\n",
      "[100]\ttraining's auc: 0.846604\tvalid_1's auc: 0.839989\n",
      "Fold 4 | AUC: 0.8399891526810908\n",
      "--------------------------------------------------------------------------------\n",
      "fold: 5, x_train.shape: (1377392, 21), x_val.shape: (229564, 21)\n",
      "[LightGBM] [Info] Number of positive: 920828, number of negative: 456564\n",
      "[LightGBM] [Warning] Auto-choosing row-wise multi-threading, the overhead of testing was 0.034990 seconds.\n",
      "You can set `force_row_wise=true` to remove the overhead.\n",
      "And if memory is not enough, you can set `force_col_wise=true`.\n",
      "[LightGBM] [Info] Total Bins 3695\n",
      "[LightGBM] [Info] Number of data points in the train set: 1377392, number of used features: 21\n",
      "[LightGBM] [Info] [binary:BoostFromScore]: pavg=0.668530 -> initscore=0.701544\n",
      "[LightGBM] [Info] Start training from score 0.701544\n",
      "[100]\ttraining's auc: 0.845625\tvalid_1's auc: 0.847376\n",
      "Fold 5 | AUC: 0.8473758360035875\n",
      "--------------------------------------------------------------------------------\n",
      "fold: 6, x_train.shape: (1606956, 21), x_val.shape: (229564, 21)\n",
      "[LightGBM] [Info] Number of positive: 1069644, number of negative: 537312\n",
      "[LightGBM] [Warning] Auto-choosing row-wise multi-threading, the overhead of testing was 0.037145 seconds.\n",
      "You can set `force_row_wise=true` to remove the overhead.\n",
      "And if memory is not enough, you can set `force_col_wise=true`.\n",
      "[LightGBM] [Info] Total Bins 3699\n",
      "[LightGBM] [Info] Number of data points in the train set: 1606956, number of used features: 21\n",
      "[LightGBM] [Info] [binary:BoostFromScore]: pavg=0.665634 -> initscore=0.688502\n",
      "[LightGBM] [Info] Start training from score 0.688502\n",
      "[100]\ttraining's auc: 0.845875\tvalid_1's auc: 0.847328\n",
      "Fold 6 | AUC: 0.8473276399399106\n",
      "--------------------------------------------------------------------------------\n",
      "fold: 7, x_train.shape: (1836520, 21), x_val.shape: (229564, 21)\n",
      "[LightGBM] [Info] Number of positive: 1218207, number of negative: 618313\n",
      "[LightGBM] [Warning] Auto-choosing row-wise multi-threading, the overhead of testing was 0.045923 seconds.\n",
      "You can set `force_row_wise=true` to remove the overhead.\n",
      "And if memory is not enough, you can set `force_col_wise=true`.\n",
      "[LightGBM] [Info] Total Bins 3700\n",
      "[LightGBM] [Info] Number of data points in the train set: 1836520, number of used features: 21\n",
      "[LightGBM] [Info] [binary:BoostFromScore]: pavg=0.663324 -> initscore=0.678141\n",
      "[LightGBM] [Info] Start training from score 0.678141\n",
      "[100]\ttraining's auc: 0.846301\tvalid_1's auc: 0.846132\n",
      "Fold 7 | AUC: 0.8461323525476289\n",
      "--------------------------------------------------------------------------------\n",
      "fold: 8, x_train.shape: (2066084, 21), x_val.shape: (229564, 21)\n",
      "[LightGBM] [Info] Number of positive: 1365241, number of negative: 700843\n",
      "[LightGBM] [Warning] Auto-choosing row-wise multi-threading, the overhead of testing was 0.051886 seconds.\n",
      "You can set `force_row_wise=true` to remove the overhead.\n",
      "And if memory is not enough, you can set `force_col_wise=true`.\n",
      "[LightGBM] [Info] Total Bins 3703\n",
      "[LightGBM] [Info] Number of data points in the train set: 2066084, number of used features: 21\n",
      "[LightGBM] [Info] [binary:BoostFromScore]: pavg=0.660787 -> initscore=0.666802\n",
      "[LightGBM] [Info] Start training from score 0.666802\n",
      "[100]\ttraining's auc: 0.846239\tvalid_1's auc: 0.845065\n",
      "Fold 8 | AUC: 0.8450649345987697\n",
      "--------------------------------------------------------------------------------\n",
      "fold: 9, x_train.shape: (2295648, 21), x_val.shape: (229564, 21)\n",
      "[LightGBM] [Info] Number of positive: 1511692, number of negative: 783956\n",
      "[LightGBM] [Warning] Auto-choosing col-wise multi-threading, the overhead of testing was 0.216388 seconds.\n",
      "You can set `force_col_wise=true` to remove the overhead.\n",
      "[LightGBM] [Info] Total Bins 3706\n",
      "[LightGBM] [Info] Number of data points in the train set: 2295648, number of used features: 21\n",
      "[LightGBM] [Info] [binary:BoostFromScore]: pavg=0.658503 -> initscore=0.656632\n",
      "[LightGBM] [Info] Start training from score 0.656632\n",
      "[100]\ttraining's auc: 0.846198\tvalid_1's auc: 0.839499\n",
      "Fold 9 | AUC: 0.8394985075981349\n",
      "--------------------------------------------------------------------------------\n",
      "\n",
      "Mean AUC = 0.8435757172900249\n",
      "Mean ACC = 0.7909659180010804\n",
      "\n",
      "OOF ACC = 0.5450623551606756\n",
      "OOF AUC = 0.49343433472306947\n",
      "PRINT VALIDATION SCORE\n",
      "Precision: 0.78810\n",
      "ROC AUC Score: 0.84432\n",
      "CPU times: user 10min 34s, sys: 7.62 s, total: 10min 42s\n",
      "Wall time: 3min 21s\n"
     ]
    },
    {
     "data": {
      "text/html": [
       "\n",
       "                <audio  controls=\"controls\" autoplay=\"autoplay\">\n",
       "                    <source src=\"data:audio/ogg;base64,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\" type=\"audio/ogg\" />\n",
       "                    Your browser does not support the audio element.\n",
       "                </audio>\n",
       "              "
      ],
      "text/plain": [
       "<IPython.lib.display.Audio object>"
      ]
     },
     "execution_count": 70,
     "metadata": {},
     "output_type": "execute_result"
    }
   ],
   "source": [
    "%%time\n",
    "y_oof, val_preds, fi_val = make_lgb_oof_pred(train, valid, FEATS, params)\n",
    "print_score(y_valid, val_preds)\n",
    "Audio(\"https://upload.wikimedia.org/wikipedia/commons/0/05/Beep-09.ogg\", autoplay=True)"
   ]
  },
  {
   "cell_type": "markdown",
   "id": "2a03ae1f-b061-4811-afc5-f6e8b049e77f",
   "metadata": {},
   "source": [
    "### Feature importance plot"
   ]
  },
  {
   "cell_type": "code",
   "execution_count": 71,
   "id": "d22674ee-7cfc-4fbe-b97a-94408dd72452",
   "metadata": {},
   "outputs": [
    {
     "data": {
      "image/png": "[encoded data removed]",
      "text/plain": [
       "<Figure size 864x576 with 1 Axes>"
      ]
     },
     "metadata": {},
     "output_type": "display_data"
    }
   ],
   "source": [
    "fi_lgb = plot_feature_importances(fi_val)"
   ]
  },
  {
   "cell_type": "code",
   "execution_count": 152,
   "id": "fd5eeff1-b692-4bee-82f6-015b5a043f38",
   "metadata": {
    "collapsed": true,
    "jupyter": {
     "outputs_hidden": true
    },
    "tags": []
   },
   "outputs": [
    {
     "data": {
      "image/png": "[encoded data removed]",
      "text/plain": [
       "<Figure size 864x576 with 1 Axes>"
      ]
     },
     "metadata": {},
     "output_type": "display_data"
    }
   ],
   "source": [
    "# sns.distplot(test_preds)\n",
    "# plt.show()\n",
    "# 기존 플롯\n",
    "#fi_lgb = plot_feature_importances(fi)"
   ]
  },
  {
   "cell_type": "markdown",
   "id": "78a4525d-8447-45b2-b28d-0d320ef8ada3",
   "metadata": {},
   "source": [
    "## 5. Inference"
   ]
  },
  {
   "cell_type": "code",
   "execution_count": 52,
   "id": "1d0a6557-3a7c-45a7-8b3c-20dd4299060b",
   "metadata": {
    "tags": []
   },
   "outputs": [
    {
     "data": {
      "application/vnd.jupyter.widget-view+json": {
       "model_id": "1c1a898c723f4310b360f9e40917eb57",
       "version_major": 2,
       "version_minor": 0
      },
      "text/plain": [
       "  0%|          | 0/42962 [00:00<?, ?it/s]"
      ]
     },
     "metadata": {},
     "output_type": "display_data"
    },
    {
     "data": {
      "application/vnd.jupyter.widget-view+json": {
       "model_id": "837e5764ae5b4d0e9d95f7a76c8ba71c",
       "version_major": 2,
       "version_minor": 0
      },
      "text/plain": [
       "  0%|          | 0/744 [00:00<?, ?it/s]"
      ]
     },
     "metadata": {},
     "output_type": "display_data"
    },
    {
     "data": {
      "application/vnd.jupyter.widget-view+json": {
       "model_id": "52a762caf6054588957938096eb18bd5",
       "version_major": 2,
       "version_minor": 0
      },
      "text/plain": [
       "  0%|          | 0/5 [00:00<?, ?it/s]"
      ]
     },
     "metadata": {},
     "output_type": "display_data"
    },
    {
     "data": {
      "application/vnd.jupyter.widget-view+json": {
       "model_id": "5b314cc6875741d6bf1f1b6581461a2d",
       "version_major": 2,
       "version_minor": 0
      },
      "text/plain": [
       "  0%|          | 0/260114 [00:00<?, ?it/s]"
      ]
     },
     "metadata": {},
     "output_type": "display_data"
    },
    {
     "data": {
      "application/vnd.jupyter.widget-view+json": {
       "model_id": "2450b8e4090647bdbae3611be6a4667f",
       "version_major": 2,
       "version_minor": 0
      },
      "text/plain": [
       "  0%|          | 0/744 [00:00<?, ?it/s]"
      ]
     },
     "metadata": {},
     "output_type": "display_data"
    }
   ],
   "source": [
    "# FEATURE ENGINEERING\n",
    "test_df = feature_engineering(test_df)\n",
    "# TEST set: LEAVE LAST INTERACTION ONLY (users in test_data.csv)\n",
    "test = test_df[test_df['answerCode'].isin([-1])]\n",
    "# DROP ANSWERCODE\n",
    "test = test.drop(['answerCode'], axis=1)"
   ]
  },
  {
   "cell_type": "code",
   "execution_count": 73,
   "id": "7030f58b-35cb-4b19-8ae9-c75d86d78edd",
   "metadata": {},
   "outputs": [
    {
     "name": "stdout",
     "output_type": "stream",
     "text": [
      "fold: 0, x_train.shape: (229636, 21), x_val.shape: (229632, 21)\n",
      "[LightGBM] [Info] Number of positive: 154381, number of negative: 75255\n",
      "[LightGBM] [Warning] Auto-choosing row-wise multi-threading, the overhead of testing was 0.005428 seconds.\n",
      "You can set `force_row_wise=true` to remove the overhead.\n",
      "And if memory is not enough, you can set `force_col_wise=true`.\n",
      "[LightGBM] [Info] Total Bins 3658\n",
      "[LightGBM] [Info] Number of data points in the train set: 229636, number of used features: 21\n",
      "[LightGBM] [Info] [binary:BoostFromScore]: pavg=0.672286 -> initscore=0.718541\n",
      "[LightGBM] [Info] Start training from score 0.718541\n",
      "[100]\ttraining's auc: 0.853576\tvalid_1's auc: 0.841276\n",
      "Fold 0 | AUC: 0.8412762519529774\n",
      "--------------------------------------------------------------------------------\n",
      "fold: 1, x_train.shape: (459268, 21), x_val.shape: (229632, 21)\n",
      "[LightGBM] [Info] Number of positive: 307450, number of negative: 151818\n",
      "[LightGBM] [Warning] Auto-choosing row-wise multi-threading, the overhead of testing was 0.010710 seconds.\n",
      "You can set `force_row_wise=true` to remove the overhead.\n",
      "And if memory is not enough, you can set `force_col_wise=true`.\n",
      "[LightGBM] [Info] Total Bins 3671\n",
      "[LightGBM] [Info] Number of data points in the train set: 459268, number of used features: 21\n",
      "[LightGBM] [Info] [binary:BoostFromScore]: pavg=0.669435 -> initscore=0.705630\n",
      "[LightGBM] [Info] Start training from score 0.705630\n",
      "[100]\ttraining's auc: 0.849543\tvalid_1's auc: 0.842892\n",
      "Fold 1 | AUC: 0.8428916728817553\n",
      "--------------------------------------------------------------------------------\n",
      "fold: 2, x_train.shape: (688900, 21), x_val.shape: (229632, 21)\n",
      "[LightGBM] [Info] Number of positive: 460114, number of negative: 228786\n",
      "[LightGBM] [Warning] Auto-choosing row-wise multi-threading, the overhead of testing was 0.016508 seconds.\n",
      "You can set `force_row_wise=true` to remove the overhead.\n",
      "And if memory is not enough, you can set `force_col_wise=true`.\n",
      "[LightGBM] [Info] Total Bins 3686\n",
      "[LightGBM] [Info] Number of data points in the train set: 688900, number of used features: 21\n",
      "[LightGBM] [Info] [binary:BoostFromScore]: pavg=0.667897 -> initscore=0.698687\n",
      "[LightGBM] [Info] Start training from score 0.698687\n",
      "[100]\ttraining's auc: 0.848112\tvalid_1's auc: 0.843899\n",
      "Fold 2 | AUC: 0.8438991486092174\n",
      "--------------------------------------------------------------------------------\n",
      "fold: 3, x_train.shape: (918532, 21), x_val.shape: (229632, 21)\n",
      "[LightGBM] [Info] Number of positive: 616815, number of negative: 301717\n",
      "[LightGBM] [Warning] Auto-choosing row-wise multi-threading, the overhead of testing was 0.022155 seconds.\n",
      "You can set `force_row_wise=true` to remove the overhead.\n",
      "And if memory is not enough, you can set `force_col_wise=true`.\n",
      "[LightGBM] [Info] Total Bins 3690\n",
      "[LightGBM] [Info] Number of data points in the train set: 918532, number of used features: 21\n",
      "[LightGBM] [Info] [binary:BoostFromScore]: pavg=0.671523 -> initscore=0.715080\n",
      "[LightGBM] [Info] Start training from score 0.715080\n",
      "[100]\ttraining's auc: 0.84735\tvalid_1's auc: 0.842286\n",
      "Fold 3 | AUC: 0.8422863347920817\n",
      "--------------------------------------------------------------------------------\n",
      "fold: 4, x_train.shape: (1148164, 21), x_val.shape: (229632, 21)\n",
      "[LightGBM] [Info] Number of positive: 767373, number of negative: 380791\n",
      "[LightGBM] [Warning] Auto-choosing row-wise multi-threading, the overhead of testing was 0.028359 seconds.\n",
      "You can set `force_row_wise=true` to remove the overhead.\n",
      "And if memory is not enough, you can set `force_col_wise=true`.\n",
      "[LightGBM] [Info] Total Bins 3687\n",
      "[LightGBM] [Info] Number of data points in the train set: 1148164, number of used features: 21\n",
      "[LightGBM] [Info] [binary:BoostFromScore]: pavg=0.668348 -> initscore=0.700722\n",
      "[LightGBM] [Info] Start training from score 0.700722\n",
      "[100]\ttraining's auc: 0.846619\tvalid_1's auc: 0.840273\n",
      "Fold 4 | AUC: 0.8402726018373228\n",
      "--------------------------------------------------------------------------------\n",
      "fold: 5, x_train.shape: (1377796, 21), x_val.shape: (229632, 21)\n",
      "[LightGBM] [Info] Number of positive: 921003, number of negative: 456793\n",
      "[LightGBM] [Warning] Auto-choosing row-wise multi-threading, the overhead of testing was 0.033477 seconds.\n",
      "You can set `force_row_wise=true` to remove the overhead.\n",
      "And if memory is not enough, you can set `force_col_wise=true`.\n",
      "[LightGBM] [Info] Total Bins 3691\n",
      "[LightGBM] [Info] Number of data points in the train set: 1377796, number of used features: 21\n",
      "[LightGBM] [Info] [binary:BoostFromScore]: pavg=0.668461 -> initscore=0.701233\n",
      "[LightGBM] [Info] Start training from score 0.701233\n",
      "[100]\ttraining's auc: 0.845628\tvalid_1's auc: 0.847139\n",
      "Fold 5 | AUC: 0.8471392642852628\n",
      "--------------------------------------------------------------------------------\n",
      "fold: 6, x_train.shape: (1607428, 21), x_val.shape: (229632, 21)\n",
      "[LightGBM] [Info] Number of positive: 1069971, number of negative: 537457\n",
      "[LightGBM] [Warning] Auto-choosing row-wise multi-threading, the overhead of testing was 0.040365 seconds.\n",
      "You can set `force_row_wise=true` to remove the overhead.\n",
      "And if memory is not enough, you can set `force_col_wise=true`.\n",
      "[LightGBM] [Info] Total Bins 3695\n",
      "[LightGBM] [Info] Number of data points in the train set: 1607428, number of used features: 21\n",
      "[LightGBM] [Info] [binary:BoostFromScore]: pavg=0.665642 -> initscore=0.688538\n",
      "[LightGBM] [Info] Start training from score 0.688538\n",
      "[100]\ttraining's auc: 0.845969\tvalid_1's auc: 0.847328\n",
      "Fold 6 | AUC: 0.8473281985024507\n",
      "--------------------------------------------------------------------------------\n",
      "fold: 7, x_train.shape: (1837060, 21), x_val.shape: (229632, 21)\n",
      "[LightGBM] [Info] Number of positive: 1218575, number of negative: 618485\n",
      "[LightGBM] [Warning] Auto-choosing row-wise multi-threading, the overhead of testing was 0.045684 seconds.\n",
      "You can set `force_row_wise=true` to remove the overhead.\n",
      "And if memory is not enough, you can set `force_col_wise=true`.\n",
      "[LightGBM] [Info] Total Bins 3702\n",
      "[LightGBM] [Info] Number of data points in the train set: 1837060, number of used features: 21\n",
      "[LightGBM] [Info] [binary:BoostFromScore]: pavg=0.663329 -> initscore=0.678164\n",
      "[LightGBM] [Info] Start training from score 0.678164\n",
      "[100]\ttraining's auc: 0.846267\tvalid_1's auc: 0.846138\n",
      "Fold 7 | AUC: 0.8461383085578906\n",
      "--------------------------------------------------------------------------------\n",
      "fold: 8, x_train.shape: (2066692, 21), x_val.shape: (229632, 21)\n",
      "[LightGBM] [Info] Number of positive: 1365617, number of negative: 701075\n",
      "[LightGBM] [Warning] Auto-choosing row-wise multi-threading, the overhead of testing was 0.052262 seconds.\n",
      "You can set `force_row_wise=true` to remove the overhead.\n",
      "And if memory is not enough, you can set `force_col_wise=true`.\n",
      "[LightGBM] [Info] Total Bins 3703\n",
      "[LightGBM] [Info] Number of data points in the train set: 2066692, number of used features: 21\n",
      "[LightGBM] [Info] [binary:BoostFromScore]: pavg=0.660774 -> initscore=0.666747\n",
      "[LightGBM] [Info] Start training from score 0.666747\n",
      "[100]\ttraining's auc: 0.846326\tvalid_1's auc: 0.845229\n",
      "Fold 8 | AUC: 0.8452287001670986\n",
      "--------------------------------------------------------------------------------\n",
      "fold: 9, x_train.shape: (2296324, 21), x_val.shape: (229632, 21)\n",
      "[LightGBM] [Info] Number of positive: 1512105, number of negative: 784219\n",
      "[LightGBM] [Warning] Auto-choosing row-wise multi-threading, the overhead of testing was 0.058274 seconds.\n",
      "You can set `force_row_wise=true` to remove the overhead.\n",
      "And if memory is not enough, you can set `force_col_wise=true`.\n",
      "[LightGBM] [Info] Total Bins 3704\n",
      "[LightGBM] [Info] Number of data points in the train set: 2296324, number of used features: 21\n",
      "[LightGBM] [Info] [binary:BoostFromScore]: pavg=0.658489 -> initscore=0.656570\n",
      "[LightGBM] [Info] Start training from score 0.656570\n",
      "[100]\ttraining's auc: 0.84624\tvalid_1's auc: 0.83942\n",
      "Fold 9 | AUC: 0.8394195638486083\n",
      "--------------------------------------------------------------------------------\n",
      "\n",
      "Mean AUC = 0.8435880045434665\n",
      "Mean ACC = 0.7908540621516165\n",
      "\n",
      "OOF ACC = 0.544977426368472\n",
      "OOF AUC = 0.49365473768598234\n",
      "CPU times: user 10min 14s, sys: 7.41 s, total: 10min 21s\n",
      "Wall time: 3min 15s\n"
     ]
    }
   ],
   "source": [
    "%%time\n",
    "# MAKE PREDICTION\n",
    "y_oof, test_preds, fi_test = make_lgb_oof_pred(total_train, test, FEATS, params)"
   ]
  },
  {
   "cell_type": "code",
   "execution_count": 75,
   "id": "65293195-28af-4b0e-bc82-db6e8f08672d",
   "metadata": {},
   "outputs": [
    {
     "data": {
      "image/png": "[encoded data removed]",
      "text/plain": [
       "<Figure size 864x576 with 1 Axes>"
      ]
     },
     "metadata": {},
     "output_type": "display_data"
    }
   ],
   "source": [
    "fi_test_plt = plot_feature_importances(fi_test)"
   ]
  },
  {
   "cell_type": "markdown",
   "id": "98a9dfe0-2b68-4ea9-8cb0-1a620bda4fef",
   "metadata": {},
   "source": [
    "### Submit"
   ]
  },
  {
   "cell_type": "code",
   "execution_count": 76,
   "id": "b98a8ef9-98e4-4b7d-b503-8283287b06a6",
   "metadata": {},
   "outputs": [
    {
     "name": "stdout",
     "output_type": "stream",
     "text": [
      "writing prediction : output/0614_ts1.csv\n"
     ]
    }
   ],
   "source": [
    "# SAVE OUTPUT\n",
    "output_dir = 'output/'\n",
    "write_path = os.path.join(output_dir, \"0614_ts1.csv\")\n",
    "if not os.path.exists(output_dir):\n",
    "    os.makedirs(output_dir)    \n",
    "with open(write_path, 'w', encoding='utf8') as w:\n",
    "    print(\"writing prediction : {}\".format(write_path))\n",
    "    w.write(\"id,prediction\\n\")\n",
    "    for id, p in enumerate(test_preds):\n",
    "        w.write('{},{}\\n'.format(id,p))"
   ]
  },
  {
   "cell_type": "code",
   "execution_count": null,
   "id": "f720cc31-2234-4a8c-94e1-b293bfef403c",
   "metadata": {},
   "outputs": [],
   "source": [
    "# same1 = pd.read_csv(\"output/0609_same.csv\")\n",
    "# same2 = pd.read_csv(\"output/0609_same2.csv\")"
   ]
  },
  {
   "cell_type": "markdown",
   "id": "d4ae935f-b474-4d08-b15b-6df38e795702",
   "metadata": {},
   "source": [
    "## 6. Optuna objective func"
   ]
  },
  {
   "cell_type": "markdown",
   "id": "d58905c6-1caa-4929-aef8-374e0853d682",
   "metadata": {},
   "source": [
    "### objective lgb 함수 정의"
   ]
  },
  {
   "cell_type": "code",
   "execution_count": 139,
   "id": "68bc7e4f-852a-4234-bf7e-773ccd9f3c8c",
   "metadata": {},
   "outputs": [],
   "source": [
    "import optuna\n",
    "def objective_lgb(trial, label=y_valid):\n",
    "    lgb_params = {\n",
    "        'objective': 'binary', # 이진 분류\n",
    "        'boosting_type': 'gbdt',\n",
    "        'num_leaves': trial.suggest_int('num_leaves', 2, 256), # num_leaves 값을 2-256까지 정수값 중에 사용\n",
    "        'max_bin': trial.suggest_int('max_bin', 128, 256), # max_bin 값을 128-256까지 정수값 중에 사용\n",
    "        # min_data_in_leaf 값을 10-40까지 정수값 중에 사용\n",
    "        'min_data_in_leaf': trial.suggest_int('min_data_in_leaf', 10, 40),\n",
    "        # 피처 샘플링 비율을 0.4-1.0까지 중에 uniform 분포로 사용\n",
    "        'feature_fraction': trial.suggest_uniform('feature_fraction', 0.4, 1.0),\n",
    "        # 데이터 샘플링 비율을 0.4-1.0까지 중에 uniform 분포로 사용\n",
    "        'bagging_fraction': trial.suggest_uniform('bagging_fraction', 0.4, 1.0),\n",
    "        # 데이터 샘플링 횟수를 1-7까지 정수값 중에 사용\n",
    "        'bagging_freq': trial.suggest_int('bagging_freq', 1, 7),\n",
    "        'n_estimators': 10000, # 트리 개수\n",
    "        'early_stopping_rounds': 100,\n",
    "        # L1 값을 1e-8-10.0까지 로그 uniform 분포로 사용\n",
    "        'lambda_l1': trial.suggest_loguniform('lambda_l1', 1e-8, 10.0),\n",
    "        # L2 값을 1e-8-10.0까지 로그 uniform 분포로 사용\n",
    "        'lambda_l2': trial.suggest_loguniform('lambda_l2', 1e-8, 10.0),\n",
    "        'seed': SEED,\n",
    "        'verbose': -1,\n",
    "        'n_jobs': -1,    \n",
    "    }\n",
    "    \n",
    "    # oof prediction 함수 호출해서 out of fold validation 예측값을 얻어옴\n",
    "    y_oof, val_preds, fi_val = make_lgb_oof_pred(train, valid, FEATS, params)\n",
    "    # Validation 스코어 계산\n",
    "    val_auc_lgb = roc_auc_score(label, y_oof)\n",
    "    return val_auc_lgb"
   ]
  },
  {
   "cell_type": "markdown",
   "id": "640e8f2b-c400-4fc3-8d7e-7295e3efb546",
   "metadata": {},
   "source": [
    "### Optuna study 생성, auc이기 때문에 최대화 하는 방향으로 하이퍼 파라미터 탐색"
   ]
  },
  {
   "cell_type": "code",
   "execution_count": 141,
   "id": "772640e1-ee5c-4805-a37b-0e0494d56d48",
   "metadata": {},
   "outputs": [],
   "source": [
    "%%time\n",
    "study_lgb = optuna.create_study(direction='maximize')\n",
    "study_lgb.optimize(objective_lgb, n_trials=10) # 10회 동안 하이퍼 파라미터 탐색"
   ]
  },
  {
   "cell_type": "code",
   "execution_count": 77,
   "id": "63a7db4e-afb3-4343-aad7-86bc25cb6469",
   "metadata": {},
   "outputs": [
    {
     "data": {
      "text/html": [
       "<div>\n",
       "<style scoped>\n",
       "    .dataframe tbody tr th:only-of-type {\n",
       "        vertical-align: middle;\n",
       "    }\n",
       "\n",
       "    .dataframe tbody tr th {\n",
       "        vertical-align: top;\n",
       "    }\n",
       "\n",
       "    .dataframe thead th {\n",
       "        text-align: right;\n",
       "    }\n",
       "</style>\n",
       "<table border=\"1\" class=\"dataframe\">\n",
       "  <thead>\n",
       "    <tr style=\"text-align: right;\">\n",
       "      <th></th>\n",
       "      <th>userID</th>\n",
       "      <th>assessmentItemID</th>\n",
       "      <th>testId</th>\n",
       "      <th>answerCode</th>\n",
       "      <th>Timestamp</th>\n",
       "      <th>KnowledgeTag</th>\n",
       "      <th>day</th>\n",
       "      <th>user_correct_answer</th>\n",
       "      <th>user_total_answer</th>\n",
       "      <th>user_acc</th>\n",
       "      <th>...</th>\n",
       "      <th>tag9_ans_rate</th>\n",
       "      <th>knowledgetag_stroke</th>\n",
       "      <th>testPre</th>\n",
       "      <th>testPost</th>\n",
       "      <th>test_preId_mean</th>\n",
       "      <th>test_preId_sum</th>\n",
       "      <th>test_postId_mean</th>\n",
       "      <th>test_postId_sum</th>\n",
       "      <th>test_time</th>\n",
       "      <th>u_test_time_acc</th>\n",
       "    </tr>\n",
       "  </thead>\n",
       "  <tbody>\n",
       "    <tr>\n",
       "      <th>618489</th>\n",
       "      <td>784</td>\n",
       "      <td>A060014001</td>\n",
       "      <td>A060000014</td>\n",
       "      <td>1</td>\n",
       "      <td>2019-12-31 15:08:01</td>\n",
       "      <td>7229</td>\n",
       "      <td>2019-12-31</td>\n",
       "      <td>0.0</td>\n",
       "      <td>0</td>\n",
       "      <td>0.000000</td>\n",
       "      <td>...</td>\n",
       "      <td>0.697222</td>\n",
       "      <td>0.0</td>\n",
       "      <td>60</td>\n",
       "      <td>14</td>\n",
       "      <td>0.712279</td>\n",
       "      <td>211037</td>\n",
       "      <td>0.614887</td>\n",
       "      <td>9500</td>\n",
       "      <td>2</td>\n",
       "      <td>0.774306</td>\n",
       "    </tr>\n",
       "    <tr>\n",
       "      <th>618490</th>\n",
       "      <td>784</td>\n",
       "      <td>A060014002</td>\n",
       "      <td>A060000014</td>\n",
       "      <td>1</td>\n",
       "      <td>2019-12-31 15:08:21</td>\n",
       "      <td>7229</td>\n",
       "      <td>2019-12-31</td>\n",
       "      <td>1.0</td>\n",
       "      <td>1</td>\n",
       "      <td>1.000000</td>\n",
       "      <td>...</td>\n",
       "      <td>0.697222</td>\n",
       "      <td>1.0</td>\n",
       "      <td>60</td>\n",
       "      <td>14</td>\n",
       "      <td>0.712279</td>\n",
       "      <td>211037</td>\n",
       "      <td>0.614887</td>\n",
       "      <td>9500</td>\n",
       "      <td>2</td>\n",
       "      <td>0.774306</td>\n",
       "    </tr>\n",
       "    <tr>\n",
       "      <th>618491</th>\n",
       "      <td>784</td>\n",
       "      <td>A060014003</td>\n",
       "      <td>A060000014</td>\n",
       "      <td>1</td>\n",
       "      <td>2019-12-31 15:08:55</td>\n",
       "      <td>7229</td>\n",
       "      <td>2019-12-31</td>\n",
       "      <td>2.0</td>\n",
       "      <td>2</td>\n",
       "      <td>1.000000</td>\n",
       "      <td>...</td>\n",
       "      <td>0.697222</td>\n",
       "      <td>2.0</td>\n",
       "      <td>60</td>\n",
       "      <td>14</td>\n",
       "      <td>0.712279</td>\n",
       "      <td>211037</td>\n",
       "      <td>0.614887</td>\n",
       "      <td>9500</td>\n",
       "      <td>2</td>\n",
       "      <td>0.774306</td>\n",
       "    </tr>\n",
       "    <tr>\n",
       "      <th>618492</th>\n",
       "      <td>784</td>\n",
       "      <td>A060014004</td>\n",
       "      <td>A060000014</td>\n",
       "      <td>1</td>\n",
       "      <td>2019-12-31 15:09:13</td>\n",
       "      <td>7229</td>\n",
       "      <td>2019-12-31</td>\n",
       "      <td>3.0</td>\n",
       "      <td>3</td>\n",
       "      <td>1.000000</td>\n",
       "      <td>...</td>\n",
       "      <td>0.697222</td>\n",
       "      <td>3.0</td>\n",
       "      <td>60</td>\n",
       "      <td>14</td>\n",
       "      <td>0.712279</td>\n",
       "      <td>211037</td>\n",
       "      <td>0.614887</td>\n",
       "      <td>9500</td>\n",
       "      <td>2</td>\n",
       "      <td>0.774306</td>\n",
       "    </tr>\n",
       "    <tr>\n",
       "      <th>618493</th>\n",
       "      <td>784</td>\n",
       "      <td>A060014005</td>\n",
       "      <td>A060000014</td>\n",
       "      <td>0</td>\n",
       "      <td>2019-12-31 15:09:29</td>\n",
       "      <td>7229</td>\n",
       "      <td>2019-12-31</td>\n",
       "      <td>4.0</td>\n",
       "      <td>4</td>\n",
       "      <td>1.000000</td>\n",
       "      <td>...</td>\n",
       "      <td>0.697222</td>\n",
       "      <td>4.0</td>\n",
       "      <td>60</td>\n",
       "      <td>14</td>\n",
       "      <td>0.712279</td>\n",
       "      <td>211037</td>\n",
       "      <td>0.614887</td>\n",
       "      <td>9500</td>\n",
       "      <td>2</td>\n",
       "      <td>0.774306</td>\n",
       "    </tr>\n",
       "    <tr>\n",
       "      <th>...</th>\n",
       "      <td>...</td>\n",
       "      <td>...</td>\n",
       "      <td>...</td>\n",
       "      <td>...</td>\n",
       "      <td>...</td>\n",
       "      <td>...</td>\n",
       "      <td>...</td>\n",
       "      <td>...</td>\n",
       "      <td>...</td>\n",
       "      <td>...</td>\n",
       "      <td>...</td>\n",
       "      <td>...</td>\n",
       "      <td>...</td>\n",
       "      <td>...</td>\n",
       "      <td>...</td>\n",
       "      <td>...</td>\n",
       "      <td>...</td>\n",
       "      <td>...</td>\n",
       "      <td>...</td>\n",
       "      <td>...</td>\n",
       "      <td>...</td>\n",
       "    </tr>\n",
       "    <tr>\n",
       "      <th>469745</th>\n",
       "      <td>588</td>\n",
       "      <td>A070152004</td>\n",
       "      <td>A070000152</td>\n",
       "      <td>0</td>\n",
       "      <td>2020-12-29 16:46:08</td>\n",
       "      <td>7866</td>\n",
       "      <td>2020-12-29</td>\n",
       "      <td>336.0</td>\n",
       "      <td>624</td>\n",
       "      <td>0.538462</td>\n",
       "      <td>...</td>\n",
       "      <td>0.676471</td>\n",
       "      <td>0.0</td>\n",
       "      <td>70</td>\n",
       "      <td>152</td>\n",
       "      <td>0.521761</td>\n",
       "      <td>164447</td>\n",
       "      <td>0.682317</td>\n",
       "      <td>7397</td>\n",
       "      <td>2</td>\n",
       "      <td>0.520408</td>\n",
       "    </tr>\n",
       "    <tr>\n",
       "      <th>469746</th>\n",
       "      <td>588</td>\n",
       "      <td>A070152005</td>\n",
       "      <td>A070000152</td>\n",
       "      <td>1</td>\n",
       "      <td>2020-12-29 16:46:13</td>\n",
       "      <td>3288</td>\n",
       "      <td>2020-12-29</td>\n",
       "      <td>336.0</td>\n",
       "      <td>625</td>\n",
       "      <td>0.537600</td>\n",
       "      <td>...</td>\n",
       "      <td>0.676471</td>\n",
       "      <td>0.0</td>\n",
       "      <td>70</td>\n",
       "      <td>152</td>\n",
       "      <td>0.521761</td>\n",
       "      <td>164447</td>\n",
       "      <td>0.682317</td>\n",
       "      <td>7397</td>\n",
       "      <td>2</td>\n",
       "      <td>0.520408</td>\n",
       "    </tr>\n",
       "    <tr>\n",
       "      <th>469747</th>\n",
       "      <td>588</td>\n",
       "      <td>A070152006</td>\n",
       "      <td>A070000152</td>\n",
       "      <td>0</td>\n",
       "      <td>2020-12-29 16:46:15</td>\n",
       "      <td>9078</td>\n",
       "      <td>2020-12-29</td>\n",
       "      <td>337.0</td>\n",
       "      <td>626</td>\n",
       "      <td>0.538339</td>\n",
       "      <td>...</td>\n",
       "      <td>0.676471</td>\n",
       "      <td>0.0</td>\n",
       "      <td>70</td>\n",
       "      <td>152</td>\n",
       "      <td>0.521761</td>\n",
       "      <td>164447</td>\n",
       "      <td>0.682317</td>\n",
       "      <td>7397</td>\n",
       "      <td>2</td>\n",
       "      <td>0.520408</td>\n",
       "    </tr>\n",
       "    <tr>\n",
       "      <th>469748</th>\n",
       "      <td>588</td>\n",
       "      <td>A070152007</td>\n",
       "      <td>A070000152</td>\n",
       "      <td>0</td>\n",
       "      <td>2020-12-29 16:46:18</td>\n",
       "      <td>9080</td>\n",
       "      <td>2020-12-29</td>\n",
       "      <td>337.0</td>\n",
       "      <td>627</td>\n",
       "      <td>0.537480</td>\n",
       "      <td>...</td>\n",
       "      <td>0.676471</td>\n",
       "      <td>0.0</td>\n",
       "      <td>70</td>\n",
       "      <td>152</td>\n",
       "      <td>0.521761</td>\n",
       "      <td>164447</td>\n",
       "      <td>0.682317</td>\n",
       "      <td>7397</td>\n",
       "      <td>2</td>\n",
       "      <td>0.520408</td>\n",
       "    </tr>\n",
       "    <tr>\n",
       "      <th>469749</th>\n",
       "      <td>588</td>\n",
       "      <td>A070152008</td>\n",
       "      <td>A070000152</td>\n",
       "      <td>0</td>\n",
       "      <td>2020-12-29 16:46:21</td>\n",
       "      <td>7866</td>\n",
       "      <td>2020-12-29</td>\n",
       "      <td>337.0</td>\n",
       "      <td>628</td>\n",
       "      <td>0.536624</td>\n",
       "      <td>...</td>\n",
       "      <td>0.676471</td>\n",
       "      <td>0.0</td>\n",
       "      <td>70</td>\n",
       "      <td>152</td>\n",
       "      <td>0.521761</td>\n",
       "      <td>164447</td>\n",
       "      <td>0.682317</td>\n",
       "      <td>7397</td>\n",
       "      <td>2</td>\n",
       "      <td>0.520408</td>\n",
       "    </tr>\n",
       "  </tbody>\n",
       "</table>\n",
       "<p>2525956 rows × 36 columns</p>\n",
       "</div>"
      ],
      "text/plain": [
       "        userID assessmentItemID      testId  answerCode            Timestamp  \\\n",
       "618489     784       A060014001  A060000014           1  2019-12-31 15:08:01   \n",
       "618490     784       A060014002  A060000014           1  2019-12-31 15:08:21   \n",
       "618491     784       A060014003  A060000014           1  2019-12-31 15:08:55   \n",
       "618492     784       A060014004  A060000014           1  2019-12-31 15:09:13   \n",
       "618493     784       A060014005  A060000014           0  2019-12-31 15:09:29   \n",
       "...        ...              ...         ...         ...                  ...   \n",
       "469745     588       A070152004  A070000152           0  2020-12-29 16:46:08   \n",
       "469746     588       A070152005  A070000152           1  2020-12-29 16:46:13   \n",
       "469747     588       A070152006  A070000152           0  2020-12-29 16:46:15   \n",
       "469748     588       A070152007  A070000152           0  2020-12-29 16:46:18   \n",
       "469749     588       A070152008  A070000152           0  2020-12-29 16:46:21   \n",
       "\n",
       "        KnowledgeTag         day  user_correct_answer  user_total_answer  \\\n",
       "618489          7229  2019-12-31                  0.0                  0   \n",
       "618490          7229  2019-12-31                  1.0                  1   \n",
       "618491          7229  2019-12-31                  2.0                  2   \n",
       "618492          7229  2019-12-31                  3.0                  3   \n",
       "618493          7229  2019-12-31                  4.0                  4   \n",
       "...              ...         ...                  ...                ...   \n",
       "469745          7866  2020-12-29                336.0                624   \n",
       "469746          3288  2020-12-29                336.0                625   \n",
       "469747          9078  2020-12-29                337.0                626   \n",
       "469748          9080  2020-12-29                337.0                627   \n",
       "469749          7866  2020-12-29                337.0                628   \n",
       "\n",
       "        user_acc  ...  tag9_ans_rate  knowledgetag_stroke  testPre  testPost  \\\n",
       "618489  0.000000  ...       0.697222                  0.0       60        14   \n",
       "618490  1.000000  ...       0.697222                  1.0       60        14   \n",
       "618491  1.000000  ...       0.697222                  2.0       60        14   \n",
       "618492  1.000000  ...       0.697222                  3.0       60        14   \n",
       "618493  1.000000  ...       0.697222                  4.0       60        14   \n",
       "...          ...  ...            ...                  ...      ...       ...   \n",
       "469745  0.538462  ...       0.676471                  0.0       70       152   \n",
       "469746  0.537600  ...       0.676471                  0.0       70       152   \n",
       "469747  0.538339  ...       0.676471                  0.0       70       152   \n",
       "469748  0.537480  ...       0.676471                  0.0       70       152   \n",
       "469749  0.536624  ...       0.676471                  0.0       70       152   \n",
       "\n",
       "        test_preId_mean  test_preId_sum  test_postId_mean  test_postId_sum  \\\n",
       "618489         0.712279          211037          0.614887             9500   \n",
       "618490         0.712279          211037          0.614887             9500   \n",
       "618491         0.712279          211037          0.614887             9500   \n",
       "618492         0.712279          211037          0.614887             9500   \n",
       "618493         0.712279          211037          0.614887             9500   \n",
       "...                 ...             ...               ...              ...   \n",
       "469745         0.521761          164447          0.682317             7397   \n",
       "469746         0.521761          164447          0.682317             7397   \n",
       "469747         0.521761          164447          0.682317             7397   \n",
       "469748         0.521761          164447          0.682317             7397   \n",
       "469749         0.521761          164447          0.682317             7397   \n",
       "\n",
       "        test_time  u_test_time_acc  \n",
       "618489          2         0.774306  \n",
       "618490          2         0.774306  \n",
       "618491          2         0.774306  \n",
       "618492          2         0.774306  \n",
       "618493          2         0.774306  \n",
       "...           ...              ...  \n",
       "469745          2         0.520408  \n",
       "469746          2         0.520408  \n",
       "469747          2         0.520408  \n",
       "469748          2         0.520408  \n",
       "469749          2         0.520408  \n",
       "\n",
       "[2525956 rows x 36 columns]"
      ]
     },
     "execution_count": 77,
     "metadata": {},
     "output_type": "execute_result"
    }
   ],
   "source": [
    "total_train"
   ]
  },
  {
   "cell_type": "markdown",
   "id": "2679f231-760d-4972-bc61-63b99e11de5c",
   "metadata": {},
   "source": [
    "### Validation 스코어가 가장 잘 나온 하이퍼 파라미터 출력"
   ]
  },
  {
   "cell_type": "code",
   "execution_count": null,
   "id": "b46fd8cd-7e18-4252-a5a8-7e5405c2c2b9",
   "metadata": {},
   "outputs": [],
   "source": [
    "study_lgb.best_params"
   ]
  },
  {
   "cell_type": "markdown",
   "id": "04c2914c-959a-4cdf-bf31-a9f1a6060638",
   "metadata": {},
   "source": [
    "### 가장 성능이 잘 나온 Validation 스코어 출력"
   ]
  },
  {
   "cell_type": "code",
   "execution_count": 245,
   "id": "e1d97229-3a38-4211-ba2c-7f0e5f4269d2",
   "metadata": {},
   "outputs": [],
   "source": [
    "study_lgb.best_value"
   ]
  }
 ],
 "metadata": {
  "kernelspec": {
   "display_name": "Python 3",
   "language": "python",
   "name": "python3"
  },
  "language_info": {
   "codemirror_mode": {
    "name": "ipython",
    "version": 3
   },
   "file_extension": ".py",
   "mimetype": "text/x-python",
   "name": "python",
   "nbconvert_exporter": "python",
   "pygments_lexer": "ipython3",
   "version": "3.7.7"
  }
 },
 "nbformat": 4,
 "nbformat_minor": 5
}
